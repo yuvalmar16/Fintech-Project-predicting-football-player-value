{
 "cells": [
  {
   "cell_type": "code",
   "execution_count": 1,
   "metadata": {
    "ExecuteTime": {
     "end_time": "2024-10-14T10:23:14.634195Z",
     "start_time": "2024-10-14T10:23:14.632539Z"
    },
    "id": "EhzIVYGXITGV"
   },
   "outputs": [],
   "source": [
    "import pandas as pd\n",
    "from sklearn.model_selection import train_test_split\n",
    "from sklearn.linear_model import LinearRegression\n",
    "from sklearn.metrics import r2_score, mean_squared_error\n",
    "from tqdm import tqdm\n",
    "import numpy as np\n",
    "from sklearn.linear_model import Lasso\n",
    "import warnings\n",
    "from sklearn.exceptions import ConvergenceWarning\n",
    "from sklearn.ensemble import RandomForestRegressor\n",
    "import matplotlib.pyplot as plt\n",
    "from scipy.stats import gaussian_kde"
   ]
  },
  {
   "cell_type": "markdown",
   "metadata": {
    "id": "2CYEz4KoNMY-"
   },
   "source": [
    "# **Loading Data**"
   ]
  },
  {
   "cell_type": "code",
   "execution_count": 2,
   "metadata": {
    "ExecuteTime": {
     "end_time": "2024-10-14T10:24:53.264346Z",
     "start_time": "2024-10-14T10:24:53.261928Z"
    },
    "colab": {
     "base_uri": "https://localhost:8080/",
     "height": 303
    },
    "id": "XPGDzU1shH1R",
    "outputId": "b070ae79-2aef-4715-d432-9b424f5218a5"
   },
   "outputs": [],
   "source": [
    "def extract_last_name(full_name):\n",
    "    name_parts = full_name.split(' ')\n",
    "    if len(name_parts) > 1:\n",
    "        return ' '.join(name_parts[1:])\n",
    "    return full_name\n",
    "\n",
    "def extract_first_name(full_name):\n",
    "    name_parts = full_name.split(' ')\n",
    "    return ' '.join(name_parts[:1])\n"
   ]
  },
  {
   "cell_type": "code",
   "execution_count": 3,
   "metadata": {
    "ExecuteTime": {
     "end_time": "2024-10-14T10:25:33.649265Z",
     "start_time": "2024-10-14T10:25:33.644860Z"
    },
    "id": "Ob4kAM4VsB3O"
   },
   "outputs": [],
   "source": [
    "def pre_process_fifa (df):\n",
    "    df['last_name'] = df['short_name'].apply(extract_last_name)\n",
    "    df['first_name'] = df['long_name'].apply(extract_first_name)\n",
    "    df['name'] = df['first_name'] + ' ' + df['last_name']\n",
    "    standard_columns = {\n",
    "          'nationality': 'nationality_name',\n",
    "          'club': 'club_name',\n",
    "          'defending_marking': 'defending_marking_awareness',\n",
    "          'gk_diving': 'goalkeeping_diving',\n",
    "          'gk_handling': 'goalkeeping_handling',\n",
    "          'gk_kicking': 'goalkeeping_kicking',\n",
    "          'gk_reflexes': 'goalkeeping_reflexes',\n",
    "          'gk_speed': 'goalkeeping_speed',\n",
    "          'gk_positioning': 'goalkeeping_positioning',\n",
    "          'team_position': 'club_position',\n",
    "          'team_jersey_number': 'club_jersey_number',\n",
    "          'loaned_from': 'club_loaned_from',\n",
    "          'joined': 'club_joined',\n",
    "          'contract_valid_until': 'club_contract_valid_until',\n",
    "          'age' : 'fifa_age'\n",
    "      }\n",
    "\n",
    "    df.rename(columns=standard_columns, inplace=True)\n",
    "\n",
    "    columns_to_drop = ['player_url', 'dob', 'club_jersey_number', 'club_loaned_from', 'league_id' , 'fifa_age'\n",
    "                       'body_type', 'nation_jersey_number', 'real_face', 'last_name',\t'first_name',\n",
    "                       'club_contract_valid_until', 'club_logo_url', 'club_flag_url', 'club_team_id', 'nationality_id', \n",
    "                      'player_id',  'fifa_update', 'update_as_of', 'short_name', 'long_name', 'club_team_id', 'club_joined_date', 'nation_team_id',\n",
    "                     \n",
    "                       'nation_logo_url', 'nation_flag_url', 'league_name', 'sofifa_id', 'player_face_url'] #TODO INCLUDED BEFORE 'check fifa age and club contract\n",
    "    columns_existing_to_drop = [col for col in columns_to_drop if col in df.columns]\n",
    "    df = df.drop(columns=columns_existing_to_drop)\n",
    "    return df\n"
   ]
  },
  {
   "cell_type": "markdown",
   "metadata": {},
   "source": [
    "### Notice that you have to change the path to the data according to your PC"
   ]
  },
  {
   "cell_type": "code",
   "execution_count": 4,
   "metadata": {
    "ExecuteTime": {
     "end_time": "2024-10-14T10:26:22.421836Z",
     "start_time": "2024-10-14T10:26:20.430593Z"
    },
    "colab": {
     "base_uri": "https://localhost:8080/"
    },
    "id": "xTTqgVVLsqyd",
    "outputId": "517ae1c9-2011-4662-d6c6-18e7ac170e2e"
   },
   "outputs": [
    {
     "name": "stderr",
     "output_type": "stream",
     "text": [
      "/var/folders/6_/dhlq5ftj4c76n7p9cz2cjkyw0000gn/T/ipykernel_30346/2837656122.py:1: DtypeWarning: Columns (108) have mixed types. Specify dtype option on import or set low_memory=False.\n",
      "  df_24 = pd.read_csv('/Users/yardennahum/Desktop/Fintech Project/Data/Fifa_24.csv') # Define correct path to data\n"
     ]
    }
   ],
   "source": [
    "df_24 = pd.read_csv('/Users/yardennahum/Desktop/Fintech Project/Data/Fifa_24.csv') # Define correct path to data\n",
    "df_24 = df_24[df_24['fifa_version'] >= 15] # taking data from 2015 to 2024\n",
    "df_24 = pre_process_fifa (df_24)"
   ]
  },
  {
   "cell_type": "code",
   "execution_count": 5,
   "metadata": {
    "ExecuteTime": {
     "end_time": "2024-10-14T10:27:13.725461Z",
     "start_time": "2024-10-14T10:27:11.636638Z"
    },
    "colab": {
     "base_uri": "https://localhost:8080/",
     "height": 843
    },
    "id": "DJK1Hqw_tBvh",
    "outputId": "cd7f69d9-076c-42d7-d71b-77813e0b5319"
   },
   "outputs": [
    {
     "name": "stderr",
     "output_type": "stream",
     "text": [
      "/var/folders/6_/dhlq5ftj4c76n7p9cz2cjkyw0000gn/T/ipykernel_30346/2036026594.py:22: FutureWarning: The behavior of DataFrame concatenation with empty or all-NA entries is deprecated. In a future version, this will no longer exclude empty or all-NA columns when determining the result dtypes. To retain the old behavior, exclude the relevant entries before the concat operation.\n",
      "  full_joined_df = pd.concat(dfs_to_merge, ignore_index=True)\n"
     ]
    },
    {
     "name": "stdout",
     "output_type": "stream",
     "text": [
      "iteration 0 [22.]\n",
      "iteration 1 [22. 21.]\n",
      "iteration 2 [22. 21. 20.]\n",
      "iteration 3 [22. 21. 20. 19.]\n",
      "iteration 4 [22. 21. 20. 19. 18.]\n",
      "iteration 5 [22. 21. 20. 19. 18. 17.]\n",
      "iteration 6 [22. 21. 20. 19. 18. 17. 16.]\n",
      "iteration 7 [22. 21. 20. 19. 18. 17. 16. 15.]\n"
     ]
    },
    {
     "data": {
      "text/plain": [
       "77827"
      ]
     },
     "execution_count": 5,
     "metadata": {},
     "output_type": "execute_result"
    }
   ],
   "source": [
    "full_joined_df = pd.DataFrame(columns = df_24.columns.tolist())\n",
    "for i in range (8):\n",
    "    # take current year stats\n",
    "    df_fifa_current_year = df_24[df_24['fifa_version'] == (24 - i - 2)] \n",
    "\n",
    "    # take markt 1 year after\n",
    "    df_fifa_pre_year = df_24[df_24['fifa_version'] ==(24 - i - 1)][['value_eur', 'name']] \n",
    "    df_fifa_pre_year = df_fifa_pre_year.rename(columns={'value_eur': 'value_eur_1_year'})\n",
    "\n",
    "    # players stats 2 years after\n",
    "    df_fifa_pre_pre_year = df_24[df_24['fifa_version'] ==(24 - i )][['value_eur', 'name']] \n",
    "    df_fifa_pre_pre_year = df_fifa_pre_pre_year.rename(columns={'value_eur': 'value_eur_2_year'})\n",
    "\n",
    "    fifa_one_year_ago_now = pd.merge(df_fifa_current_year, df_fifa_pre_year, on='name', how='inner')\n",
    "    fifa_one_year_ago_now = fifa_one_year_ago_now.drop_duplicates(subset=['name'])\n",
    "\n",
    "\n",
    "    fifa_two_year_ago_now =  pd.merge(fifa_one_year_ago_now,df_fifa_pre_pre_year, on='name', how='inner')\n",
    "    fifa_two_year_ago_now = fifa_two_year_ago_now.drop_duplicates(subset=['name'])\n",
    "\n",
    "    dfs_to_merge = [full_joined_df, fifa_two_year_ago_now]\n",
    "    full_joined_df = pd.concat(dfs_to_merge, ignore_index=True)\n",
    "    print(\"iteration\", i, full_joined_df['fifa_version'].unique())\n",
    "\n",
    "full_joined_df.to_csv('merged_data.csv', index=False)\n",
    "\n",
    "len(full_joined_df)"
   ]
  },
  {
   "cell_type": "code",
   "execution_count": 6,
   "metadata": {},
   "outputs": [],
   "source": [
    "positions = ['LW', 'RF', 'RS', 'ST', 'SUB', 'LCB', 'RW', 'GK', 'RDM', 'LM',\n",
    "             'RCM', 'RCB', 'RB', 'LCM', 'LDM', 'RES', 'LB', 'LS', 'CAM', 'CDM',\n",
    "             'RM', 'CM', 'CF', 'CB', 'LF', 'LAM', 'LWB', None, 'RWB', 'RAM']\n",
    "\n",
    "# Define a mapping dictionary for different positions\n",
    "position_mapping = {\n",
    "    'GK': 1,  # Goalkeeper\n",
    "    'LCB': 2, 'RCB': 2, 'CB': 2, 'RB': 3, 'LB': 3, 'RWB': 3, 'LWB': 3,  # Defense\n",
    "    'CDM': 4, 'LDM': 4, 'RDM': 4, 'CM': 4, 'LCM': 4, 'RCM': 4, \n",
    "    'CAM': 5, 'LAM': 5, 'RAM': 5, 'LM': 5, 'RM': 5,  # Midfield\n",
    "    'LW': 5, 'RW': 5, 'LF': 6, 'RF': 6, 'LS': 6, 'RS': 6, 'ST': 6, 'CF': 6  # Attack\n",
    "}\n",
    "\n",
    "# Convert positions to numbers while keeping only values present in the mapping\n",
    "full_joined_df['position'] = full_joined_df['club_position'].map(position_mapping)\n",
    "\n",
    "# Remove irrelevant positions (those not in the mapping dictionary)\n",
    "full_joined_df = full_joined_df.dropna(subset=['position'])\n"
   ]
  },
  {
   "cell_type": "markdown",
   "metadata": {},
   "source": [
    "### Printing how many players from each position"
   ]
  },
  {
   "cell_type": "code",
   "execution_count": 7,
   "metadata": {},
   "outputs": [
    {
     "name": "stdout",
     "output_type": "stream",
     "text": [
      "number of players in position GK: 3662\n",
      "number of players in position CB: 7091\n",
      "number of players in position RB: 6474\n",
      "number of players in position DEFENCIVE MID: 7871\n",
      "number of players in position ATTACKING MID: 7821\n",
      "number of players in position STRIKER: 4427\n",
      "\n",
      "Total number of players in the data: 37346\n"
     ]
    }
   ],
   "source": [
    "pos_list = ['','GK', 'CB', 'RB', 'DEFENCIVE MID', 'ATTACKING MID', 'STRIKER']\n",
    "for i in range(1,7):\n",
    "    print(f\"number of players in position {pos_list[i]}:\", len(full_joined_df[full_joined_df['position'] == i]))\n",
    "print(f\"\\nTotal number of players in the data: {len(full_joined_df)}\")"
   ]
  },
  {
   "cell_type": "markdown",
   "metadata": {},
   "source": [
    "__player_traits and player_tags represent special skills so we will count them for each player__"
   ]
  },
  {
   "cell_type": "code",
   "execution_count": 8,
   "metadata": {},
   "outputs": [
    {
     "name": "stdout",
     "output_type": "stream",
     "text": [
      "Player tags:#Dribbler, #Distance Shooter, #FK Specialist, #Acrobat, #Clinical Finisher, #Complete Forward\n",
      "Player traits: Finesse Shot, Long Shot Taker (AI), Playmaker (AI), Outside Foot Shot, One Club Player, Chip Shot (AI), Technical Dribbler (AI)\n"
     ]
    }
   ],
   "source": [
    "# player tags represent the player skills\n",
    "print(f\"Player tags:{full_joined_df['player_tags'].unique()[0]}\")\n",
    "print(f\"Player traits: {full_joined_df['player_traits'].unique()[0]}\")"
   ]
  },
  {
   "cell_type": "code",
   "execution_count": 9,
   "metadata": {},
   "outputs": [],
   "source": [
    "#if the player didnt have skill is appear as nan so then we will define it as 0\n",
    "#the skills separate by , so we will split them and then count\n",
    "full_joined_df['player_tags'] = full_joined_df['player_tags'].apply(lambda x: len(set(x.split(','))) if isinstance(x, str) else 0)\n",
    "full_joined_df['player_traits'] = full_joined_df['player_traits'].apply(lambda x: len(set(x.split(','))) if isinstance(x, str) else 0)"
   ]
  },
  {
   "cell_type": "code",
   "execution_count": 10,
   "metadata": {},
   "outputs": [
    {
     "data": {
      "text/plain": [
       "array([7, 4, 2, 5, 6, 3, 1, 0, 8])"
      ]
     },
     "execution_count": 10,
     "metadata": {},
     "output_type": "execute_result"
    }
   ],
   "source": [
    "full_joined_df['player_tags'].unique()\n",
    "full_joined_df['player_traits'].unique()\n",
    "# We counted how many traits and skills every player has."
   ]
  },
  {
   "cell_type": "markdown",
   "metadata": {},
   "source": [
    "## Rating clubs\n",
    "__In order to help our model, we gave a grade between 1 to 5 for every club, according to FIFA.__"
   ]
  },
  {
   "cell_type": "code",
   "execution_count": 11,
   "metadata": {},
   "outputs": [],
   "source": [
    "# rate each team \n",
    "team_ratings = {    # דירוג 1 (הכי טוב)\n",
    " # דירוג 1 (הכי טוב)\n",
    "    'FC Barcelona': 1,\n",
    "    'Inter': 1,\n",
    "    'Atlético Madrid': 1,\n",
    "    'Chelsea': 1,\n",
    "    'Liverpool': 1,\n",
    "    'Manchester United': 1,\n",
    "    'Manchester City': 1,\n",
    "    'Real Madrid': 1,\n",
    "    'Juventus': 1,\n",
    "    'Paris Saint Germain': 1,\n",
    "    'FC Bayern München': 1,\n",
    "    'Arsenal': 1,\n",
    "    'Tottenham Hotspur': 1,\n",
    "    \n",
    "    # דירוג 2\n",
    "    'AC Milan': 2,\n",
    "    'Borussia Dortmund': 2,\n",
    "    'Roma': 2,\n",
    "    'Napoli': 2,\n",
    "    'Lazio': 2,\n",
    "    'Olympique de Marseille': 2,\n",
    "    'Ajax': 2,\n",
    "    'Benfica': 2,\n",
    "    'Porto': 2,\n",
    "    'Sporting CP': 2,\n",
    "    'Sevilla': 2,\n",
    "    'Real Betis': 2,\n",
    "    'Real Sociedad': 2,\n",
    "    'Villarreal': 2,\n",
    "    'Atalanta': 2,\n",
    "    'Everton': 2,\n",
    "    'Newcastle United': 2,\n",
    "    'Valencia': 2,\n",
    "    'West Ham United': 2,\n",
    "    \n",
    "    # דירוג 3\n",
    "    'Lille': 3,\n",
    "    'Lyon': 3,\n",
    "    'Nice': 3,\n",
    "    'Monaco': 3,\n",
    "    'Eintracht Frankfurt': 3,\n",
    "    'Bayer 04 Leverkusen': 3,\n",
    "    'RB Leipzig': 3,\n",
    "    'Wolfsburg': 3,\n",
    "    'Borussia Mönchengladbach': 3,\n",
    "    'Feyenoord': 3,\n",
    "    'PSV': 3,\n",
    "    'Club Brugge': 3,\n",
    "    'Celtic': 3,\n",
    "    'Rangers': 3,\n",
    "    'Zenit St. Petersburg': 3,\n",
    "    'Athletic Club': 3,\n",
    "    'Wolverhampton Wanderers': 3,\n",
    "    'Leicester City': 3,\n",
    "    'Brighton & Hove Albion': 3,\n",
    "    'Fiorentina': 3,\n",
    "    'Crystal Palace': 3,\n",
    "    'Hertha BSC': 3,\n",
    "    'Basel': 3,\n",
    "    'Rennes': 3,\n",
    "    'FC Utrecht': 3,\n",
    "    'Parma': 3,\n",
    "    'Spartak Moskva': 3,\n",
    "    'Beşiktaş': 3,\n",
    "    'Olympiakos Piraeus': 3,\n",
    "    'Burnley': 3,\n",
    "    'İstanbul Başakşehir': 3,\n",
    "    'Fulham': 3,\n",
    "    'River Plate': 3,\n",
    "    'Saint-Étienne': 3,\n",
    "    'Shakhtar Donetsk': 3,\n",
    "    'CSKA Moskva': 3,\n",
    "    'Dinamo Zagreb': 3,\n",
    "    'AZ Alkmaar': 3,\n",
    "    \n",
    "    # דירוג 4\n",
    "    'Anderlecht': 4,\n",
    "    'FSV Mainz 05': 4,\n",
    "    'Olympique Lyonnais': 4,\n",
    "    'Lens': 4,\n",
    "    'Genoa': 4,\n",
    "    'Almería': 4,\n",
    "    'SC Freiburg': 4,\n",
    "    'Torino': 4,\n",
    "    'FC Union Berlin': 4,\n",
    "    'Montpellier': 4,\n",
    "    'Leeds United': 4,\n",
    "    'Sassuolo': 4,\n",
    "    'Udinese': 4,\n",
    "    'Trabzonspor': 4,\n",
    "    'FC Köln': 4,\n",
    "    'Norwich City': 4,\n",
    "    'AFC Bournemouth': 4,\n",
    "    'Toulouse': 4,\n",
    "    'Schalke 04': 4,\n",
    "    'Aston Villa': 4,\n",
    "    'Hellas Verona': 4,\n",
    "    'Bologna': 4,\n",
    "    'Real Valladolid': 4,\n",
    "    'Getafe': 4,\n",
    "    'Osasuna': 4,\n",
    "    'Rayo Vallecano': 4,\n",
    "    'Granada': 4,\n",
    "    'Sheffield Wednesday': 4,\n",
    "    'Sampdoria': 4,\n",
    "    'Espanyol': 4,\n",
    "    'Mallorca': 4,\n",
    "    'Strasbourg': 4,\n",
    "    'Southampton': 4,\n",
    "    'Nantes': 4,\n",
    "    'Brøndby': 4,\n",
    "    'Darmstadt 98': 4,\n",
    "    'Bordeaux': 4,\n",
    "    'Coventry City': 4,\n",
    "    'Dijon': 4,\n",
    "    'SPAL': 4,\n",
    "    'Salzburg': 4,\n",
    "    'Sheffield United': 4,\n",
    "    'Midtjylland': 4,\n",
    "    'Talleres Córdoba': 4,\n",
    "    'Cagliari': 4,\n",
    "    'Huesca': 4,\n",
    "    'West Bromwich Albion': 4,\n",
    "    \n",
    "    # דירוג 5\n",
    "    'Como': 5,\n",
    "    'Salernitana': 5,\n",
    "    'Cádiz': 5,\n",
    "    'Las Palmas': 5,\n",
    "    'Abha': 5,\n",
    "    'Adana Demirspor': 5,\n",
    "    'FC Augsburg': 5,\n",
    "    'VfL Bochum 1848': 5,\n",
    "    'RWDM': 5,\n",
    "    'Hatayspor': 5,\n",
    "    'AEK Athens': 5,\n",
    "    'Osnabrück': 5,\n",
    "    'Bastia': 5,\n",
    "    'Al Fayha': 5,\n",
    "    'Cercle Brugge': 5,\n",
    "    'Laval': 5,\n",
    "    'Frosinone': 5,\n",
    "    'Swansea City': 5,\n",
    "    'Ternana': 5,\n",
    "    'Fatih Karagümrük': 5,\n",
    "    'Metz': 5,\n",
    "    'Troyes': 5,\n",
    "    'Chicago Fire': 5,\n",
    "    'Mirandés': 5,\n",
    "    'Burton Albion': 5,\n",
    "    'Preston North End': 5,\n",
    "    'Watford': 5,\n",
    "    'Atlanta United': 5,\n",
    "    'Brentford': 5,\n",
    "    'Empoli': 5,\n",
    "    'Stoke City': 5,\n",
    "    'DSC Arminia Bielefeld': 5,\n",
    "    'Sporting Charleroi': 5,\n",
    "    'Lokomotiv Moskva': 5,\n",
    "    'Antwerp': 5,\n",
    "    'APOEL': 5,\n",
    "    'Deportivo Alavés': 5,\n",
    "    'Fortuna Düsseldorf': 5,\n",
    "    'København': 5,\n",
    "    'SpVgg Greuther Fürth': 5,\n",
    "    'Galatasaray': 5,\n",
    "    'Pachuca': 5,\n",
    "    'Famalicão': 5,\n",
    "    'Deportivo de La Coruña': 5,\n",
    "    'Bursaspor': 5,\n",
    "    'Cruz Azul': 5,\n",
    "    'Independiente': 5,\n",
    "    'Zulte-Waregem': 5,\n",
    "    'Carpi': 5,\n",
    "    'Cesena': 5,\n",
    "    'Wisła Płock': 5,\n",
    "    'Barnsley': 5,\n",
    "    'Ascoli': 5,\n",
    "    'Novara Calcio': 5,\n",
    "    'Bari 1908': 5,\n",
    "    'Erzgebirge Aue': 5,\n",
    "    'Molde': 5,\n",
    "    'Ajaccio': 5,\n",
    "    'Newell\\'s Old Boys': 5,\n",
    "    'Sion': 5,\n",
    "    'Avellino': 5,\n",
    "    'Hibernian': 5,\n",
    "    'GFC Ajaccio': 5,\n",
    "    'Girona': 5,\n",
    "    'Legia Warszawa': 5,\n",
    "    'Charlotte': 5,\n",
    "    'Angers SCO': 5,\n",
    "    'Leganés': 5,\n",
    "    'Heracles Almelo': 5,\n",
    "    'Nottingham Forest': 5,\n",
    "    'Spezia': 5,\n",
    "    'Heidenheim': 5,\n",
    "    'Dynamo Dresden': 5,\n",
    "    'New York RB': 5,\n",
    "    'Sunderland': 5,\n",
    "    'Hannover 96': 5,\n",
    "    'SønderjyskE': 5,\n",
    "    'Nürnberg': 5,\n",
    "    'Vitória SC': 5,\n",
    "    'Beerschot': 5,\n",
    "    'Orlando Pirates': 5,\n",
    "    'LA Galaxy': 5,\n",
    "    'Rubin Kazan': 5,\n",
    "    'New York City': 5,\n",
    "    'Sparta Praha': 5,\n",
    "    'Santa Fe': 5,\n",
    "    'Le Havre': 5,\n",
    "    \n",
    "    'Lorient': 3,\n",
    "    'TSG Hoffenheim': 3,\n",
    "    'VfL Wolfsburg': 3,\n",
    "    'Brest': 3,\n",
    "    'NEC': 3,\n",
    "    'Magdeburg': 3,\n",
    "    'Stade de Reims': 3,\n",
    "    'Celta de Vigo': 3,\n",
    "    'Milan': 3,\n",
    "    'VfB Stuttgart': 3,\n",
    "    'Elche': 3,\n",
    "    'Werder Bremen': 3,\n",
    "    'Rosario Central': 3,\n",
    "    'Paris': 3,\n",
    "    'Levante': 3,\n",
    "    'Sporting Braga': 3,\n",
    "    'Sandhausen': 4,\n",
    "    'Benevento': 4,\n",
    "    'St. Pauli': 4,\n",
    "    'Venezia': 4,\n",
    "    'KV Oostende': 4,\n",
    "    'Ingolstadt': 4,\n",
    "    'Nîmes': 4,\n",
    "    'Racing Club': 4,\n",
    "    'FCSB': 4,\n",
    "    'Huddersfield Town': 4,\n",
    "    'Fenerbahçe': 4,\n",
    "    'Slavia Praha': 4,\n",
    "    'Bristol City': 4,\n",
    "    'Amiens SC': 4,\n",
    "    'Peñarol': 4,\n",
    "    'Brescia': 4,\n",
    "    'Godoy Cruz': 4,\n",
    "    'Crotone': 4,\n",
    "    'Karlsruher SC': 4,\n",
    "    'Lech Poznań': 4,\n",
    "    'Kortrijk': 4,\n",
    "    'Monza': 4,\n",
    "    'Lecce': 4,\n",
    "    'Birmingham City': 4,\n",
    "    'Nacional': 4,\n",
    "    'Lausanne Sport': 4,\n",
    "    'Kaiserslautern': 4,\n",
    "    'Lyngby': 4,\n",
    "    'Zürich': 4,\n",
    "    'Wehen Wiesbaden': 4,\n",
    "    'Panathinaikos': 4,\n",
    "    'Independiente del Valle': 4,\n",
    "    'Dallas': 4,\n",
    "    'Shanghai Shenhua': 4,\n",
    "    'Genk': 4,\n",
    "    'América': 4,\n",
    "    'Guingamp': 4,\n",
    "    'Al Ettifaq': 4,\n",
    "    'Vélez Sarsfield': 4,\n",
    "    'Hull City': 4,\n",
    "    'Gent': 4,\n",
    "    'Monterrey': 4,\n",
    "    'Vancouver Whitecaps': 4,\n",
    "    'Middlesbrough': 4,\n",
    "    'Standard Liège': 4,\n",
    "    'Hamburger SV': 4,\n",
    "    'Málaga': 4,\n",
    "    'Vitesse': 4,\n",
    "    'Kayserispor': 4,\n",
    "    'Philadelphia Union': 4,\n",
    "    'SD Eibar': 4,\n",
    "    'Alcorcón': 4,\n",
    "    'San Jose Earthquakes': 4,\n",
    "    'Caen': 4,\n",
    "    'Derby County': 4,\n",
    "    'Sturm Graz': 4,\n",
    "    'Albacete': 4,\n",
    "    'Cremonese': 4,\n",
    "    'Queens Park Rangers': 4,\n",
    "    'Livorno': 4,\n",
    "    'Pescara': 4,\n",
    "    'Real Zaragoza': 4,\n",
    "    'Rapid Wien': 4,\n",
    "    'Millwall': 4,\n",
    "    'Piast Gliwice': 4,\n",
    "    'Young Boys': 4,\n",
    "    'FC Groningen': 4,\n",
    "    'Blackburn Rovers': 4,\n",
    "    'IFK Göteborg': 4,\n",
    "    'CF Montréal': 4,\n",
    "    'Tenerife': 4,\n",
    "    'Perugia': 4,\n",
    "    'Fleetwood Town': 4,\n",
    "    'Pisa': 4,\n",
    "    'Chievo': 4,\n",
    "    'CD Numancia': 4,\n",
    "    'SC Heerenveen': 4,\n",
    "    'Auxerre': 4,\n",
    "    'Paços de Ferreira': 4,\n",
    "    'Cittadella': 4,\n",
    "    'Norrköping': 4,\n",
    "    'Virtus Entella Chiavari': 4,\n",
    "    'Servette': 4,\n",
    "    'Jahn Regensburg': 4,\n",
    "    'Castellammare di Stabia': 4,\n",
    "    'Würzburger Kickers': 4,\n",
    "    'Reading': 4,\n",
    "    'Clermont': 4,\n",
    "    'Padova': 4,\n",
    "    'Peterborough United': 4,\n",
    "    'Lugo': 4,\n",
    "    'Extremadura UD': 4,\n",
    "    'Unterhaching': 4,\n",
    "    'Royal Excel Mouscron': 4,\n",
    "    'Waasland-Beveren': 4,\n",
    "    'Valenciennes': 4,\n",
    "    'Charlton Athletic': 4,\n",
    "    'Córdoba CF': 4,\n",
    "    'St. Gallen': 4,\n",
    "    'Grasshopper': 4,\n",
    "    'Pogoń Szczecin': 4,\n",
    "    'Lorient': 3,\n",
    "    'TSG Hoffenheim': 3,\n",
    "    'VfL Wolfsburg': 3,\n",
    "    'Brest': 3,\n",
    "    'NEC': 3,\n",
    "    'Magdeburg': 3,\n",
    "    'Stade de Reims': 3,\n",
    "    'Celta de Vigo': 3,\n",
    "    'Milan': 3,\n",
    "    'VfB Stuttgart': 3,\n",
    "    'Elche': 3,\n",
    "    'Werder Bremen': 3,\n",
    "    'Rosario Central': 3,\n",
    "    'Paris': 3,\n",
    "    'Levante': 3,\n",
    "    'Sporting Braga': 3,\n",
    "    'Sandhausen': 4,\n",
    "    'Benevento': 4,\n",
    "    'St. Pauli': 4,\n",
    "    'Venezia': 4,\n",
    "    'KV Oostende': 4,\n",
    "    'Ingolstadt': 4,\n",
    "    'Nîmes': 4,\n",
    "    'Racing Club': 4,\n",
    "    'FCSB': 4,\n",
    "    'Huddersfield Town': 4,\n",
    "    'Fenerbahçe': 4,\n",
    "    'Slavia Praha': 4,\n",
    "    'Bristol City': 4,\n",
    "    'Amiens SC': 4,\n",
    "    'Peñarol': 4,\n",
    "    'Brescia': 4,\n",
    "    'Godoy Cruz': 4,\n",
    "    'Crotone': 4,\n",
    "    'Karlsruher SC': 4,\n",
    "    'Lech Poznań': 4,\n",
    "    'Kortrijk': 4,\n",
    "    'Monza': 4,\n",
    "    'Lecce': 4,\n",
    "    'Birmingham City': 4,\n",
    "    'Nacional': 4,\n",
    "    'Lausanne Sport': 4,\n",
    "    'Kaiserslautern': 4,\n",
    "    'Lyngby': 4,\n",
    "    'Zürich': 4,\n",
    "    'Wehen Wiesbaden': 4,\n",
    "    'Panathinaikos': 4,\n",
    "    'Independiente del Valle': 4,\n",
    "    'Dallas': 4,\n",
    "    'Shanghai Shenhua': 4,\n",
    "    'Genk': 4,\n",
    "    'América': 4,\n",
    "    'Guingamp': 4,\n",
    "    'Al Ettifaq': 4,\n",
    "    'Vélez Sarsfield': 4,\n",
    "    'Hull City': 4,\n",
    "    'Gent': 4,\n",
    "    'Monterrey': 4,\n",
    "    'Vancouver Whitecaps': 4,\n",
    "    'Middlesbrough': 4,\n",
    "    'Standard Liège': 4,\n",
    "    'Hamburger SV': 4,\n",
    "    'Málaga': 4,\n",
    "    'Vitesse': 4,\n",
    "    'Kayserispor': 4,\n",
    "    'Philadelphia Union': 4,\n",
    "    'SD Eibar': 4,\n",
    "    'Alcorcón': 4,\n",
    "    'San Jose Earthquakes': 4,\n",
    "    'Caen': 4,\n",
    "    'Derby County': 4,\n",
    "    'Sturm Graz': 4,\n",
    "    'Albacete': 4,\n",
    "    'Cremonese': 4,\n",
    "    'Queens Park Rangers': 4,\n",
    "    'Livorno': 4,\n",
    "    'Pescara': 4,\n",
    "    'Real Zaragoza': 5,\n",
    "    'Rapid Wien': 4,\n",
    "    'Millwall': 5,\n",
    "    'Piast Gliwice': 4,\n",
    "    'Young Boys': 4,\n",
    "    'FC Groningen': 4,\n",
    "    'Blackburn Rovers': 4,\n",
    "    'IFK Göteborg': 4,\n",
    "    'CF Montréal': 4,\n",
    "    'Tenerife': 4,\n",
    "    'Perugia': 4,\n",
    "    'Fleetwood Town': 4,\n",
    "    'Pisa': 4,\n",
    "    'Chievo': 4,\n",
    "    'CD Numancia': 4,\n",
    "    'SC Heerenveen': 4,\n",
    "    'Auxerre': 4,\n",
    "    'Paços de Ferreira': 4,\n",
    "    'Cittadella': 4,\n",
    "    'Norrköping': 4,\n",
    "    'Virtus Entella Chiavari': 4,\n",
    "    'Servette': 4,\n",
    "    'Jahn Regensburg': 4,\n",
    "    'Castellammare di Stabia': 4,\n",
    "    'Würzburger Kickers': 4,\n",
    "    'Reading': 4,\n",
    "    'Clermont': 4,\n",
    "    'Padova': 4,\n",
    "    'Peterborough United': 4,\n",
    "    'Lugo': 4,\n",
    "    'Extremadura UD': 4,\n",
    "    'Unterhaching': 4,\n",
    "    'Royal Excel Mouscron': 4,\n",
    "    'Waasland-Beveren': 4,\n",
    "    'Valenciennes': 4,\n",
    "    'Charlton Athletic': 4,\n",
    "    'Córdoba CF': 4,\n",
    "    'St. Gallen': 4,\n",
    "    'Grasshopper': 4,\n",
    "    'Pogoń Szczecin': 4,\n",
    "    'US Orléans Loiret Football': 4,\n",
    "    'Carlisle United': 4,\n",
    "    'Tigres UANL': 4,\n",
    "    'Boca Juniors': 4,\n",
    "    'Pumas UNAM': 4,\n",
    "    'Antalyaspor': 4,\n",
    "    'Al Nassr': 4,\n",
    "    'Argentinos Juniors': 4,\n",
    "    'Cardiff City': 4,\n",
    "    'Östersunds FK': 4,\n",
    "    'Gimnàstic de Tarragona': 4,\n",
    "    'Cosenza': 4,\n",
    "    'Wigan Athletic': 4,\n",
    "    'Palermo': 4,\n",
    "    'Alanyaspor': 4,\n",
    "    'Foggia': 4,\n",
    "    'Huachipato': 4,\n",
    "    'PAOK': 4,\n",
    "    'Paderborn': 4,\n",
    "}"
   ]
  },
  {
   "cell_type": "code",
   "execution_count": 12,
   "metadata": {},
   "outputs": [],
   "source": [
    "full_joined_df_copy = full_joined_df.copy()\n",
    "\n",
    "full_joined_df_copy['club_rank'] = full_joined_df_copy['club_name'].map(team_ratings).fillna(6)\n"
   ]
  },
  {
   "cell_type": "markdown",
   "metadata": {},
   "source": [
    "### Rating each nation, according to FIFA "
   ]
  },
  {
   "cell_type": "code",
   "execution_count": 13,
   "metadata": {},
   "outputs": [],
   "source": [
    "\n",
    "nationality_ratings = {\n",
    "    # קטגוריה 1\n",
    "    'Spain': 1, 'Germany': 1, 'France': 1, 'Brazil': 1, 'Argentina': 1,\n",
    "    'Portugal': 1, 'Netherlands': 1, 'Italy': 1, 'England': 1,\n",
    "\n",
    "    # קטגוריה 2\n",
    "    'Belgium': 2, 'Croatia': 2, 'Uruguay': 2, 'Denmark': 2, 'Sweden': 2,\n",
    "    'Colombia': 2, 'Mexico': 2, 'Switzerland': 2, 'Serbia': 2,\n",
    "\n",
    "    # קטגוריה 3\n",
    "    'Austria': 3, 'Poland': 3, 'Wales': 3, 'Czech Republic': 3, 'Russia': 3,\n",
    "    'Ukraine': 3, 'Chile': 3, 'Scotland': 3, 'Norway': 3, 'Turkey': 3,\n",
    "    'Nigeria': 3, 'Greece': 3, 'Ghana': 3,\n",
    "\n",
    "    # קטגוריה 4\n",
    "    'United States': 4, 'Japan': 4, 'Australia': 4, 'South Korea': 4,\n",
    "    'Morocco': 4, 'Tunisia': 4, 'Egypt': 4, 'Cameroon': 4, 'Senegal': 4,\n",
    "    'Slovakia': 4, 'Slovenia': 4, 'Bosnia and Herzegovina': 4,\n",
    "\n",
    "    # קטגוריה 5\n",
    "    'Israel': 5, 'Georgia': 5, 'Iceland': 5, 'Luxembourg': 5, 'Guinea': 5,\n",
    "    'Northern Ireland': 5, 'Romania': 5, 'Armenia': 5, 'Iran': 5,\n",
    "    'Kazakhstan': 5, 'Uzbekistan': 5, 'Belarus': 5, 'Algeria': 5,\n",
    "    'Mali': 5, 'Ivory Coast': 5, 'Angola': 5, 'Togo': 5, 'Zimbabwe': 5,\n",
    "    'Sierra Leone': 5, 'Bermuda': 5, 'Madagascar': 5, 'Azerbaijan': 5,\n",
    "    'Curacao': 5, 'Libya': 5, 'Iraq': 5, 'Kazakhstan': 5, 'Bulgaria': 5,\n",
    "    'Estonia': 5, 'Lithuania': 5, 'Libya': 5, 'Central African Republic': 5,\n",
    "    'Equatorial Guinea': 5, 'Comoros': 5, 'Benin': 5, 'Gambia': 5, 'Burundi': 5,\n",
    "    'Cape Verde Islands': 5, 'Guinea Bissau': 5, 'Tanzania': 5, 'Zambia': 5,\n",
    "    'Congo DR': 5, 'Venezuela': 5, 'Paraguay': 5, 'Costa Rica': 5,\n",
    "    'Honduras': 5, 'Panama': 5, 'Bermuda': 5, 'Trinidad and Tobago': 5,\n",
    "    'New Caledonia': 5, 'Montenegro': 5, 'North Macedonia': 5, 'Libya': 5,\n",
    "    'Jamaica': 5, 'Bulgaria': 5, 'Libya': 5, 'Libya': 5, 'Libya': 5, # just to make it repetitive \n",
    "}\n"
   ]
  },
  {
   "cell_type": "code",
   "execution_count": 14,
   "metadata": {},
   "outputs": [
    {
     "data": {
      "text/plain": [
       "0        1.0\n",
       "1        3.0\n",
       "2        1.0\n",
       "3        4.0\n",
       "4        1.0\n",
       "        ... \n",
       "77792    1.0\n",
       "77793    3.0\n",
       "77804    5.0\n",
       "77809    5.0\n",
       "77820    3.0\n",
       "Name: nationality_rating, Length: 37346, dtype: float64"
      ]
     },
     "execution_count": 14,
     "metadata": {},
     "output_type": "execute_result"
    }
   ],
   "source": [
    "full_joined_df_copy['nationality_rating'] = full_joined_df_copy['nationality_name'].map(nationality_ratings)\n",
    "full_joined_df_copy['nationality_rating'].fillna(5)\n"
   ]
  },
  {
   "cell_type": "markdown",
   "metadata": {},
   "source": [
    "__Changing 'work rate' to numeric__\n"
   ]
  },
  {
   "cell_type": "code",
   "execution_count": 15,
   "metadata": {},
   "outputs": [
    {
     "name": "stdout",
     "output_type": "stream",
     "text": [
      "[4 8 7 5 9 6 3 2 1]\n"
     ]
    }
   ],
   "source": [
    "work_rate_ratings = {\n",
    "    'High/High': 9,\n",
    "    'High/Medium': 8,\n",
    "    'High/Low': 7,\n",
    "    'Medium/High': 6,\n",
    "    'Medium/Medium': 5,\n",
    "    'Medium/Low': 4,\n",
    "    'Low/High': 3,\n",
    "    'Low/Medium': 2,\n",
    "    'Low/Low': 1}\n",
    "\n",
    "full_joined_df_copy['work_rate_numeric'] = full_joined_df_copy['work_rate'].map(work_rate_ratings)\n",
    "\n",
    "print(full_joined_df_copy['work_rate_numeric'].unique())"
   ]
  },
  {
   "cell_type": "code",
   "execution_count": 16,
   "metadata": {},
   "outputs": [],
   "source": [
    "# Rate for each position\n",
    "def calculate_sum(value):\n",
    "    if pd.isnull(value):\n",
    "        return value\n",
    "    try:\n",
    "        # Check for patterns of \"+\" \"-\" or \"/\" \n",
    "        if '+' in str(value):\n",
    "            numbers = value.split('+')\n",
    "            return int(numbers[0]) + int(numbers[1])  # Sum the two numbers\n",
    "        elif '-' in str(value):  # If the value includes \"-\"\n",
    "            numbers = value.split('-')\n",
    "            return int(numbers[0])  # Return only the first number\n",
    "        elif '/' in str(value):  # If the value includes \"/\"\n",
    "            numbers = value.split('/')\n",
    "            return int(numbers[0])  # Return only the first number\n",
    "        else:\n",
    "            return int(value)  # If no special character, return the value as is\n",
    "    except ValueError:\n",
    "        return value  # In case of an error, return the original value\n",
    "\n",
    "columns_to_check = [\n",
    "    'ls', 'st', 'rs', 'lw', 'lf', 'cf', 'rf', 'rw', 'lam', 'cam', 'ram',\n",
    "    'lm', 'lcm', 'cm', 'rcm', 'rm', 'lwb', 'ldm', 'cdm', 'rdm', 'rwb',\n",
    "    'lb', 'lcb', 'cb', 'rcb', 'rb', 'gk'\n",
    "]\n",
    "\n",
    "# Apply the function to each of the columns in the list\n",
    "for col in columns_to_check:\n",
    "    full_joined_df_copy[col] = full_joined_df_copy[col].apply(calculate_sum)\n",
    "\n"
   ]
  },
  {
   "cell_type": "code",
   "execution_count": 17,
   "metadata": {},
   "outputs": [
    {
     "name": "stdout",
     "output_type": "stream",
     "text": [
      "Number of columns after transformations: 94\n"
     ]
    },
    {
     "name": "stderr",
     "output_type": "stream",
     "text": [
      "/var/folders/6_/dhlq5ftj4c76n7p9cz2cjkyw0000gn/T/ipykernel_30346/3785742121.py:60: PerformanceWarning: DataFrame is highly fragmented.  This is usually the result of calling `frame.insert` many times, which has poor performance.  Consider joining all columns at once using pd.concat(axis=1) instead. To get a de-fragmented frame, use `newframe = frame.copy()`\n",
      "  full_joined_df_copy[f'age_{attr}'] = (45 - full_joined_df_copy['fifa_age']) * full_joined_df_copy[attr]\n",
      "/var/folders/6_/dhlq5ftj4c76n7p9cz2cjkyw0000gn/T/ipykernel_30346/3785742121.py:60: PerformanceWarning: DataFrame is highly fragmented.  This is usually the result of calling `frame.insert` many times, which has poor performance.  Consider joining all columns at once using pd.concat(axis=1) instead. To get a de-fragmented frame, use `newframe = frame.copy()`\n",
      "  full_joined_df_copy[f'age_{attr}'] = (45 - full_joined_df_copy['fifa_age']) * full_joined_df_copy[attr]\n",
      "/var/folders/6_/dhlq5ftj4c76n7p9cz2cjkyw0000gn/T/ipykernel_30346/3785742121.py:60: PerformanceWarning: DataFrame is highly fragmented.  This is usually the result of calling `frame.insert` many times, which has poor performance.  Consider joining all columns at once using pd.concat(axis=1) instead. To get a de-fragmented frame, use `newframe = frame.copy()`\n",
      "  full_joined_df_copy[f'age_{attr}'] = (45 - full_joined_df_copy['fifa_age']) * full_joined_df_copy[attr]\n",
      "/var/folders/6_/dhlq5ftj4c76n7p9cz2cjkyw0000gn/T/ipykernel_30346/3785742121.py:60: PerformanceWarning: DataFrame is highly fragmented.  This is usually the result of calling `frame.insert` many times, which has poor performance.  Consider joining all columns at once using pd.concat(axis=1) instead. To get a de-fragmented frame, use `newframe = frame.copy()`\n",
      "  full_joined_df_copy[f'age_{attr}'] = (45 - full_joined_df_copy['fifa_age']) * full_joined_df_copy[attr]\n",
      "/var/folders/6_/dhlq5ftj4c76n7p9cz2cjkyw0000gn/T/ipykernel_30346/3785742121.py:60: PerformanceWarning: DataFrame is highly fragmented.  This is usually the result of calling `frame.insert` many times, which has poor performance.  Consider joining all columns at once using pd.concat(axis=1) instead. To get a de-fragmented frame, use `newframe = frame.copy()`\n",
      "  full_joined_df_copy[f'age_{attr}'] = (45 - full_joined_df_copy['fifa_age']) * full_joined_df_copy[attr]\n",
      "/var/folders/6_/dhlq5ftj4c76n7p9cz2cjkyw0000gn/T/ipykernel_30346/3785742121.py:60: PerformanceWarning: DataFrame is highly fragmented.  This is usually the result of calling `frame.insert` many times, which has poor performance.  Consider joining all columns at once using pd.concat(axis=1) instead. To get a de-fragmented frame, use `newframe = frame.copy()`\n",
      "  full_joined_df_copy[f'age_{attr}'] = (45 - full_joined_df_copy['fifa_age']) * full_joined_df_copy[attr]\n",
      "/var/folders/6_/dhlq5ftj4c76n7p9cz2cjkyw0000gn/T/ipykernel_30346/3785742121.py:60: PerformanceWarning: DataFrame is highly fragmented.  This is usually the result of calling `frame.insert` many times, which has poor performance.  Consider joining all columns at once using pd.concat(axis=1) instead. To get a de-fragmented frame, use `newframe = frame.copy()`\n",
      "  full_joined_df_copy[f'age_{attr}'] = (45 - full_joined_df_copy['fifa_age']) * full_joined_df_copy[attr]\n",
      "/var/folders/6_/dhlq5ftj4c76n7p9cz2cjkyw0000gn/T/ipykernel_30346/3785742121.py:60: PerformanceWarning: DataFrame is highly fragmented.  This is usually the result of calling `frame.insert` many times, which has poor performance.  Consider joining all columns at once using pd.concat(axis=1) instead. To get a de-fragmented frame, use `newframe = frame.copy()`\n",
      "  full_joined_df_copy[f'age_{attr}'] = (45 - full_joined_df_copy['fifa_age']) * full_joined_df_copy[attr]\n",
      "/var/folders/6_/dhlq5ftj4c76n7p9cz2cjkyw0000gn/T/ipykernel_30346/3785742121.py:60: PerformanceWarning: DataFrame is highly fragmented.  This is usually the result of calling `frame.insert` many times, which has poor performance.  Consider joining all columns at once using pd.concat(axis=1) instead. To get a de-fragmented frame, use `newframe = frame.copy()`\n",
      "  full_joined_df_copy[f'age_{attr}'] = (45 - full_joined_df_copy['fifa_age']) * full_joined_df_copy[attr]\n",
      "/var/folders/6_/dhlq5ftj4c76n7p9cz2cjkyw0000gn/T/ipykernel_30346/3785742121.py:60: PerformanceWarning: DataFrame is highly fragmented.  This is usually the result of calling `frame.insert` many times, which has poor performance.  Consider joining all columns at once using pd.concat(axis=1) instead. To get a de-fragmented frame, use `newframe = frame.copy()`\n",
      "  full_joined_df_copy[f'age_{attr}'] = (45 - full_joined_df_copy['fifa_age']) * full_joined_df_copy[attr]\n",
      "/var/folders/6_/dhlq5ftj4c76n7p9cz2cjkyw0000gn/T/ipykernel_30346/3785742121.py:60: PerformanceWarning: DataFrame is highly fragmented.  This is usually the result of calling `frame.insert` many times, which has poor performance.  Consider joining all columns at once using pd.concat(axis=1) instead. To get a de-fragmented frame, use `newframe = frame.copy()`\n",
      "  full_joined_df_copy[f'age_{attr}'] = (45 - full_joined_df_copy['fifa_age']) * full_joined_df_copy[attr]\n",
      "/var/folders/6_/dhlq5ftj4c76n7p9cz2cjkyw0000gn/T/ipykernel_30346/3785742121.py:60: PerformanceWarning: DataFrame is highly fragmented.  This is usually the result of calling `frame.insert` many times, which has poor performance.  Consider joining all columns at once using pd.concat(axis=1) instead. To get a de-fragmented frame, use `newframe = frame.copy()`\n",
      "  full_joined_df_copy[f'age_{attr}'] = (45 - full_joined_df_copy['fifa_age']) * full_joined_df_copy[attr]\n",
      "/var/folders/6_/dhlq5ftj4c76n7p9cz2cjkyw0000gn/T/ipykernel_30346/3785742121.py:60: PerformanceWarning: DataFrame is highly fragmented.  This is usually the result of calling `frame.insert` many times, which has poor performance.  Consider joining all columns at once using pd.concat(axis=1) instead. To get a de-fragmented frame, use `newframe = frame.copy()`\n",
      "  full_joined_df_copy[f'age_{attr}'] = (45 - full_joined_df_copy['fifa_age']) * full_joined_df_copy[attr]\n",
      "/var/folders/6_/dhlq5ftj4c76n7p9cz2cjkyw0000gn/T/ipykernel_30346/3785742121.py:60: PerformanceWarning: DataFrame is highly fragmented.  This is usually the result of calling `frame.insert` many times, which has poor performance.  Consider joining all columns at once using pd.concat(axis=1) instead. To get a de-fragmented frame, use `newframe = frame.copy()`\n",
      "  full_joined_df_copy[f'age_{attr}'] = (45 - full_joined_df_copy['fifa_age']) * full_joined_df_copy[attr]\n",
      "/var/folders/6_/dhlq5ftj4c76n7p9cz2cjkyw0000gn/T/ipykernel_30346/3785742121.py:60: PerformanceWarning: DataFrame is highly fragmented.  This is usually the result of calling `frame.insert` many times, which has poor performance.  Consider joining all columns at once using pd.concat(axis=1) instead. To get a de-fragmented frame, use `newframe = frame.copy()`\n",
      "  full_joined_df_copy[f'age_{attr}'] = (45 - full_joined_df_copy['fifa_age']) * full_joined_df_copy[attr]\n",
      "/var/folders/6_/dhlq5ftj4c76n7p9cz2cjkyw0000gn/T/ipykernel_30346/3785742121.py:60: PerformanceWarning: DataFrame is highly fragmented.  This is usually the result of calling `frame.insert` many times, which has poor performance.  Consider joining all columns at once using pd.concat(axis=1) instead. To get a de-fragmented frame, use `newframe = frame.copy()`\n",
      "  full_joined_df_copy[f'age_{attr}'] = (45 - full_joined_df_copy['fifa_age']) * full_joined_df_copy[attr]\n",
      "/var/folders/6_/dhlq5ftj4c76n7p9cz2cjkyw0000gn/T/ipykernel_30346/3785742121.py:60: PerformanceWarning: DataFrame is highly fragmented.  This is usually the result of calling `frame.insert` many times, which has poor performance.  Consider joining all columns at once using pd.concat(axis=1) instead. To get a de-fragmented frame, use `newframe = frame.copy()`\n",
      "  full_joined_df_copy[f'age_{attr}'] = (45 - full_joined_df_copy['fifa_age']) * full_joined_df_copy[attr]\n",
      "/var/folders/6_/dhlq5ftj4c76n7p9cz2cjkyw0000gn/T/ipykernel_30346/3785742121.py:60: PerformanceWarning: DataFrame is highly fragmented.  This is usually the result of calling `frame.insert` many times, which has poor performance.  Consider joining all columns at once using pd.concat(axis=1) instead. To get a de-fragmented frame, use `newframe = frame.copy()`\n",
      "  full_joined_df_copy[f'age_{attr}'] = (45 - full_joined_df_copy['fifa_age']) * full_joined_df_copy[attr]\n",
      "/var/folders/6_/dhlq5ftj4c76n7p9cz2cjkyw0000gn/T/ipykernel_30346/3785742121.py:60: PerformanceWarning: DataFrame is highly fragmented.  This is usually the result of calling `frame.insert` many times, which has poor performance.  Consider joining all columns at once using pd.concat(axis=1) instead. To get a de-fragmented frame, use `newframe = frame.copy()`\n",
      "  full_joined_df_copy[f'age_{attr}'] = (45 - full_joined_df_copy['fifa_age']) * full_joined_df_copy[attr]\n",
      "/var/folders/6_/dhlq5ftj4c76n7p9cz2cjkyw0000gn/T/ipykernel_30346/3785742121.py:60: PerformanceWarning: DataFrame is highly fragmented.  This is usually the result of calling `frame.insert` many times, which has poor performance.  Consider joining all columns at once using pd.concat(axis=1) instead. To get a de-fragmented frame, use `newframe = frame.copy()`\n",
      "  full_joined_df_copy[f'age_{attr}'] = (45 - full_joined_df_copy['fifa_age']) * full_joined_df_copy[attr]\n",
      "/var/folders/6_/dhlq5ftj4c76n7p9cz2cjkyw0000gn/T/ipykernel_30346/3785742121.py:60: PerformanceWarning: DataFrame is highly fragmented.  This is usually the result of calling `frame.insert` many times, which has poor performance.  Consider joining all columns at once using pd.concat(axis=1) instead. To get a de-fragmented frame, use `newframe = frame.copy()`\n",
      "  full_joined_df_copy[f'age_{attr}'] = (45 - full_joined_df_copy['fifa_age']) * full_joined_df_copy[attr]\n",
      "/var/folders/6_/dhlq5ftj4c76n7p9cz2cjkyw0000gn/T/ipykernel_30346/3785742121.py:60: PerformanceWarning: DataFrame is highly fragmented.  This is usually the result of calling `frame.insert` many times, which has poor performance.  Consider joining all columns at once using pd.concat(axis=1) instead. To get a de-fragmented frame, use `newframe = frame.copy()`\n",
      "  full_joined_df_copy[f'age_{attr}'] = (45 - full_joined_df_copy['fifa_age']) * full_joined_df_copy[attr]\n",
      "/var/folders/6_/dhlq5ftj4c76n7p9cz2cjkyw0000gn/T/ipykernel_30346/3785742121.py:60: PerformanceWarning: DataFrame is highly fragmented.  This is usually the result of calling `frame.insert` many times, which has poor performance.  Consider joining all columns at once using pd.concat(axis=1) instead. To get a de-fragmented frame, use `newframe = frame.copy()`\n",
      "  full_joined_df_copy[f'age_{attr}'] = (45 - full_joined_df_copy['fifa_age']) * full_joined_df_copy[attr]\n",
      "/var/folders/6_/dhlq5ftj4c76n7p9cz2cjkyw0000gn/T/ipykernel_30346/3785742121.py:60: PerformanceWarning: DataFrame is highly fragmented.  This is usually the result of calling `frame.insert` many times, which has poor performance.  Consider joining all columns at once using pd.concat(axis=1) instead. To get a de-fragmented frame, use `newframe = frame.copy()`\n",
      "  full_joined_df_copy[f'age_{attr}'] = (45 - full_joined_df_copy['fifa_age']) * full_joined_df_copy[attr]\n",
      "/var/folders/6_/dhlq5ftj4c76n7p9cz2cjkyw0000gn/T/ipykernel_30346/3785742121.py:60: PerformanceWarning: DataFrame is highly fragmented.  This is usually the result of calling `frame.insert` many times, which has poor performance.  Consider joining all columns at once using pd.concat(axis=1) instead. To get a de-fragmented frame, use `newframe = frame.copy()`\n",
      "  full_joined_df_copy[f'age_{attr}'] = (45 - full_joined_df_copy['fifa_age']) * full_joined_df_copy[attr]\n",
      "/var/folders/6_/dhlq5ftj4c76n7p9cz2cjkyw0000gn/T/ipykernel_30346/3785742121.py:60: PerformanceWarning: DataFrame is highly fragmented.  This is usually the result of calling `frame.insert` many times, which has poor performance.  Consider joining all columns at once using pd.concat(axis=1) instead. To get a de-fragmented frame, use `newframe = frame.copy()`\n",
      "  full_joined_df_copy[f'age_{attr}'] = (45 - full_joined_df_copy['fifa_age']) * full_joined_df_copy[attr]\n",
      "/var/folders/6_/dhlq5ftj4c76n7p9cz2cjkyw0000gn/T/ipykernel_30346/3785742121.py:60: PerformanceWarning: DataFrame is highly fragmented.  This is usually the result of calling `frame.insert` many times, which has poor performance.  Consider joining all columns at once using pd.concat(axis=1) instead. To get a de-fragmented frame, use `newframe = frame.copy()`\n",
      "  full_joined_df_copy[f'age_{attr}'] = (45 - full_joined_df_copy['fifa_age']) * full_joined_df_copy[attr]\n",
      "/var/folders/6_/dhlq5ftj4c76n7p9cz2cjkyw0000gn/T/ipykernel_30346/3785742121.py:60: PerformanceWarning: DataFrame is highly fragmented.  This is usually the result of calling `frame.insert` many times, which has poor performance.  Consider joining all columns at once using pd.concat(axis=1) instead. To get a de-fragmented frame, use `newframe = frame.copy()`\n",
      "  full_joined_df_copy[f'age_{attr}'] = (45 - full_joined_df_copy['fifa_age']) * full_joined_df_copy[attr]\n",
      "/var/folders/6_/dhlq5ftj4c76n7p9cz2cjkyw0000gn/T/ipykernel_30346/3785742121.py:60: PerformanceWarning: DataFrame is highly fragmented.  This is usually the result of calling `frame.insert` many times, which has poor performance.  Consider joining all columns at once using pd.concat(axis=1) instead. To get a de-fragmented frame, use `newframe = frame.copy()`\n",
      "  full_joined_df_copy[f'age_{attr}'] = (45 - full_joined_df_copy['fifa_age']) * full_joined_df_copy[attr]\n",
      "/var/folders/6_/dhlq5ftj4c76n7p9cz2cjkyw0000gn/T/ipykernel_30346/3785742121.py:60: PerformanceWarning: DataFrame is highly fragmented.  This is usually the result of calling `frame.insert` many times, which has poor performance.  Consider joining all columns at once using pd.concat(axis=1) instead. To get a de-fragmented frame, use `newframe = frame.copy()`\n",
      "  full_joined_df_copy[f'age_{attr}'] = (45 - full_joined_df_copy['fifa_age']) * full_joined_df_copy[attr]\n",
      "/var/folders/6_/dhlq5ftj4c76n7p9cz2cjkyw0000gn/T/ipykernel_30346/3785742121.py:60: PerformanceWarning: DataFrame is highly fragmented.  This is usually the result of calling `frame.insert` many times, which has poor performance.  Consider joining all columns at once using pd.concat(axis=1) instead. To get a de-fragmented frame, use `newframe = frame.copy()`\n",
      "  full_joined_df_copy[f'age_{attr}'] = (45 - full_joined_df_copy['fifa_age']) * full_joined_df_copy[attr]\n",
      "/var/folders/6_/dhlq5ftj4c76n7p9cz2cjkyw0000gn/T/ipykernel_30346/3785742121.py:60: PerformanceWarning: DataFrame is highly fragmented.  This is usually the result of calling `frame.insert` many times, which has poor performance.  Consider joining all columns at once using pd.concat(axis=1) instead. To get a de-fragmented frame, use `newframe = frame.copy()`\n",
      "  full_joined_df_copy[f'age_{attr}'] = (45 - full_joined_df_copy['fifa_age']) * full_joined_df_copy[attr]\n",
      "/var/folders/6_/dhlq5ftj4c76n7p9cz2cjkyw0000gn/T/ipykernel_30346/3785742121.py:60: PerformanceWarning: DataFrame is highly fragmented.  This is usually the result of calling `frame.insert` many times, which has poor performance.  Consider joining all columns at once using pd.concat(axis=1) instead. To get a de-fragmented frame, use `newframe = frame.copy()`\n",
      "  full_joined_df_copy[f'age_{attr}'] = (45 - full_joined_df_copy['fifa_age']) * full_joined_df_copy[attr]\n",
      "/var/folders/6_/dhlq5ftj4c76n7p9cz2cjkyw0000gn/T/ipykernel_30346/3785742121.py:60: PerformanceWarning: DataFrame is highly fragmented.  This is usually the result of calling `frame.insert` many times, which has poor performance.  Consider joining all columns at once using pd.concat(axis=1) instead. To get a de-fragmented frame, use `newframe = frame.copy()`\n",
      "  full_joined_df_copy[f'age_{attr}'] = (45 - full_joined_df_copy['fifa_age']) * full_joined_df_copy[attr]\n",
      "/var/folders/6_/dhlq5ftj4c76n7p9cz2cjkyw0000gn/T/ipykernel_30346/3785742121.py:60: PerformanceWarning: DataFrame is highly fragmented.  This is usually the result of calling `frame.insert` many times, which has poor performance.  Consider joining all columns at once using pd.concat(axis=1) instead. To get a de-fragmented frame, use `newframe = frame.copy()`\n",
      "  full_joined_df_copy[f'age_{attr}'] = (45 - full_joined_df_copy['fifa_age']) * full_joined_df_copy[attr]\n",
      "/var/folders/6_/dhlq5ftj4c76n7p9cz2cjkyw0000gn/T/ipykernel_30346/3785742121.py:60: PerformanceWarning: DataFrame is highly fragmented.  This is usually the result of calling `frame.insert` many times, which has poor performance.  Consider joining all columns at once using pd.concat(axis=1) instead. To get a de-fragmented frame, use `newframe = frame.copy()`\n",
      "  full_joined_df_copy[f'age_{attr}'] = (45 - full_joined_df_copy['fifa_age']) * full_joined_df_copy[attr]\n",
      "/var/folders/6_/dhlq5ftj4c76n7p9cz2cjkyw0000gn/T/ipykernel_30346/3785742121.py:60: PerformanceWarning: DataFrame is highly fragmented.  This is usually the result of calling `frame.insert` many times, which has poor performance.  Consider joining all columns at once using pd.concat(axis=1) instead. To get a de-fragmented frame, use `newframe = frame.copy()`\n",
      "  full_joined_df_copy[f'age_{attr}'] = (45 - full_joined_df_copy['fifa_age']) * full_joined_df_copy[attr]\n",
      "/var/folders/6_/dhlq5ftj4c76n7p9cz2cjkyw0000gn/T/ipykernel_30346/3785742121.py:60: PerformanceWarning: DataFrame is highly fragmented.  This is usually the result of calling `frame.insert` many times, which has poor performance.  Consider joining all columns at once using pd.concat(axis=1) instead. To get a de-fragmented frame, use `newframe = frame.copy()`\n",
      "  full_joined_df_copy[f'age_{attr}'] = (45 - full_joined_df_copy['fifa_age']) * full_joined_df_copy[attr]\n",
      "/var/folders/6_/dhlq5ftj4c76n7p9cz2cjkyw0000gn/T/ipykernel_30346/3785742121.py:60: PerformanceWarning: DataFrame is highly fragmented.  This is usually the result of calling `frame.insert` many times, which has poor performance.  Consider joining all columns at once using pd.concat(axis=1) instead. To get a de-fragmented frame, use `newframe = frame.copy()`\n",
      "  full_joined_df_copy[f'age_{attr}'] = (45 - full_joined_df_copy['fifa_age']) * full_joined_df_copy[attr]\n",
      "/var/folders/6_/dhlq5ftj4c76n7p9cz2cjkyw0000gn/T/ipykernel_30346/3785742121.py:60: PerformanceWarning: DataFrame is highly fragmented.  This is usually the result of calling `frame.insert` many times, which has poor performance.  Consider joining all columns at once using pd.concat(axis=1) instead. To get a de-fragmented frame, use `newframe = frame.copy()`\n",
      "  full_joined_df_copy[f'age_{attr}'] = (45 - full_joined_df_copy['fifa_age']) * full_joined_df_copy[attr]\n",
      "/var/folders/6_/dhlq5ftj4c76n7p9cz2cjkyw0000gn/T/ipykernel_30346/3785742121.py:60: PerformanceWarning: DataFrame is highly fragmented.  This is usually the result of calling `frame.insert` many times, which has poor performance.  Consider joining all columns at once using pd.concat(axis=1) instead. To get a de-fragmented frame, use `newframe = frame.copy()`\n",
      "  full_joined_df_copy[f'age_{attr}'] = (45 - full_joined_df_copy['fifa_age']) * full_joined_df_copy[attr]\n",
      "/var/folders/6_/dhlq5ftj4c76n7p9cz2cjkyw0000gn/T/ipykernel_30346/3785742121.py:66: PerformanceWarning: DataFrame is highly fragmented.  This is usually the result of calling `frame.insert` many times, which has poor performance.  Consider joining all columns at once using pd.concat(axis=1) instead. To get a de-fragmented frame, use `newframe = frame.copy()`\n",
      "  full_joined_df_copy['release_clause_wage'] = full_joined_df_copy['release_clause_eur'] * full_joined_df_copy['wage_eur']  # Indicates importance for the current team\n",
      "/var/folders/6_/dhlq5ftj4c76n7p9cz2cjkyw0000gn/T/ipykernel_30346/3785742121.py:68: PerformanceWarning: DataFrame is highly fragmented.  This is usually the result of calling `frame.insert` many times, which has poor performance.  Consider joining all columns at once using pd.concat(axis=1) instead. To get a de-fragmented frame, use `newframe = frame.copy()`\n",
      "  full_joined_df_copy['age_potential'] = full_joined_df_copy['fifa_age'] * full_joined_df_copy['potential']\n",
      "/var/folders/6_/dhlq5ftj4c76n7p9cz2cjkyw0000gn/T/ipykernel_30346/3785742121.py:70: PerformanceWarning: DataFrame is highly fragmented.  This is usually the result of calling `frame.insert` many times, which has poor performance.  Consider joining all columns at once using pd.concat(axis=1) instead. To get a de-fragmented frame, use `newframe = frame.copy()`\n",
      "  full_joined_df_copy['potential_improve'] = full_joined_df_copy['potential'] - full_joined_df_copy['overall']\n",
      "/var/folders/6_/dhlq5ftj4c76n7p9cz2cjkyw0000gn/T/ipykernel_30346/3785742121.py:76: PerformanceWarning: DataFrame is highly fragmented.  This is usually the result of calling `frame.insert` many times, which has poor performance.  Consider joining all columns at once using pd.concat(axis=1) instead. To get a de-fragmented frame, use `newframe = frame.copy()`\n",
      "  full_joined_df_copy[f'{col} ** 2'] = full_joined_df_copy[col] ** 2\n",
      "/var/folders/6_/dhlq5ftj4c76n7p9cz2cjkyw0000gn/T/ipykernel_30346/3785742121.py:76: PerformanceWarning: DataFrame is highly fragmented.  This is usually the result of calling `frame.insert` many times, which has poor performance.  Consider joining all columns at once using pd.concat(axis=1) instead. To get a de-fragmented frame, use `newframe = frame.copy()`\n",
      "  full_joined_df_copy[f'{col} ** 2'] = full_joined_df_copy[col] ** 2\n",
      "/var/folders/6_/dhlq5ftj4c76n7p9cz2cjkyw0000gn/T/ipykernel_30346/3785742121.py:76: PerformanceWarning: DataFrame is highly fragmented.  This is usually the result of calling `frame.insert` many times, which has poor performance.  Consider joining all columns at once using pd.concat(axis=1) instead. To get a de-fragmented frame, use `newframe = frame.copy()`\n",
      "  full_joined_df_copy[f'{col} ** 2'] = full_joined_df_copy[col] ** 2\n",
      "/var/folders/6_/dhlq5ftj4c76n7p9cz2cjkyw0000gn/T/ipykernel_30346/3785742121.py:76: PerformanceWarning: DataFrame is highly fragmented.  This is usually the result of calling `frame.insert` many times, which has poor performance.  Consider joining all columns at once using pd.concat(axis=1) instead. To get a de-fragmented frame, use `newframe = frame.copy()`\n",
      "  full_joined_df_copy[f'{col} ** 2'] = full_joined_df_copy[col] ** 2\n",
      "/var/folders/6_/dhlq5ftj4c76n7p9cz2cjkyw0000gn/T/ipykernel_30346/3785742121.py:76: PerformanceWarning: DataFrame is highly fragmented.  This is usually the result of calling `frame.insert` many times, which has poor performance.  Consider joining all columns at once using pd.concat(axis=1) instead. To get a de-fragmented frame, use `newframe = frame.copy()`\n",
      "  full_joined_df_copy[f'{col} ** 2'] = full_joined_df_copy[col] ** 2\n",
      "/var/folders/6_/dhlq5ftj4c76n7p9cz2cjkyw0000gn/T/ipykernel_30346/3785742121.py:76: PerformanceWarning: DataFrame is highly fragmented.  This is usually the result of calling `frame.insert` many times, which has poor performance.  Consider joining all columns at once using pd.concat(axis=1) instead. To get a de-fragmented frame, use `newframe = frame.copy()`\n",
      "  full_joined_df_copy[f'{col} ** 2'] = full_joined_df_copy[col] ** 2\n",
      "/var/folders/6_/dhlq5ftj4c76n7p9cz2cjkyw0000gn/T/ipykernel_30346/3785742121.py:76: PerformanceWarning: DataFrame is highly fragmented.  This is usually the result of calling `frame.insert` many times, which has poor performance.  Consider joining all columns at once using pd.concat(axis=1) instead. To get a de-fragmented frame, use `newframe = frame.copy()`\n",
      "  full_joined_df_copy[f'{col} ** 2'] = full_joined_df_copy[col] ** 2\n",
      "/var/folders/6_/dhlq5ftj4c76n7p9cz2cjkyw0000gn/T/ipykernel_30346/3785742121.py:76: PerformanceWarning: DataFrame is highly fragmented.  This is usually the result of calling `frame.insert` many times, which has poor performance.  Consider joining all columns at once using pd.concat(axis=1) instead. To get a de-fragmented frame, use `newframe = frame.copy()`\n",
      "  full_joined_df_copy[f'{col} ** 2'] = full_joined_df_copy[col] ** 2\n",
      "/var/folders/6_/dhlq5ftj4c76n7p9cz2cjkyw0000gn/T/ipykernel_30346/3785742121.py:76: PerformanceWarning: DataFrame is highly fragmented.  This is usually the result of calling `frame.insert` many times, which has poor performance.  Consider joining all columns at once using pd.concat(axis=1) instead. To get a de-fragmented frame, use `newframe = frame.copy()`\n",
      "  full_joined_df_copy[f'{col} ** 2'] = full_joined_df_copy[col] ** 2\n",
      "/var/folders/6_/dhlq5ftj4c76n7p9cz2cjkyw0000gn/T/ipykernel_30346/3785742121.py:76: PerformanceWarning: DataFrame is highly fragmented.  This is usually the result of calling `frame.insert` many times, which has poor performance.  Consider joining all columns at once using pd.concat(axis=1) instead. To get a de-fragmented frame, use `newframe = frame.copy()`\n",
      "  full_joined_df_copy[f'{col} ** 2'] = full_joined_df_copy[col] ** 2\n",
      "/var/folders/6_/dhlq5ftj4c76n7p9cz2cjkyw0000gn/T/ipykernel_30346/3785742121.py:76: PerformanceWarning: DataFrame is highly fragmented.  This is usually the result of calling `frame.insert` many times, which has poor performance.  Consider joining all columns at once using pd.concat(axis=1) instead. To get a de-fragmented frame, use `newframe = frame.copy()`\n",
      "  full_joined_df_copy[f'{col} ** 2'] = full_joined_df_copy[col] ** 2\n",
      "/var/folders/6_/dhlq5ftj4c76n7p9cz2cjkyw0000gn/T/ipykernel_30346/3785742121.py:76: PerformanceWarning: DataFrame is highly fragmented.  This is usually the result of calling `frame.insert` many times, which has poor performance.  Consider joining all columns at once using pd.concat(axis=1) instead. To get a de-fragmented frame, use `newframe = frame.copy()`\n",
      "  full_joined_df_copy[f'{col} ** 2'] = full_joined_df_copy[col] ** 2\n",
      "/var/folders/6_/dhlq5ftj4c76n7p9cz2cjkyw0000gn/T/ipykernel_30346/3785742121.py:76: PerformanceWarning: DataFrame is highly fragmented.  This is usually the result of calling `frame.insert` many times, which has poor performance.  Consider joining all columns at once using pd.concat(axis=1) instead. To get a de-fragmented frame, use `newframe = frame.copy()`\n",
      "  full_joined_df_copy[f'{col} ** 2'] = full_joined_df_copy[col] ** 2\n",
      "/var/folders/6_/dhlq5ftj4c76n7p9cz2cjkyw0000gn/T/ipykernel_30346/3785742121.py:76: PerformanceWarning: DataFrame is highly fragmented.  This is usually the result of calling `frame.insert` many times, which has poor performance.  Consider joining all columns at once using pd.concat(axis=1) instead. To get a de-fragmented frame, use `newframe = frame.copy()`\n",
      "  full_joined_df_copy[f'{col} ** 2'] = full_joined_df_copy[col] ** 2\n",
      "/var/folders/6_/dhlq5ftj4c76n7p9cz2cjkyw0000gn/T/ipykernel_30346/3785742121.py:76: PerformanceWarning: DataFrame is highly fragmented.  This is usually the result of calling `frame.insert` many times, which has poor performance.  Consider joining all columns at once using pd.concat(axis=1) instead. To get a de-fragmented frame, use `newframe = frame.copy()`\n",
      "  full_joined_df_copy[f'{col} ** 2'] = full_joined_df_copy[col] ** 2\n",
      "/var/folders/6_/dhlq5ftj4c76n7p9cz2cjkyw0000gn/T/ipykernel_30346/3785742121.py:76: PerformanceWarning: DataFrame is highly fragmented.  This is usually the result of calling `frame.insert` many times, which has poor performance.  Consider joining all columns at once using pd.concat(axis=1) instead. To get a de-fragmented frame, use `newframe = frame.copy()`\n",
      "  full_joined_df_copy[f'{col} ** 2'] = full_joined_df_copy[col] ** 2\n",
      "/var/folders/6_/dhlq5ftj4c76n7p9cz2cjkyw0000gn/T/ipykernel_30346/3785742121.py:76: PerformanceWarning: DataFrame is highly fragmented.  This is usually the result of calling `frame.insert` many times, which has poor performance.  Consider joining all columns at once using pd.concat(axis=1) instead. To get a de-fragmented frame, use `newframe = frame.copy()`\n",
      "  full_joined_df_copy[f'{col} ** 2'] = full_joined_df_copy[col] ** 2\n",
      "/var/folders/6_/dhlq5ftj4c76n7p9cz2cjkyw0000gn/T/ipykernel_30346/3785742121.py:76: PerformanceWarning: DataFrame is highly fragmented.  This is usually the result of calling `frame.insert` many times, which has poor performance.  Consider joining all columns at once using pd.concat(axis=1) instead. To get a de-fragmented frame, use `newframe = frame.copy()`\n",
      "  full_joined_df_copy[f'{col} ** 2'] = full_joined_df_copy[col] ** 2\n",
      "/var/folders/6_/dhlq5ftj4c76n7p9cz2cjkyw0000gn/T/ipykernel_30346/3785742121.py:76: PerformanceWarning: DataFrame is highly fragmented.  This is usually the result of calling `frame.insert` many times, which has poor performance.  Consider joining all columns at once using pd.concat(axis=1) instead. To get a de-fragmented frame, use `newframe = frame.copy()`\n",
      "  full_joined_df_copy[f'{col} ** 2'] = full_joined_df_copy[col] ** 2\n",
      "/var/folders/6_/dhlq5ftj4c76n7p9cz2cjkyw0000gn/T/ipykernel_30346/3785742121.py:76: PerformanceWarning: DataFrame is highly fragmented.  This is usually the result of calling `frame.insert` many times, which has poor performance.  Consider joining all columns at once using pd.concat(axis=1) instead. To get a de-fragmented frame, use `newframe = frame.copy()`\n",
      "  full_joined_df_copy[f'{col} ** 2'] = full_joined_df_copy[col] ** 2\n",
      "/var/folders/6_/dhlq5ftj4c76n7p9cz2cjkyw0000gn/T/ipykernel_30346/3785742121.py:76: PerformanceWarning: DataFrame is highly fragmented.  This is usually the result of calling `frame.insert` many times, which has poor performance.  Consider joining all columns at once using pd.concat(axis=1) instead. To get a de-fragmented frame, use `newframe = frame.copy()`\n",
      "  full_joined_df_copy[f'{col} ** 2'] = full_joined_df_copy[col] ** 2\n",
      "/var/folders/6_/dhlq5ftj4c76n7p9cz2cjkyw0000gn/T/ipykernel_30346/3785742121.py:76: PerformanceWarning: DataFrame is highly fragmented.  This is usually the result of calling `frame.insert` many times, which has poor performance.  Consider joining all columns at once using pd.concat(axis=1) instead. To get a de-fragmented frame, use `newframe = frame.copy()`\n",
      "  full_joined_df_copy[f'{col} ** 2'] = full_joined_df_copy[col] ** 2\n",
      "/var/folders/6_/dhlq5ftj4c76n7p9cz2cjkyw0000gn/T/ipykernel_30346/3785742121.py:76: PerformanceWarning: DataFrame is highly fragmented.  This is usually the result of calling `frame.insert` many times, which has poor performance.  Consider joining all columns at once using pd.concat(axis=1) instead. To get a de-fragmented frame, use `newframe = frame.copy()`\n",
      "  full_joined_df_copy[f'{col} ** 2'] = full_joined_df_copy[col] ** 2\n",
      "/var/folders/6_/dhlq5ftj4c76n7p9cz2cjkyw0000gn/T/ipykernel_30346/3785742121.py:76: PerformanceWarning: DataFrame is highly fragmented.  This is usually the result of calling `frame.insert` many times, which has poor performance.  Consider joining all columns at once using pd.concat(axis=1) instead. To get a de-fragmented frame, use `newframe = frame.copy()`\n",
      "  full_joined_df_copy[f'{col} ** 2'] = full_joined_df_copy[col] ** 2\n",
      "/var/folders/6_/dhlq5ftj4c76n7p9cz2cjkyw0000gn/T/ipykernel_30346/3785742121.py:76: PerformanceWarning: DataFrame is highly fragmented.  This is usually the result of calling `frame.insert` many times, which has poor performance.  Consider joining all columns at once using pd.concat(axis=1) instead. To get a de-fragmented frame, use `newframe = frame.copy()`\n",
      "  full_joined_df_copy[f'{col} ** 2'] = full_joined_df_copy[col] ** 2\n",
      "/var/folders/6_/dhlq5ftj4c76n7p9cz2cjkyw0000gn/T/ipykernel_30346/3785742121.py:76: PerformanceWarning: DataFrame is highly fragmented.  This is usually the result of calling `frame.insert` many times, which has poor performance.  Consider joining all columns at once using pd.concat(axis=1) instead. To get a de-fragmented frame, use `newframe = frame.copy()`\n",
      "  full_joined_df_copy[f'{col} ** 2'] = full_joined_df_copy[col] ** 2\n",
      "/var/folders/6_/dhlq5ftj4c76n7p9cz2cjkyw0000gn/T/ipykernel_30346/3785742121.py:76: PerformanceWarning: DataFrame is highly fragmented.  This is usually the result of calling `frame.insert` many times, which has poor performance.  Consider joining all columns at once using pd.concat(axis=1) instead. To get a de-fragmented frame, use `newframe = frame.copy()`\n",
      "  full_joined_df_copy[f'{col} ** 2'] = full_joined_df_copy[col] ** 2\n",
      "/var/folders/6_/dhlq5ftj4c76n7p9cz2cjkyw0000gn/T/ipykernel_30346/3785742121.py:76: PerformanceWarning: DataFrame is highly fragmented.  This is usually the result of calling `frame.insert` many times, which has poor performance.  Consider joining all columns at once using pd.concat(axis=1) instead. To get a de-fragmented frame, use `newframe = frame.copy()`\n",
      "  full_joined_df_copy[f'{col} ** 2'] = full_joined_df_copy[col] ** 2\n",
      "/var/folders/6_/dhlq5ftj4c76n7p9cz2cjkyw0000gn/T/ipykernel_30346/3785742121.py:76: PerformanceWarning: DataFrame is highly fragmented.  This is usually the result of calling `frame.insert` many times, which has poor performance.  Consider joining all columns at once using pd.concat(axis=1) instead. To get a de-fragmented frame, use `newframe = frame.copy()`\n",
      "  full_joined_df_copy[f'{col} ** 2'] = full_joined_df_copy[col] ** 2\n",
      "/var/folders/6_/dhlq5ftj4c76n7p9cz2cjkyw0000gn/T/ipykernel_30346/3785742121.py:76: PerformanceWarning: DataFrame is highly fragmented.  This is usually the result of calling `frame.insert` many times, which has poor performance.  Consider joining all columns at once using pd.concat(axis=1) instead. To get a de-fragmented frame, use `newframe = frame.copy()`\n",
      "  full_joined_df_copy[f'{col} ** 2'] = full_joined_df_copy[col] ** 2\n",
      "/var/folders/6_/dhlq5ftj4c76n7p9cz2cjkyw0000gn/T/ipykernel_30346/3785742121.py:76: PerformanceWarning: DataFrame is highly fragmented.  This is usually the result of calling `frame.insert` many times, which has poor performance.  Consider joining all columns at once using pd.concat(axis=1) instead. To get a de-fragmented frame, use `newframe = frame.copy()`\n",
      "  full_joined_df_copy[f'{col} ** 2'] = full_joined_df_copy[col] ** 2\n",
      "/var/folders/6_/dhlq5ftj4c76n7p9cz2cjkyw0000gn/T/ipykernel_30346/3785742121.py:76: PerformanceWarning: DataFrame is highly fragmented.  This is usually the result of calling `frame.insert` many times, which has poor performance.  Consider joining all columns at once using pd.concat(axis=1) instead. To get a de-fragmented frame, use `newframe = frame.copy()`\n",
      "  full_joined_df_copy[f'{col} ** 2'] = full_joined_df_copy[col] ** 2\n",
      "/var/folders/6_/dhlq5ftj4c76n7p9cz2cjkyw0000gn/T/ipykernel_30346/3785742121.py:76: PerformanceWarning: DataFrame is highly fragmented.  This is usually the result of calling `frame.insert` many times, which has poor performance.  Consider joining all columns at once using pd.concat(axis=1) instead. To get a de-fragmented frame, use `newframe = frame.copy()`\n",
      "  full_joined_df_copy[f'{col} ** 2'] = full_joined_df_copy[col] ** 2\n",
      "/var/folders/6_/dhlq5ftj4c76n7p9cz2cjkyw0000gn/T/ipykernel_30346/3785742121.py:76: PerformanceWarning: DataFrame is highly fragmented.  This is usually the result of calling `frame.insert` many times, which has poor performance.  Consider joining all columns at once using pd.concat(axis=1) instead. To get a de-fragmented frame, use `newframe = frame.copy()`\n",
      "  full_joined_df_copy[f'{col} ** 2'] = full_joined_df_copy[col] ** 2\n",
      "/var/folders/6_/dhlq5ftj4c76n7p9cz2cjkyw0000gn/T/ipykernel_30346/3785742121.py:76: PerformanceWarning: DataFrame is highly fragmented.  This is usually the result of calling `frame.insert` many times, which has poor performance.  Consider joining all columns at once using pd.concat(axis=1) instead. To get a de-fragmented frame, use `newframe = frame.copy()`\n",
      "  full_joined_df_copy[f'{col} ** 2'] = full_joined_df_copy[col] ** 2\n",
      "/var/folders/6_/dhlq5ftj4c76n7p9cz2cjkyw0000gn/T/ipykernel_30346/3785742121.py:76: PerformanceWarning: DataFrame is highly fragmented.  This is usually the result of calling `frame.insert` many times, which has poor performance.  Consider joining all columns at once using pd.concat(axis=1) instead. To get a de-fragmented frame, use `newframe = frame.copy()`\n",
      "  full_joined_df_copy[f'{col} ** 2'] = full_joined_df_copy[col] ** 2\n",
      "/var/folders/6_/dhlq5ftj4c76n7p9cz2cjkyw0000gn/T/ipykernel_30346/3785742121.py:76: PerformanceWarning: DataFrame is highly fragmented.  This is usually the result of calling `frame.insert` many times, which has poor performance.  Consider joining all columns at once using pd.concat(axis=1) instead. To get a de-fragmented frame, use `newframe = frame.copy()`\n",
      "  full_joined_df_copy[f'{col} ** 2'] = full_joined_df_copy[col] ** 2\n",
      "/var/folders/6_/dhlq5ftj4c76n7p9cz2cjkyw0000gn/T/ipykernel_30346/3785742121.py:76: PerformanceWarning: DataFrame is highly fragmented.  This is usually the result of calling `frame.insert` many times, which has poor performance.  Consider joining all columns at once using pd.concat(axis=1) instead. To get a de-fragmented frame, use `newframe = frame.copy()`\n",
      "  full_joined_df_copy[f'{col} ** 2'] = full_joined_df_copy[col] ** 2\n",
      "/var/folders/6_/dhlq5ftj4c76n7p9cz2cjkyw0000gn/T/ipykernel_30346/3785742121.py:76: PerformanceWarning: DataFrame is highly fragmented.  This is usually the result of calling `frame.insert` many times, which has poor performance.  Consider joining all columns at once using pd.concat(axis=1) instead. To get a de-fragmented frame, use `newframe = frame.copy()`\n",
      "  full_joined_df_copy[f'{col} ** 2'] = full_joined_df_copy[col] ** 2\n",
      "/var/folders/6_/dhlq5ftj4c76n7p9cz2cjkyw0000gn/T/ipykernel_30346/3785742121.py:76: PerformanceWarning: DataFrame is highly fragmented.  This is usually the result of calling `frame.insert` many times, which has poor performance.  Consider joining all columns at once using pd.concat(axis=1) instead. To get a de-fragmented frame, use `newframe = frame.copy()`\n",
      "  full_joined_df_copy[f'{col} ** 2'] = full_joined_df_copy[col] ** 2\n",
      "/var/folders/6_/dhlq5ftj4c76n7p9cz2cjkyw0000gn/T/ipykernel_30346/3785742121.py:76: PerformanceWarning: DataFrame is highly fragmented.  This is usually the result of calling `frame.insert` many times, which has poor performance.  Consider joining all columns at once using pd.concat(axis=1) instead. To get a de-fragmented frame, use `newframe = frame.copy()`\n",
      "  full_joined_df_copy[f'{col} ** 2'] = full_joined_df_copy[col] ** 2\n",
      "/var/folders/6_/dhlq5ftj4c76n7p9cz2cjkyw0000gn/T/ipykernel_30346/3785742121.py:76: PerformanceWarning: DataFrame is highly fragmented.  This is usually the result of calling `frame.insert` many times, which has poor performance.  Consider joining all columns at once using pd.concat(axis=1) instead. To get a de-fragmented frame, use `newframe = frame.copy()`\n",
      "  full_joined_df_copy[f'{col} ** 2'] = full_joined_df_copy[col] ** 2\n",
      "/var/folders/6_/dhlq5ftj4c76n7p9cz2cjkyw0000gn/T/ipykernel_30346/3785742121.py:76: PerformanceWarning: DataFrame is highly fragmented.  This is usually the result of calling `frame.insert` many times, which has poor performance.  Consider joining all columns at once using pd.concat(axis=1) instead. To get a de-fragmented frame, use `newframe = frame.copy()`\n",
      "  full_joined_df_copy[f'{col} ** 2'] = full_joined_df_copy[col] ** 2\n",
      "/var/folders/6_/dhlq5ftj4c76n7p9cz2cjkyw0000gn/T/ipykernel_30346/3785742121.py:76: PerformanceWarning: DataFrame is highly fragmented.  This is usually the result of calling `frame.insert` many times, which has poor performance.  Consider joining all columns at once using pd.concat(axis=1) instead. To get a de-fragmented frame, use `newframe = frame.copy()`\n",
      "  full_joined_df_copy[f'{col} ** 2'] = full_joined_df_copy[col] ** 2\n",
      "/var/folders/6_/dhlq5ftj4c76n7p9cz2cjkyw0000gn/T/ipykernel_30346/3785742121.py:76: PerformanceWarning: DataFrame is highly fragmented.  This is usually the result of calling `frame.insert` many times, which has poor performance.  Consider joining all columns at once using pd.concat(axis=1) instead. To get a de-fragmented frame, use `newframe = frame.copy()`\n",
      "  full_joined_df_copy[f'{col} ** 2'] = full_joined_df_copy[col] ** 2\n",
      "/var/folders/6_/dhlq5ftj4c76n7p9cz2cjkyw0000gn/T/ipykernel_30346/3785742121.py:76: PerformanceWarning: DataFrame is highly fragmented.  This is usually the result of calling `frame.insert` many times, which has poor performance.  Consider joining all columns at once using pd.concat(axis=1) instead. To get a de-fragmented frame, use `newframe = frame.copy()`\n",
      "  full_joined_df_copy[f'{col} ** 2'] = full_joined_df_copy[col] ** 2\n",
      "/var/folders/6_/dhlq5ftj4c76n7p9cz2cjkyw0000gn/T/ipykernel_30346/3785742121.py:76: PerformanceWarning: DataFrame is highly fragmented.  This is usually the result of calling `frame.insert` many times, which has poor performance.  Consider joining all columns at once using pd.concat(axis=1) instead. To get a de-fragmented frame, use `newframe = frame.copy()`\n",
      "  full_joined_df_copy[f'{col} ** 2'] = full_joined_df_copy[col] ** 2\n",
      "/var/folders/6_/dhlq5ftj4c76n7p9cz2cjkyw0000gn/T/ipykernel_30346/3785742121.py:76: PerformanceWarning: DataFrame is highly fragmented.  This is usually the result of calling `frame.insert` many times, which has poor performance.  Consider joining all columns at once using pd.concat(axis=1) instead. To get a de-fragmented frame, use `newframe = frame.copy()`\n",
      "  full_joined_df_copy[f'{col} ** 2'] = full_joined_df_copy[col] ** 2\n",
      "/var/folders/6_/dhlq5ftj4c76n7p9cz2cjkyw0000gn/T/ipykernel_30346/3785742121.py:76: PerformanceWarning: DataFrame is highly fragmented.  This is usually the result of calling `frame.insert` many times, which has poor performance.  Consider joining all columns at once using pd.concat(axis=1) instead. To get a de-fragmented frame, use `newframe = frame.copy()`\n",
      "  full_joined_df_copy[f'{col} ** 2'] = full_joined_df_copy[col] ** 2\n",
      "/var/folders/6_/dhlq5ftj4c76n7p9cz2cjkyw0000gn/T/ipykernel_30346/3785742121.py:76: PerformanceWarning: DataFrame is highly fragmented.  This is usually the result of calling `frame.insert` many times, which has poor performance.  Consider joining all columns at once using pd.concat(axis=1) instead. To get a de-fragmented frame, use `newframe = frame.copy()`\n",
      "  full_joined_df_copy[f'{col} ** 2'] = full_joined_df_copy[col] ** 2\n",
      "/var/folders/6_/dhlq5ftj4c76n7p9cz2cjkyw0000gn/T/ipykernel_30346/3785742121.py:76: PerformanceWarning: DataFrame is highly fragmented.  This is usually the result of calling `frame.insert` many times, which has poor performance.  Consider joining all columns at once using pd.concat(axis=1) instead. To get a de-fragmented frame, use `newframe = frame.copy()`\n",
      "  full_joined_df_copy[f'{col} ** 2'] = full_joined_df_copy[col] ** 2\n",
      "/var/folders/6_/dhlq5ftj4c76n7p9cz2cjkyw0000gn/T/ipykernel_30346/3785742121.py:76: PerformanceWarning: DataFrame is highly fragmented.  This is usually the result of calling `frame.insert` many times, which has poor performance.  Consider joining all columns at once using pd.concat(axis=1) instead. To get a de-fragmented frame, use `newframe = frame.copy()`\n",
      "  full_joined_df_copy[f'{col} ** 2'] = full_joined_df_copy[col] ** 2\n",
      "/var/folders/6_/dhlq5ftj4c76n7p9cz2cjkyw0000gn/T/ipykernel_30346/3785742121.py:76: PerformanceWarning: DataFrame is highly fragmented.  This is usually the result of calling `frame.insert` many times, which has poor performance.  Consider joining all columns at once using pd.concat(axis=1) instead. To get a de-fragmented frame, use `newframe = frame.copy()`\n",
      "  full_joined_df_copy[f'{col} ** 2'] = full_joined_df_copy[col] ** 2\n",
      "/var/folders/6_/dhlq5ftj4c76n7p9cz2cjkyw0000gn/T/ipykernel_30346/3785742121.py:76: PerformanceWarning: DataFrame is highly fragmented.  This is usually the result of calling `frame.insert` many times, which has poor performance.  Consider joining all columns at once using pd.concat(axis=1) instead. To get a de-fragmented frame, use `newframe = frame.copy()`\n",
      "  full_joined_df_copy[f'{col} ** 2'] = full_joined_df_copy[col] ** 2\n",
      "/var/folders/6_/dhlq5ftj4c76n7p9cz2cjkyw0000gn/T/ipykernel_30346/3785742121.py:76: PerformanceWarning: DataFrame is highly fragmented.  This is usually the result of calling `frame.insert` many times, which has poor performance.  Consider joining all columns at once using pd.concat(axis=1) instead. To get a de-fragmented frame, use `newframe = frame.copy()`\n",
      "  full_joined_df_copy[f'{col} ** 2'] = full_joined_df_copy[col] ** 2\n",
      "/var/folders/6_/dhlq5ftj4c76n7p9cz2cjkyw0000gn/T/ipykernel_30346/3785742121.py:76: PerformanceWarning: DataFrame is highly fragmented.  This is usually the result of calling `frame.insert` many times, which has poor performance.  Consider joining all columns at once using pd.concat(axis=1) instead. To get a de-fragmented frame, use `newframe = frame.copy()`\n",
      "  full_joined_df_copy[f'{col} ** 2'] = full_joined_df_copy[col] ** 2\n",
      "/var/folders/6_/dhlq5ftj4c76n7p9cz2cjkyw0000gn/T/ipykernel_30346/3785742121.py:76: PerformanceWarning: DataFrame is highly fragmented.  This is usually the result of calling `frame.insert` many times, which has poor performance.  Consider joining all columns at once using pd.concat(axis=1) instead. To get a de-fragmented frame, use `newframe = frame.copy()`\n",
      "  full_joined_df_copy[f'{col} ** 2'] = full_joined_df_copy[col] ** 2\n",
      "/var/folders/6_/dhlq5ftj4c76n7p9cz2cjkyw0000gn/T/ipykernel_30346/3785742121.py:76: PerformanceWarning: DataFrame is highly fragmented.  This is usually the result of calling `frame.insert` many times, which has poor performance.  Consider joining all columns at once using pd.concat(axis=1) instead. To get a de-fragmented frame, use `newframe = frame.copy()`\n",
      "  full_joined_df_copy[f'{col} ** 2'] = full_joined_df_copy[col] ** 2\n",
      "/var/folders/6_/dhlq5ftj4c76n7p9cz2cjkyw0000gn/T/ipykernel_30346/3785742121.py:76: PerformanceWarning: DataFrame is highly fragmented.  This is usually the result of calling `frame.insert` many times, which has poor performance.  Consider joining all columns at once using pd.concat(axis=1) instead. To get a de-fragmented frame, use `newframe = frame.copy()`\n",
      "  full_joined_df_copy[f'{col} ** 2'] = full_joined_df_copy[col] ** 2\n",
      "/var/folders/6_/dhlq5ftj4c76n7p9cz2cjkyw0000gn/T/ipykernel_30346/3785742121.py:76: PerformanceWarning: DataFrame is highly fragmented.  This is usually the result of calling `frame.insert` many times, which has poor performance.  Consider joining all columns at once using pd.concat(axis=1) instead. To get a de-fragmented frame, use `newframe = frame.copy()`\n",
      "  full_joined_df_copy[f'{col} ** 2'] = full_joined_df_copy[col] ** 2\n",
      "/var/folders/6_/dhlq5ftj4c76n7p9cz2cjkyw0000gn/T/ipykernel_30346/3785742121.py:76: PerformanceWarning: DataFrame is highly fragmented.  This is usually the result of calling `frame.insert` many times, which has poor performance.  Consider joining all columns at once using pd.concat(axis=1) instead. To get a de-fragmented frame, use `newframe = frame.copy()`\n",
      "  full_joined_df_copy[f'{col} ** 2'] = full_joined_df_copy[col] ** 2\n",
      "/var/folders/6_/dhlq5ftj4c76n7p9cz2cjkyw0000gn/T/ipykernel_30346/3785742121.py:76: PerformanceWarning: DataFrame is highly fragmented.  This is usually the result of calling `frame.insert` many times, which has poor performance.  Consider joining all columns at once using pd.concat(axis=1) instead. To get a de-fragmented frame, use `newframe = frame.copy()`\n",
      "  full_joined_df_copy[f'{col} ** 2'] = full_joined_df_copy[col] ** 2\n",
      "/var/folders/6_/dhlq5ftj4c76n7p9cz2cjkyw0000gn/T/ipykernel_30346/3785742121.py:76: PerformanceWarning: DataFrame is highly fragmented.  This is usually the result of calling `frame.insert` many times, which has poor performance.  Consider joining all columns at once using pd.concat(axis=1) instead. To get a de-fragmented frame, use `newframe = frame.copy()`\n",
      "  full_joined_df_copy[f'{col} ** 2'] = full_joined_df_copy[col] ** 2\n",
      "/var/folders/6_/dhlq5ftj4c76n7p9cz2cjkyw0000gn/T/ipykernel_30346/3785742121.py:76: PerformanceWarning: DataFrame is highly fragmented.  This is usually the result of calling `frame.insert` many times, which has poor performance.  Consider joining all columns at once using pd.concat(axis=1) instead. To get a de-fragmented frame, use `newframe = frame.copy()`\n",
      "  full_joined_df_copy[f'{col} ** 2'] = full_joined_df_copy[col] ** 2\n",
      "/var/folders/6_/dhlq5ftj4c76n7p9cz2cjkyw0000gn/T/ipykernel_30346/3785742121.py:76: PerformanceWarning: DataFrame is highly fragmented.  This is usually the result of calling `frame.insert` many times, which has poor performance.  Consider joining all columns at once using pd.concat(axis=1) instead. To get a de-fragmented frame, use `newframe = frame.copy()`\n",
      "  full_joined_df_copy[f'{col} ** 2'] = full_joined_df_copy[col] ** 2\n",
      "/var/folders/6_/dhlq5ftj4c76n7p9cz2cjkyw0000gn/T/ipykernel_30346/3785742121.py:76: PerformanceWarning: DataFrame is highly fragmented.  This is usually the result of calling `frame.insert` many times, which has poor performance.  Consider joining all columns at once using pd.concat(axis=1) instead. To get a de-fragmented frame, use `newframe = frame.copy()`\n",
      "  full_joined_df_copy[f'{col} ** 2'] = full_joined_df_copy[col] ** 2\n",
      "/var/folders/6_/dhlq5ftj4c76n7p9cz2cjkyw0000gn/T/ipykernel_30346/3785742121.py:76: PerformanceWarning: DataFrame is highly fragmented.  This is usually the result of calling `frame.insert` many times, which has poor performance.  Consider joining all columns at once using pd.concat(axis=1) instead. To get a de-fragmented frame, use `newframe = frame.copy()`\n",
      "  full_joined_df_copy[f'{col} ** 2'] = full_joined_df_copy[col] ** 2\n",
      "/var/folders/6_/dhlq5ftj4c76n7p9cz2cjkyw0000gn/T/ipykernel_30346/3785742121.py:76: PerformanceWarning: DataFrame is highly fragmented.  This is usually the result of calling `frame.insert` many times, which has poor performance.  Consider joining all columns at once using pd.concat(axis=1) instead. To get a de-fragmented frame, use `newframe = frame.copy()`\n",
      "  full_joined_df_copy[f'{col} ** 2'] = full_joined_df_copy[col] ** 2\n",
      "/var/folders/6_/dhlq5ftj4c76n7p9cz2cjkyw0000gn/T/ipykernel_30346/3785742121.py:76: PerformanceWarning: DataFrame is highly fragmented.  This is usually the result of calling `frame.insert` many times, which has poor performance.  Consider joining all columns at once using pd.concat(axis=1) instead. To get a de-fragmented frame, use `newframe = frame.copy()`\n",
      "  full_joined_df_copy[f'{col} ** 2'] = full_joined_df_copy[col] ** 2\n",
      "/var/folders/6_/dhlq5ftj4c76n7p9cz2cjkyw0000gn/T/ipykernel_30346/3785742121.py:76: PerformanceWarning: DataFrame is highly fragmented.  This is usually the result of calling `frame.insert` many times, which has poor performance.  Consider joining all columns at once using pd.concat(axis=1) instead. To get a de-fragmented frame, use `newframe = frame.copy()`\n",
      "  full_joined_df_copy[f'{col} ** 2'] = full_joined_df_copy[col] ** 2\n",
      "/var/folders/6_/dhlq5ftj4c76n7p9cz2cjkyw0000gn/T/ipykernel_30346/3785742121.py:76: PerformanceWarning: DataFrame is highly fragmented.  This is usually the result of calling `frame.insert` many times, which has poor performance.  Consider joining all columns at once using pd.concat(axis=1) instead. To get a de-fragmented frame, use `newframe = frame.copy()`\n",
      "  full_joined_df_copy[f'{col} ** 2'] = full_joined_df_copy[col] ** 2\n",
      "/var/folders/6_/dhlq5ftj4c76n7p9cz2cjkyw0000gn/T/ipykernel_30346/3785742121.py:76: PerformanceWarning: DataFrame is highly fragmented.  This is usually the result of calling `frame.insert` many times, which has poor performance.  Consider joining all columns at once using pd.concat(axis=1) instead. To get a de-fragmented frame, use `newframe = frame.copy()`\n",
      "  full_joined_df_copy[f'{col} ** 2'] = full_joined_df_copy[col] ** 2\n",
      "/var/folders/6_/dhlq5ftj4c76n7p9cz2cjkyw0000gn/T/ipykernel_30346/3785742121.py:76: PerformanceWarning: DataFrame is highly fragmented.  This is usually the result of calling `frame.insert` many times, which has poor performance.  Consider joining all columns at once using pd.concat(axis=1) instead. To get a de-fragmented frame, use `newframe = frame.copy()`\n",
      "  full_joined_df_copy[f'{col} ** 2'] = full_joined_df_copy[col] ** 2\n",
      "/var/folders/6_/dhlq5ftj4c76n7p9cz2cjkyw0000gn/T/ipykernel_30346/3785742121.py:76: PerformanceWarning: DataFrame is highly fragmented.  This is usually the result of calling `frame.insert` many times, which has poor performance.  Consider joining all columns at once using pd.concat(axis=1) instead. To get a de-fragmented frame, use `newframe = frame.copy()`\n",
      "  full_joined_df_copy[f'{col} ** 2'] = full_joined_df_copy[col] ** 2\n",
      "/var/folders/6_/dhlq5ftj4c76n7p9cz2cjkyw0000gn/T/ipykernel_30346/3785742121.py:76: PerformanceWarning: DataFrame is highly fragmented.  This is usually the result of calling `frame.insert` many times, which has poor performance.  Consider joining all columns at once using pd.concat(axis=1) instead. To get a de-fragmented frame, use `newframe = frame.copy()`\n",
      "  full_joined_df_copy[f'{col} ** 2'] = full_joined_df_copy[col] ** 2\n",
      "/var/folders/6_/dhlq5ftj4c76n7p9cz2cjkyw0000gn/T/ipykernel_30346/3785742121.py:76: PerformanceWarning: DataFrame is highly fragmented.  This is usually the result of calling `frame.insert` many times, which has poor performance.  Consider joining all columns at once using pd.concat(axis=1) instead. To get a de-fragmented frame, use `newframe = frame.copy()`\n",
      "  full_joined_df_copy[f'{col} ** 2'] = full_joined_df_copy[col] ** 2\n",
      "/var/folders/6_/dhlq5ftj4c76n7p9cz2cjkyw0000gn/T/ipykernel_30346/3785742121.py:76: PerformanceWarning: DataFrame is highly fragmented.  This is usually the result of calling `frame.insert` many times, which has poor performance.  Consider joining all columns at once using pd.concat(axis=1) instead. To get a de-fragmented frame, use `newframe = frame.copy()`\n",
      "  full_joined_df_copy[f'{col} ** 2'] = full_joined_df_copy[col] ** 2\n",
      "/var/folders/6_/dhlq5ftj4c76n7p9cz2cjkyw0000gn/T/ipykernel_30346/3785742121.py:76: PerformanceWarning: DataFrame is highly fragmented.  This is usually the result of calling `frame.insert` many times, which has poor performance.  Consider joining all columns at once using pd.concat(axis=1) instead. To get a de-fragmented frame, use `newframe = frame.copy()`\n",
      "  full_joined_df_copy[f'{col} ** 2'] = full_joined_df_copy[col] ** 2\n",
      "/var/folders/6_/dhlq5ftj4c76n7p9cz2cjkyw0000gn/T/ipykernel_30346/3785742121.py:76: PerformanceWarning: DataFrame is highly fragmented.  This is usually the result of calling `frame.insert` many times, which has poor performance.  Consider joining all columns at once using pd.concat(axis=1) instead. To get a de-fragmented frame, use `newframe = frame.copy()`\n",
      "  full_joined_df_copy[f'{col} ** 2'] = full_joined_df_copy[col] ** 2\n",
      "/var/folders/6_/dhlq5ftj4c76n7p9cz2cjkyw0000gn/T/ipykernel_30346/3785742121.py:76: PerformanceWarning: DataFrame is highly fragmented.  This is usually the result of calling `frame.insert` many times, which has poor performance.  Consider joining all columns at once using pd.concat(axis=1) instead. To get a de-fragmented frame, use `newframe = frame.copy()`\n",
      "  full_joined_df_copy[f'{col} ** 2'] = full_joined_df_copy[col] ** 2\n",
      "/var/folders/6_/dhlq5ftj4c76n7p9cz2cjkyw0000gn/T/ipykernel_30346/3785742121.py:76: PerformanceWarning: DataFrame is highly fragmented.  This is usually the result of calling `frame.insert` many times, which has poor performance.  Consider joining all columns at once using pd.concat(axis=1) instead. To get a de-fragmented frame, use `newframe = frame.copy()`\n",
      "  full_joined_df_copy[f'{col} ** 2'] = full_joined_df_copy[col] ** 2\n",
      "/var/folders/6_/dhlq5ftj4c76n7p9cz2cjkyw0000gn/T/ipykernel_30346/3785742121.py:76: PerformanceWarning: DataFrame is highly fragmented.  This is usually the result of calling `frame.insert` many times, which has poor performance.  Consider joining all columns at once using pd.concat(axis=1) instead. To get a de-fragmented frame, use `newframe = frame.copy()`\n",
      "  full_joined_df_copy[f'{col} ** 2'] = full_joined_df_copy[col] ** 2\n",
      "/var/folders/6_/dhlq5ftj4c76n7p9cz2cjkyw0000gn/T/ipykernel_30346/3785742121.py:76: PerformanceWarning: DataFrame is highly fragmented.  This is usually the result of calling `frame.insert` many times, which has poor performance.  Consider joining all columns at once using pd.concat(axis=1) instead. To get a de-fragmented frame, use `newframe = frame.copy()`\n",
      "  full_joined_df_copy[f'{col} ** 2'] = full_joined_df_copy[col] ** 2\n",
      "/var/folders/6_/dhlq5ftj4c76n7p9cz2cjkyw0000gn/T/ipykernel_30346/3785742121.py:76: PerformanceWarning: DataFrame is highly fragmented.  This is usually the result of calling `frame.insert` many times, which has poor performance.  Consider joining all columns at once using pd.concat(axis=1) instead. To get a de-fragmented frame, use `newframe = frame.copy()`\n",
      "  full_joined_df_copy[f'{col} ** 2'] = full_joined_df_copy[col] ** 2\n",
      "/var/folders/6_/dhlq5ftj4c76n7p9cz2cjkyw0000gn/T/ipykernel_30346/3785742121.py:76: PerformanceWarning: DataFrame is highly fragmented.  This is usually the result of calling `frame.insert` many times, which has poor performance.  Consider joining all columns at once using pd.concat(axis=1) instead. To get a de-fragmented frame, use `newframe = frame.copy()`\n",
      "  full_joined_df_copy[f'{col} ** 2'] = full_joined_df_copy[col] ** 2\n",
      "/var/folders/6_/dhlq5ftj4c76n7p9cz2cjkyw0000gn/T/ipykernel_30346/3785742121.py:76: PerformanceWarning: DataFrame is highly fragmented.  This is usually the result of calling `frame.insert` many times, which has poor performance.  Consider joining all columns at once using pd.concat(axis=1) instead. To get a de-fragmented frame, use `newframe = frame.copy()`\n",
      "  full_joined_df_copy[f'{col} ** 2'] = full_joined_df_copy[col] ** 2\n",
      "/var/folders/6_/dhlq5ftj4c76n7p9cz2cjkyw0000gn/T/ipykernel_30346/3785742121.py:76: PerformanceWarning: DataFrame is highly fragmented.  This is usually the result of calling `frame.insert` many times, which has poor performance.  Consider joining all columns at once using pd.concat(axis=1) instead. To get a de-fragmented frame, use `newframe = frame.copy()`\n",
      "  full_joined_df_copy[f'{col} ** 2'] = full_joined_df_copy[col] ** 2\n",
      "/var/folders/6_/dhlq5ftj4c76n7p9cz2cjkyw0000gn/T/ipykernel_30346/3785742121.py:76: PerformanceWarning: DataFrame is highly fragmented.  This is usually the result of calling `frame.insert` many times, which has poor performance.  Consider joining all columns at once using pd.concat(axis=1) instead. To get a de-fragmented frame, use `newframe = frame.copy()`\n",
      "  full_joined_df_copy[f'{col} ** 2'] = full_joined_df_copy[col] ** 2\n",
      "/var/folders/6_/dhlq5ftj4c76n7p9cz2cjkyw0000gn/T/ipykernel_30346/3785742121.py:76: PerformanceWarning: DataFrame is highly fragmented.  This is usually the result of calling `frame.insert` many times, which has poor performance.  Consider joining all columns at once using pd.concat(axis=1) instead. To get a de-fragmented frame, use `newframe = frame.copy()`\n",
      "  full_joined_df_copy[f'{col} ** 2'] = full_joined_df_copy[col] ** 2\n",
      "/var/folders/6_/dhlq5ftj4c76n7p9cz2cjkyw0000gn/T/ipykernel_30346/3785742121.py:76: PerformanceWarning: DataFrame is highly fragmented.  This is usually the result of calling `frame.insert` many times, which has poor performance.  Consider joining all columns at once using pd.concat(axis=1) instead. To get a de-fragmented frame, use `newframe = frame.copy()`\n",
      "  full_joined_df_copy[f'{col} ** 2'] = full_joined_df_copy[col] ** 2\n",
      "/var/folders/6_/dhlq5ftj4c76n7p9cz2cjkyw0000gn/T/ipykernel_30346/3785742121.py:76: PerformanceWarning: DataFrame is highly fragmented.  This is usually the result of calling `frame.insert` many times, which has poor performance.  Consider joining all columns at once using pd.concat(axis=1) instead. To get a de-fragmented frame, use `newframe = frame.copy()`\n",
      "  full_joined_df_copy[f'{col} ** 2'] = full_joined_df_copy[col] ** 2\n",
      "/var/folders/6_/dhlq5ftj4c76n7p9cz2cjkyw0000gn/T/ipykernel_30346/3785742121.py:76: PerformanceWarning: DataFrame is highly fragmented.  This is usually the result of calling `frame.insert` many times, which has poor performance.  Consider joining all columns at once using pd.concat(axis=1) instead. To get a de-fragmented frame, use `newframe = frame.copy()`\n",
      "  full_joined_df_copy[f'{col} ** 2'] = full_joined_df_copy[col] ** 2\n",
      "/var/folders/6_/dhlq5ftj4c76n7p9cz2cjkyw0000gn/T/ipykernel_30346/3785742121.py:76: PerformanceWarning: DataFrame is highly fragmented.  This is usually the result of calling `frame.insert` many times, which has poor performance.  Consider joining all columns at once using pd.concat(axis=1) instead. To get a de-fragmented frame, use `newframe = frame.copy()`\n",
      "  full_joined_df_copy[f'{col} ** 2'] = full_joined_df_copy[col] ** 2\n",
      "/var/folders/6_/dhlq5ftj4c76n7p9cz2cjkyw0000gn/T/ipykernel_30346/3785742121.py:76: PerformanceWarning: DataFrame is highly fragmented.  This is usually the result of calling `frame.insert` many times, which has poor performance.  Consider joining all columns at once using pd.concat(axis=1) instead. To get a de-fragmented frame, use `newframe = frame.copy()`\n",
      "  full_joined_df_copy[f'{col} ** 2'] = full_joined_df_copy[col] ** 2\n",
      "/var/folders/6_/dhlq5ftj4c76n7p9cz2cjkyw0000gn/T/ipykernel_30346/3785742121.py:76: PerformanceWarning: DataFrame is highly fragmented.  This is usually the result of calling `frame.insert` many times, which has poor performance.  Consider joining all columns at once using pd.concat(axis=1) instead. To get a de-fragmented frame, use `newframe = frame.copy()`\n",
      "  full_joined_df_copy[f'{col} ** 2'] = full_joined_df_copy[col] ** 2\n",
      "/var/folders/6_/dhlq5ftj4c76n7p9cz2cjkyw0000gn/T/ipykernel_30346/3785742121.py:76: PerformanceWarning: DataFrame is highly fragmented.  This is usually the result of calling `frame.insert` many times, which has poor performance.  Consider joining all columns at once using pd.concat(axis=1) instead. To get a de-fragmented frame, use `newframe = frame.copy()`\n",
      "  full_joined_df_copy[f'{col} ** 2'] = full_joined_df_copy[col] ** 2\n",
      "/var/folders/6_/dhlq5ftj4c76n7p9cz2cjkyw0000gn/T/ipykernel_30346/3785742121.py:76: PerformanceWarning: DataFrame is highly fragmented.  This is usually the result of calling `frame.insert` many times, which has poor performance.  Consider joining all columns at once using pd.concat(axis=1) instead. To get a de-fragmented frame, use `newframe = frame.copy()`\n",
      "  full_joined_df_copy[f'{col} ** 2'] = full_joined_df_copy[col] ** 2\n",
      "/var/folders/6_/dhlq5ftj4c76n7p9cz2cjkyw0000gn/T/ipykernel_30346/3785742121.py:76: PerformanceWarning: DataFrame is highly fragmented.  This is usually the result of calling `frame.insert` many times, which has poor performance.  Consider joining all columns at once using pd.concat(axis=1) instead. To get a de-fragmented frame, use `newframe = frame.copy()`\n",
      "  full_joined_df_copy[f'{col} ** 2'] = full_joined_df_copy[col] ** 2\n",
      "/var/folders/6_/dhlq5ftj4c76n7p9cz2cjkyw0000gn/T/ipykernel_30346/3785742121.py:76: PerformanceWarning: DataFrame is highly fragmented.  This is usually the result of calling `frame.insert` many times, which has poor performance.  Consider joining all columns at once using pd.concat(axis=1) instead. To get a de-fragmented frame, use `newframe = frame.copy()`\n",
      "  full_joined_df_copy[f'{col} ** 2'] = full_joined_df_copy[col] ** 2\n",
      "/var/folders/6_/dhlq5ftj4c76n7p9cz2cjkyw0000gn/T/ipykernel_30346/3785742121.py:76: PerformanceWarning: DataFrame is highly fragmented.  This is usually the result of calling `frame.insert` many times, which has poor performance.  Consider joining all columns at once using pd.concat(axis=1) instead. To get a de-fragmented frame, use `newframe = frame.copy()`\n",
      "  full_joined_df_copy[f'{col} ** 2'] = full_joined_df_copy[col] ** 2\n",
      "/var/folders/6_/dhlq5ftj4c76n7p9cz2cjkyw0000gn/T/ipykernel_30346/3785742121.py:76: PerformanceWarning: DataFrame is highly fragmented.  This is usually the result of calling `frame.insert` many times, which has poor performance.  Consider joining all columns at once using pd.concat(axis=1) instead. To get a de-fragmented frame, use `newframe = frame.copy()`\n",
      "  full_joined_df_copy[f'{col} ** 2'] = full_joined_df_copy[col] ** 2\n",
      "/var/folders/6_/dhlq5ftj4c76n7p9cz2cjkyw0000gn/T/ipykernel_30346/3785742121.py:76: PerformanceWarning: DataFrame is highly fragmented.  This is usually the result of calling `frame.insert` many times, which has poor performance.  Consider joining all columns at once using pd.concat(axis=1) instead. To get a de-fragmented frame, use `newframe = frame.copy()`\n",
      "  full_joined_df_copy[f'{col} ** 2'] = full_joined_df_copy[col] ** 2\n",
      "/var/folders/6_/dhlq5ftj4c76n7p9cz2cjkyw0000gn/T/ipykernel_30346/3785742121.py:76: PerformanceWarning: DataFrame is highly fragmented.  This is usually the result of calling `frame.insert` many times, which has poor performance.  Consider joining all columns at once using pd.concat(axis=1) instead. To get a de-fragmented frame, use `newframe = frame.copy()`\n",
      "  full_joined_df_copy[f'{col} ** 2'] = full_joined_df_copy[col] ** 2\n",
      "/var/folders/6_/dhlq5ftj4c76n7p9cz2cjkyw0000gn/T/ipykernel_30346/3785742121.py:76: PerformanceWarning: DataFrame is highly fragmented.  This is usually the result of calling `frame.insert` many times, which has poor performance.  Consider joining all columns at once using pd.concat(axis=1) instead. To get a de-fragmented frame, use `newframe = frame.copy()`\n",
      "  full_joined_df_copy[f'{col} ** 2'] = full_joined_df_copy[col] ** 2\n",
      "/var/folders/6_/dhlq5ftj4c76n7p9cz2cjkyw0000gn/T/ipykernel_30346/3785742121.py:76: PerformanceWarning: DataFrame is highly fragmented.  This is usually the result of calling `frame.insert` many times, which has poor performance.  Consider joining all columns at once using pd.concat(axis=1) instead. To get a de-fragmented frame, use `newframe = frame.copy()`\n",
      "  full_joined_df_copy[f'{col} ** 2'] = full_joined_df_copy[col] ** 2\n",
      "/var/folders/6_/dhlq5ftj4c76n7p9cz2cjkyw0000gn/T/ipykernel_30346/3785742121.py:76: PerformanceWarning: DataFrame is highly fragmented.  This is usually the result of calling `frame.insert` many times, which has poor performance.  Consider joining all columns at once using pd.concat(axis=1) instead. To get a de-fragmented frame, use `newframe = frame.copy()`\n",
      "  full_joined_df_copy[f'{col} ** 2'] = full_joined_df_copy[col] ** 2\n",
      "/var/folders/6_/dhlq5ftj4c76n7p9cz2cjkyw0000gn/T/ipykernel_30346/3785742121.py:76: PerformanceWarning: DataFrame is highly fragmented.  This is usually the result of calling `frame.insert` many times, which has poor performance.  Consider joining all columns at once using pd.concat(axis=1) instead. To get a de-fragmented frame, use `newframe = frame.copy()`\n",
      "  full_joined_df_copy[f'{col} ** 2'] = full_joined_df_copy[col] ** 2\n",
      "/var/folders/6_/dhlq5ftj4c76n7p9cz2cjkyw0000gn/T/ipykernel_30346/3785742121.py:76: PerformanceWarning: DataFrame is highly fragmented.  This is usually the result of calling `frame.insert` many times, which has poor performance.  Consider joining all columns at once using pd.concat(axis=1) instead. To get a de-fragmented frame, use `newframe = frame.copy()`\n",
      "  full_joined_df_copy[f'{col} ** 2'] = full_joined_df_copy[col] ** 2\n",
      "/var/folders/6_/dhlq5ftj4c76n7p9cz2cjkyw0000gn/T/ipykernel_30346/3785742121.py:76: PerformanceWarning: DataFrame is highly fragmented.  This is usually the result of calling `frame.insert` many times, which has poor performance.  Consider joining all columns at once using pd.concat(axis=1) instead. To get a de-fragmented frame, use `newframe = frame.copy()`\n",
      "  full_joined_df_copy[f'{col} ** 2'] = full_joined_df_copy[col] ** 2\n",
      "/var/folders/6_/dhlq5ftj4c76n7p9cz2cjkyw0000gn/T/ipykernel_30346/3785742121.py:76: PerformanceWarning: DataFrame is highly fragmented.  This is usually the result of calling `frame.insert` many times, which has poor performance.  Consider joining all columns at once using pd.concat(axis=1) instead. To get a de-fragmented frame, use `newframe = frame.copy()`\n",
      "  full_joined_df_copy[f'{col} ** 2'] = full_joined_df_copy[col] ** 2\n",
      "/var/folders/6_/dhlq5ftj4c76n7p9cz2cjkyw0000gn/T/ipykernel_30346/3785742121.py:76: PerformanceWarning: DataFrame is highly fragmented.  This is usually the result of calling `frame.insert` many times, which has poor performance.  Consider joining all columns at once using pd.concat(axis=1) instead. To get a de-fragmented frame, use `newframe = frame.copy()`\n",
      "  full_joined_df_copy[f'{col} ** 2'] = full_joined_df_copy[col] ** 2\n",
      "/var/folders/6_/dhlq5ftj4c76n7p9cz2cjkyw0000gn/T/ipykernel_30346/3785742121.py:76: PerformanceWarning: DataFrame is highly fragmented.  This is usually the result of calling `frame.insert` many times, which has poor performance.  Consider joining all columns at once using pd.concat(axis=1) instead. To get a de-fragmented frame, use `newframe = frame.copy()`\n",
      "  full_joined_df_copy[f'{col} ** 2'] = full_joined_df_copy[col] ** 2\n",
      "/var/folders/6_/dhlq5ftj4c76n7p9cz2cjkyw0000gn/T/ipykernel_30346/3785742121.py:76: PerformanceWarning: DataFrame is highly fragmented.  This is usually the result of calling `frame.insert` many times, which has poor performance.  Consider joining all columns at once using pd.concat(axis=1) instead. To get a de-fragmented frame, use `newframe = frame.copy()`\n",
      "  full_joined_df_copy[f'{col} ** 2'] = full_joined_df_copy[col] ** 2\n",
      "/var/folders/6_/dhlq5ftj4c76n7p9cz2cjkyw0000gn/T/ipykernel_30346/3785742121.py:76: PerformanceWarning: DataFrame is highly fragmented.  This is usually the result of calling `frame.insert` many times, which has poor performance.  Consider joining all columns at once using pd.concat(axis=1) instead. To get a de-fragmented frame, use `newframe = frame.copy()`\n",
      "  full_joined_df_copy[f'{col} ** 2'] = full_joined_df_copy[col] ** 2\n",
      "/var/folders/6_/dhlq5ftj4c76n7p9cz2cjkyw0000gn/T/ipykernel_30346/3785742121.py:76: PerformanceWarning: DataFrame is highly fragmented.  This is usually the result of calling `frame.insert` many times, which has poor performance.  Consider joining all columns at once using pd.concat(axis=1) instead. To get a de-fragmented frame, use `newframe = frame.copy()`\n",
      "  full_joined_df_copy[f'{col} ** 2'] = full_joined_df_copy[col] ** 2\n",
      "/var/folders/6_/dhlq5ftj4c76n7p9cz2cjkyw0000gn/T/ipykernel_30346/3785742121.py:76: PerformanceWarning: DataFrame is highly fragmented.  This is usually the result of calling `frame.insert` many times, which has poor performance.  Consider joining all columns at once using pd.concat(axis=1) instead. To get a de-fragmented frame, use `newframe = frame.copy()`\n",
      "  full_joined_df_copy[f'{col} ** 2'] = full_joined_df_copy[col] ** 2\n",
      "/var/folders/6_/dhlq5ftj4c76n7p9cz2cjkyw0000gn/T/ipykernel_30346/3785742121.py:76: PerformanceWarning: DataFrame is highly fragmented.  This is usually the result of calling `frame.insert` many times, which has poor performance.  Consider joining all columns at once using pd.concat(axis=1) instead. To get a de-fragmented frame, use `newframe = frame.copy()`\n",
      "  full_joined_df_copy[f'{col} ** 2'] = full_joined_df_copy[col] ** 2\n",
      "/var/folders/6_/dhlq5ftj4c76n7p9cz2cjkyw0000gn/T/ipykernel_30346/3785742121.py:76: PerformanceWarning: DataFrame is highly fragmented.  This is usually the result of calling `frame.insert` many times, which has poor performance.  Consider joining all columns at once using pd.concat(axis=1) instead. To get a de-fragmented frame, use `newframe = frame.copy()`\n",
      "  full_joined_df_copy[f'{col} ** 2'] = full_joined_df_copy[col] ** 2\n",
      "/var/folders/6_/dhlq5ftj4c76n7p9cz2cjkyw0000gn/T/ipykernel_30346/3785742121.py:76: PerformanceWarning: DataFrame is highly fragmented.  This is usually the result of calling `frame.insert` many times, which has poor performance.  Consider joining all columns at once using pd.concat(axis=1) instead. To get a de-fragmented frame, use `newframe = frame.copy()`\n",
      "  full_joined_df_copy[f'{col} ** 2'] = full_joined_df_copy[col] ** 2\n",
      "/var/folders/6_/dhlq5ftj4c76n7p9cz2cjkyw0000gn/T/ipykernel_30346/3785742121.py:76: PerformanceWarning: DataFrame is highly fragmented.  This is usually the result of calling `frame.insert` many times, which has poor performance.  Consider joining all columns at once using pd.concat(axis=1) instead. To get a de-fragmented frame, use `newframe = frame.copy()`\n",
      "  full_joined_df_copy[f'{col} ** 2'] = full_joined_df_copy[col] ** 2\n",
      "/var/folders/6_/dhlq5ftj4c76n7p9cz2cjkyw0000gn/T/ipykernel_30346/3785742121.py:76: PerformanceWarning: DataFrame is highly fragmented.  This is usually the result of calling `frame.insert` many times, which has poor performance.  Consider joining all columns at once using pd.concat(axis=1) instead. To get a de-fragmented frame, use `newframe = frame.copy()`\n",
      "  full_joined_df_copy[f'{col} ** 2'] = full_joined_df_copy[col] ** 2\n",
      "/var/folders/6_/dhlq5ftj4c76n7p9cz2cjkyw0000gn/T/ipykernel_30346/3785742121.py:76: PerformanceWarning: DataFrame is highly fragmented.  This is usually the result of calling `frame.insert` many times, which has poor performance.  Consider joining all columns at once using pd.concat(axis=1) instead. To get a de-fragmented frame, use `newframe = frame.copy()`\n",
      "  full_joined_df_copy[f'{col} ** 2'] = full_joined_df_copy[col] ** 2\n",
      "/var/folders/6_/dhlq5ftj4c76n7p9cz2cjkyw0000gn/T/ipykernel_30346/3785742121.py:76: PerformanceWarning: DataFrame is highly fragmented.  This is usually the result of calling `frame.insert` many times, which has poor performance.  Consider joining all columns at once using pd.concat(axis=1) instead. To get a de-fragmented frame, use `newframe = frame.copy()`\n",
      "  full_joined_df_copy[f'{col} ** 2'] = full_joined_df_copy[col] ** 2\n",
      "/var/folders/6_/dhlq5ftj4c76n7p9cz2cjkyw0000gn/T/ipykernel_30346/3785742121.py:76: PerformanceWarning: DataFrame is highly fragmented.  This is usually the result of calling `frame.insert` many times, which has poor performance.  Consider joining all columns at once using pd.concat(axis=1) instead. To get a de-fragmented frame, use `newframe = frame.copy()`\n",
      "  full_joined_df_copy[f'{col} ** 2'] = full_joined_df_copy[col] ** 2\n",
      "/var/folders/6_/dhlq5ftj4c76n7p9cz2cjkyw0000gn/T/ipykernel_30346/3785742121.py:76: PerformanceWarning: DataFrame is highly fragmented.  This is usually the result of calling `frame.insert` many times, which has poor performance.  Consider joining all columns at once using pd.concat(axis=1) instead. To get a de-fragmented frame, use `newframe = frame.copy()`\n",
      "  full_joined_df_copy[f'{col} ** 2'] = full_joined_df_copy[col] ** 2\n",
      "/var/folders/6_/dhlq5ftj4c76n7p9cz2cjkyw0000gn/T/ipykernel_30346/3785742121.py:76: PerformanceWarning: DataFrame is highly fragmented.  This is usually the result of calling `frame.insert` many times, which has poor performance.  Consider joining all columns at once using pd.concat(axis=1) instead. To get a de-fragmented frame, use `newframe = frame.copy()`\n",
      "  full_joined_df_copy[f'{col} ** 2'] = full_joined_df_copy[col] ** 2\n",
      "/var/folders/6_/dhlq5ftj4c76n7p9cz2cjkyw0000gn/T/ipykernel_30346/3785742121.py:76: PerformanceWarning: DataFrame is highly fragmented.  This is usually the result of calling `frame.insert` many times, which has poor performance.  Consider joining all columns at once using pd.concat(axis=1) instead. To get a de-fragmented frame, use `newframe = frame.copy()`\n",
      "  full_joined_df_copy[f'{col} ** 2'] = full_joined_df_copy[col] ** 2\n",
      "/var/folders/6_/dhlq5ftj4c76n7p9cz2cjkyw0000gn/T/ipykernel_30346/3785742121.py:76: PerformanceWarning: DataFrame is highly fragmented.  This is usually the result of calling `frame.insert` many times, which has poor performance.  Consider joining all columns at once using pd.concat(axis=1) instead. To get a de-fragmented frame, use `newframe = frame.copy()`\n",
      "  full_joined_df_copy[f'{col} ** 2'] = full_joined_df_copy[col] ** 2\n",
      "/var/folders/6_/dhlq5ftj4c76n7p9cz2cjkyw0000gn/T/ipykernel_30346/3785742121.py:76: PerformanceWarning: DataFrame is highly fragmented.  This is usually the result of calling `frame.insert` many times, which has poor performance.  Consider joining all columns at once using pd.concat(axis=1) instead. To get a de-fragmented frame, use `newframe = frame.copy()`\n",
      "  full_joined_df_copy[f'{col} ** 2'] = full_joined_df_copy[col] ** 2\n",
      "/var/folders/6_/dhlq5ftj4c76n7p9cz2cjkyw0000gn/T/ipykernel_30346/3785742121.py:76: PerformanceWarning: DataFrame is highly fragmented.  This is usually the result of calling `frame.insert` many times, which has poor performance.  Consider joining all columns at once using pd.concat(axis=1) instead. To get a de-fragmented frame, use `newframe = frame.copy()`\n",
      "  full_joined_df_copy[f'{col} ** 2'] = full_joined_df_copy[col] ** 2\n",
      "/var/folders/6_/dhlq5ftj4c76n7p9cz2cjkyw0000gn/T/ipykernel_30346/3785742121.py:76: PerformanceWarning: DataFrame is highly fragmented.  This is usually the result of calling `frame.insert` many times, which has poor performance.  Consider joining all columns at once using pd.concat(axis=1) instead. To get a de-fragmented frame, use `newframe = frame.copy()`\n",
      "  full_joined_df_copy[f'{col} ** 2'] = full_joined_df_copy[col] ** 2\n",
      "/var/folders/6_/dhlq5ftj4c76n7p9cz2cjkyw0000gn/T/ipykernel_30346/3785742121.py:76: PerformanceWarning: DataFrame is highly fragmented.  This is usually the result of calling `frame.insert` many times, which has poor performance.  Consider joining all columns at once using pd.concat(axis=1) instead. To get a de-fragmented frame, use `newframe = frame.copy()`\n",
      "  full_joined_df_copy[f'{col} ** 2'] = full_joined_df_copy[col] ** 2\n",
      "/var/folders/6_/dhlq5ftj4c76n7p9cz2cjkyw0000gn/T/ipykernel_30346/3785742121.py:76: PerformanceWarning: DataFrame is highly fragmented.  This is usually the result of calling `frame.insert` many times, which has poor performance.  Consider joining all columns at once using pd.concat(axis=1) instead. To get a de-fragmented frame, use `newframe = frame.copy()`\n",
      "  full_joined_df_copy[f'{col} ** 2'] = full_joined_df_copy[col] ** 2\n",
      "/var/folders/6_/dhlq5ftj4c76n7p9cz2cjkyw0000gn/T/ipykernel_30346/3785742121.py:76: PerformanceWarning: DataFrame is highly fragmented.  This is usually the result of calling `frame.insert` many times, which has poor performance.  Consider joining all columns at once using pd.concat(axis=1) instead. To get a de-fragmented frame, use `newframe = frame.copy()`\n",
      "  full_joined_df_copy[f'{col} ** 2'] = full_joined_df_copy[col] ** 2\n",
      "/var/folders/6_/dhlq5ftj4c76n7p9cz2cjkyw0000gn/T/ipykernel_30346/3785742121.py:76: PerformanceWarning: DataFrame is highly fragmented.  This is usually the result of calling `frame.insert` many times, which has poor performance.  Consider joining all columns at once using pd.concat(axis=1) instead. To get a de-fragmented frame, use `newframe = frame.copy()`\n",
      "  full_joined_df_copy[f'{col} ** 2'] = full_joined_df_copy[col] ** 2\n",
      "/var/folders/6_/dhlq5ftj4c76n7p9cz2cjkyw0000gn/T/ipykernel_30346/3785742121.py:76: PerformanceWarning: DataFrame is highly fragmented.  This is usually the result of calling `frame.insert` many times, which has poor performance.  Consider joining all columns at once using pd.concat(axis=1) instead. To get a de-fragmented frame, use `newframe = frame.copy()`\n",
      "  full_joined_df_copy[f'{col} ** 2'] = full_joined_df_copy[col] ** 2\n",
      "/var/folders/6_/dhlq5ftj4c76n7p9cz2cjkyw0000gn/T/ipykernel_30346/3785742121.py:76: PerformanceWarning: DataFrame is highly fragmented.  This is usually the result of calling `frame.insert` many times, which has poor performance.  Consider joining all columns at once using pd.concat(axis=1) instead. To get a de-fragmented frame, use `newframe = frame.copy()`\n",
      "  full_joined_df_copy[f'{col} ** 2'] = full_joined_df_copy[col] ** 2\n",
      "/var/folders/6_/dhlq5ftj4c76n7p9cz2cjkyw0000gn/T/ipykernel_30346/3785742121.py:76: PerformanceWarning: DataFrame is highly fragmented.  This is usually the result of calling `frame.insert` many times, which has poor performance.  Consider joining all columns at once using pd.concat(axis=1) instead. To get a de-fragmented frame, use `newframe = frame.copy()`\n",
      "  full_joined_df_copy[f'{col} ** 2'] = full_joined_df_copy[col] ** 2\n",
      "/var/folders/6_/dhlq5ftj4c76n7p9cz2cjkyw0000gn/T/ipykernel_30346/3785742121.py:76: PerformanceWarning: DataFrame is highly fragmented.  This is usually the result of calling `frame.insert` many times, which has poor performance.  Consider joining all columns at once using pd.concat(axis=1) instead. To get a de-fragmented frame, use `newframe = frame.copy()`\n",
      "  full_joined_df_copy[f'{col} ** 2'] = full_joined_df_copy[col] ** 2\n",
      "/var/folders/6_/dhlq5ftj4c76n7p9cz2cjkyw0000gn/T/ipykernel_30346/3785742121.py:76: PerformanceWarning: DataFrame is highly fragmented.  This is usually the result of calling `frame.insert` many times, which has poor performance.  Consider joining all columns at once using pd.concat(axis=1) instead. To get a de-fragmented frame, use `newframe = frame.copy()`\n",
      "  full_joined_df_copy[f'{col} ** 2'] = full_joined_df_copy[col] ** 2\n",
      "/var/folders/6_/dhlq5ftj4c76n7p9cz2cjkyw0000gn/T/ipykernel_30346/3785742121.py:76: PerformanceWarning: DataFrame is highly fragmented.  This is usually the result of calling `frame.insert` many times, which has poor performance.  Consider joining all columns at once using pd.concat(axis=1) instead. To get a de-fragmented frame, use `newframe = frame.copy()`\n",
      "  full_joined_df_copy[f'{col} ** 2'] = full_joined_df_copy[col] ** 2\n",
      "/var/folders/6_/dhlq5ftj4c76n7p9cz2cjkyw0000gn/T/ipykernel_30346/3785742121.py:76: PerformanceWarning: DataFrame is highly fragmented.  This is usually the result of calling `frame.insert` many times, which has poor performance.  Consider joining all columns at once using pd.concat(axis=1) instead. To get a de-fragmented frame, use `newframe = frame.copy()`\n",
      "  full_joined_df_copy[f'{col} ** 2'] = full_joined_df_copy[col] ** 2\n"
     ]
    }
   ],
   "source": [
    "import pandas as pd\n",
    "\n",
    "# Convert columns to numeric values (if possible) and replace NaN with zero\n",
    "for col in full_joined_df_copy.columns:\n",
    "    full_joined_df_copy[col] = pd.to_numeric(full_joined_df_copy[col], errors='coerce')\n",
    "\n",
    "# Drop columns that are all NaN (i.e., could not be converted to numbers)\n",
    "full_joined_df_copy = full_joined_df_copy.dropna(axis=1, how='all')\n",
    "\n",
    "# Convert all NaN values to 0\n",
    "full_joined_df_copy = full_joined_df_copy.fillna(0)\n",
    "\n",
    "# Update player age and contract year\n",
    "full_joined_df_copy['fifa_age'] = full_joined_df_copy['fifa_age']\n",
    "full_joined_df_copy['club_contract_valid_until_year'] = (\n",
    "    full_joined_df_copy['club_contract_valid_until_year'] - \n",
    "    full_joined_df_copy['fifa_version'] - 2000\n",
    ")\n",
    "\n",
    "# Create interaction terms\n",
    "full_joined_df_copy['team_nation'] = (\n",
    "    full_joined_df_copy['club_rank'] * \n",
    "    full_joined_df_copy['nationality_rating']\n",
    ")\n",
    "full_joined_df_copy['height_weight'] = (\n",
    "    full_joined_df_copy['weight_kg'] * \n",
    "    full_joined_df_copy['height_cm']\n",
    ")\n",
    "full_joined_df_copy['year_contract'] = (\n",
    "    full_joined_df_copy['club_contract_valid_until_year'] * \n",
    "    full_joined_df_copy['fifa_version']\n",
    ")\n",
    "full_joined_df_copy['defence'] = (\n",
    "    full_joined_df_copy['defending_marking_awareness'] * \n",
    "    full_joined_df_copy['defending_standing_tackle'] * \n",
    "    full_joined_df_copy['defending_sliding_tackle']\n",
    ")\n",
    "\n",
    "print(\"Number of columns after transformations:\", len(full_joined_df_copy.columns))\n",
    "\n",
    "\n",
    "# Interaction of abilities if you are young\n",
    "attributes_list = [\n",
    "    'pace', 'shooting', 'passing', 'dribbling', 'defending', 'physic',\n",
    "    'attacking_crossing', 'attacking_finishing', 'attacking_heading_accuracy',\n",
    "    'attacking_short_passing', 'attacking_volleys', 'skill_dribbling', 'skill_curve',\n",
    "    'skill_fk_accuracy', 'skill_long_passing', 'skill_ball_control',\n",
    "    'movement_acceleration', 'movement_sprint_speed', 'movement_agility', 'movement_reactions',\n",
    "    'movement_balance', 'power_shot_power', 'power_jumping', 'power_stamina',\n",
    "    'power_strength', 'power_long_shots', 'mentality_aggression', 'mentality_interceptions',\n",
    "    'mentality_positioning', 'mentality_vision', 'mentality_penalties', 'mentality_composure',\n",
    "    'defending_marking_awareness', 'defending_standing_tackle', 'defending_sliding_tackle',\n",
    "    'goalkeeping_diving', 'goalkeeping_handling', 'goalkeeping_kicking',\n",
    "    'goalkeeping_positioning', 'goalkeeping_reflexes', 'goalkeeping_speed', 'work_rate_numeric', 'international_reputation', 'nationality_rating',\n",
    "    'club_rank', 'height_cm', 'defence'  # TODO ADD THEM HELP FOR R2, 'value_eur', 'wage_eur'\n",
    "]\n",
    "\n",
    "# Attempt to combine young age (45 minus) together with a high attribute so it will likely be preserved and improve in the future\n",
    "for attr in attributes_list:\n",
    "    full_joined_df_copy[f'age_{attr}'] = (45 - full_joined_df_copy['fifa_age']) * full_joined_df_copy[attr]\n",
    "\n",
    "\n",
    "\n",
    "# full_joined_df_copy['age_value_eur'] = full_joined_df_copy['fifa_age'] * full_joined_df_copy['value_eur'] # TODO ADD THEM HELP FOR R2, DONT KNOW IF IT IS MISSING THE POINT OF THE PROJECT\n",
    "\n",
    "full_joined_df_copy['release_clause_wage'] = full_joined_df_copy['release_clause_eur'] * full_joined_df_copy['wage_eur']  # Indicates importance for the current team\n",
    "\n",
    "full_joined_df_copy['age_potential'] = full_joined_df_copy['fifa_age'] * full_joined_df_copy['potential']\n",
    "\n",
    "full_joined_df_copy['potential_improve'] = full_joined_df_copy['potential'] - full_joined_df_copy['overall']\n",
    "\n",
    "# Adding columns for squared terms (for all columns except 'value_eur')\n",
    "for col in full_joined_df_copy.columns:\n",
    "    if col == 'value_eur_1_year' or col == 'value_eur_2_year' or col == 'value_eur_5_year':\n",
    "        continue\n",
    "    full_joined_df_copy[f'{col} ** 2'] = full_joined_df_copy[col] ** 2\n"
   ]
  },
  {
   "cell_type": "code",
   "execution_count": 18,
   "metadata": {},
   "outputs": [
    {
     "data": {
      "text/plain": [
       "286"
      ]
     },
     "execution_count": 18,
     "metadata": {},
     "output_type": "execute_result"
    }
   ],
   "source": [
    "len(full_joined_df_copy.columns)"
   ]
  },
  {
   "cell_type": "markdown",
   "metadata": {},
   "source": [
    "# Models"
   ]
  },
  {
   "cell_type": "markdown",
   "metadata": {},
   "source": [
    "## Linear Regression"
   ]
  },
  {
   "cell_type": "code",
   "execution_count": 19,
   "metadata": {},
   "outputs": [],
   "source": [
    "\n",
    "def LinearRegressionFunc(group_df, target_col, feature_counts=[4,6,9,12]):\n",
    "    # Dictionary to store results for each feature count\n",
    "    results = {}\n",
    "\n",
    "    # Define feature variables (X) and target variable (y)\n",
    "    X = group_df.drop([target_col], axis=1)\n",
    "    y = group_df[target_col]\n",
    "    # Convert predictions and test values to millions for readability\n",
    "    y = y / 1000000\n",
    "\n",
    "    # Split the data into training and testing sets\n",
    "    X_train, X_test, y_train, y_test = train_test_split(X, y, test_size=0.25, random_state=42)\n",
    "\n",
    "    # Get the list of all features\n",
    "    all_features = list(X.columns)\n",
    "\n",
    "    # Loop through each feature count in feature_counts array\n",
    "    for max_features_to_select in tqdm(feature_counts, desc=\"Testing Different Feature Counts\"):\n",
    "        print(f\"Now checking {max_features_to_select} features\")\n",
    "        # List to store selected features\n",
    "        selected_features = []\n",
    "\n",
    "        # Initial best r2 score set to negative infinity for comparison\n",
    "        best_r2 = -float(\"inf\")\n",
    "        \n",
    "        # Start the forward feature selection loop\n",
    "        for _ in range(len(all_features)):\n",
    "            # Stop if the maximum number of features has been selected\n",
    "            if len(selected_features) >= max_features_to_select:\n",
    "                break\n",
    "\n",
    "            best_feature = None\n",
    "            best_r2_iteration = best_r2\n",
    "\n",
    "            # Check each feature not already selected\n",
    "            for feature in tqdm(all_features, desc=\"Evaluating\", leave=False, disable=True):\n",
    "                if feature not in selected_features:\n",
    "                    # Add the current feature to the temporary feature list\n",
    "                    temp_features = selected_features + [feature]\n",
    "                    X_train_temp = X_train[temp_features]\n",
    "                    X_test_temp = X_test[temp_features]\n",
    "\n",
    "                    # Create the linear regression model and fit it to the data\n",
    "                    model = LinearRegression()\n",
    "                    model.fit(X_train_temp, y_train)\n",
    "\n",
    "                    # Calculate the performance on the test set\n",
    "                    y_pred = model.predict(X_test_temp)\n",
    "                    r2 = r2_score(y_test, y_pred)\n",
    "\n",
    "                    # Save the feature if it improves the performance\n",
    "                    if r2 > best_r2_iteration:\n",
    "                        best_r2_iteration = r2\n",
    "                        best_feature = feature\n",
    "\n",
    "            # Add the best feature from the current iteration to the final feature list\n",
    "            if best_feature:\n",
    "                selected_features.append(best_feature)\n",
    "                best_r2 = best_r2_iteration  # Update the best r2 score\n",
    "            else:\n",
    "                break\n",
    "\n",
    "        # Create the final model with the selected features\n",
    "        X_train_selected = X_train[selected_features]\n",
    "        X_test_selected = X_test[selected_features]\n",
    "        final_model = LinearRegression()\n",
    "        final_model.fit(X_train_selected, y_train)\n",
    "\n",
    "        # Make predictions and evaluate performance\n",
    "        final_y_pred = final_model.predict(X_test_selected)\n",
    "        final_r2 = r2_score(y_test, final_y_pred)\n",
    "\n",
    "        # Calculate Mean Squared Error (MSE)\n",
    "        mse = mean_squared_error(y_test, final_y_pred) #was y_test_converted before divide\n",
    "\n",
    "        # Store coefficients for the selected features\n",
    "        coefficients = final_model.coef_\n",
    "\n",
    "        # bonus \n",
    "\n",
    "        players_to_buy = []\n",
    "        y_pred_to_buy = []\n",
    "        y_test_to_buy = [] \n",
    "        yield_player = []\n",
    "        negative_yield = []\n",
    "            \n",
    "        for i, (index, player) in enumerate(X_test.iterrows()):\n",
    "            \n",
    "            if player['value_eur'] / 1000000 * 1.5 < final_y_pred[i]  and (final_y_pred[i] - player['value_eur']/1000000) > 0.5 and player['value_eur']>0: # Strategy \n",
    "\n",
    "                players_to_buy.append(player)\n",
    "\n",
    "                y_pred_to_buy.append(final_y_pred [i])\n",
    "                y_test_to_buy.append(y_test.to_numpy()[i])\n",
    "\n",
    "                current_yield = (y_test.to_numpy()[i] - player['value_eur'] /1000000)/ (player['value_eur']/1000000) # True yield\n",
    "                \n",
    "                yield_player.append(current_yield)\n",
    "\n",
    "                if current_yield < 0:\n",
    "                    negative_yield.append(current_yield)\n",
    "                    \n",
    "        # Save the results in the results dictionary\n",
    "        results[max_features_to_select] = {\n",
    "            'selected_features': selected_features,\n",
    "            'r2_score': final_r2,\n",
    "            'mse': mse,\n",
    "            'coefficients': coefficients,\n",
    "            'y_pred': final_y_pred,\n",
    "            'y_test': y_test,\n",
    "            'yield_player' :yield_player,\n",
    "            'negative_yield' :negative_yield\n",
    "\n",
    "        }\n",
    "\n",
    "    # Return results for all feature counts evaluated\n",
    "    return results"
   ]
  },
  {
   "cell_type": "code",
   "execution_count": 20,
   "metadata": {},
   "outputs": [
    {
     "name": "stdout",
     "output_type": "stream",
     "text": [
      "Predicting players' value 1 year ahead...\n",
      "Number of GK in the data is 3644\n"
     ]
    },
    {
     "name": "stderr",
     "output_type": "stream",
     "text": [
      "\r",
      "Testing Different Feature Counts:   0%|                   | 0/4 [00:00<?, ?it/s]"
     ]
    },
    {
     "name": "stdout",
     "output_type": "stream",
     "text": [
      "Now checking 4 features\n"
     ]
    },
    {
     "name": "stderr",
     "output_type": "stream",
     "text": [
      "\r",
      "Testing Different Feature Counts:  25%|██▊        | 1/4 [00:01<00:04,  1.53s/it]"
     ]
    },
    {
     "name": "stdout",
     "output_type": "stream",
     "text": [
      "Now checking 6 features\n"
     ]
    },
    {
     "name": "stderr",
     "output_type": "stream",
     "text": [
      "\r",
      "Testing Different Feature Counts:  50%|█████▌     | 2/4 [00:03<00:03,  1.88s/it]"
     ]
    },
    {
     "name": "stdout",
     "output_type": "stream",
     "text": [
      "Now checking 9 features\n"
     ]
    },
    {
     "name": "stderr",
     "output_type": "stream",
     "text": [
      "\r",
      "Testing Different Feature Counts:  75%|████████▎  | 3/4 [00:07<00:02,  2.66s/it]"
     ]
    },
    {
     "name": "stdout",
     "output_type": "stream",
     "text": [
      "Now checking 12 features\n"
     ]
    },
    {
     "name": "stderr",
     "output_type": "stream",
     "text": [
      "Testing Different Feature Counts: 100%|███████████| 4/4 [00:20<00:00,  5.03s/it]\n"
     ]
    },
    {
     "name": "stdout",
     "output_type": "stream",
     "text": [
      "R Squared for GK is: 0.8649164112180289\n",
      "MSE for GK is: 13.130006946400831\n",
      "Selected Features for GK: ['value_eur', 'age_movement_reactions ** 2', 'age_movement_reactions', 'age_club_rank ** 2', 'age_potential ** 2', 'gk ** 2', 'movement_reactions ** 2', 'age_club_rank', 'age_skill_dribbling ** 2'] \n",
      "\n",
      "\n",
      "Predicting players' value 2 years ahead...\n"
     ]
    },
    {
     "name": "stderr",
     "output_type": "stream",
     "text": [
      "\r",
      "Testing Different Feature Counts:   0%|                   | 0/4 [00:00<?, ?it/s]"
     ]
    },
    {
     "name": "stdout",
     "output_type": "stream",
     "text": [
      "Now checking 4 features\n"
     ]
    },
    {
     "name": "stderr",
     "output_type": "stream",
     "text": [
      "\r",
      "Testing Different Feature Counts:  25%|██▊        | 1/4 [00:01<00:04,  1.40s/it]"
     ]
    },
    {
     "name": "stdout",
     "output_type": "stream",
     "text": [
      "Now checking 6 features\n"
     ]
    },
    {
     "name": "stderr",
     "output_type": "stream",
     "text": [
      "\r",
      "Testing Different Feature Counts:  50%|█████▌     | 2/4 [00:03<00:03,  1.75s/it]"
     ]
    },
    {
     "name": "stdout",
     "output_type": "stream",
     "text": [
      "Now checking 9 features\n"
     ]
    },
    {
     "name": "stderr",
     "output_type": "stream",
     "text": [
      "\r",
      "Testing Different Feature Counts:  75%|████████▎  | 3/4 [00:06<00:02,  2.42s/it]"
     ]
    },
    {
     "name": "stdout",
     "output_type": "stream",
     "text": [
      "Now checking 12 features\n"
     ]
    },
    {
     "name": "stderr",
     "output_type": "stream",
     "text": [
      "Testing Different Feature Counts: 100%|███████████| 4/4 [00:11<00:00,  2.83s/it]\n"
     ]
    },
    {
     "name": "stdout",
     "output_type": "stream",
     "text": [
      "R Squared for GK is: 0.7395280774988173\n",
      "MSE for GK is: 63.34724979656815\n",
      "Selected Features for GK: ['value_eur', 'age_movement_reactions ** 2', 'age_movement_reactions', 'age_club_rank ** 2', 'age_skill_dribbling ** 2', 'age_potential ** 2', 'overall ** 2', 'age_international_reputation ** 2', 'international_reputation'] \n",
      "\n",
      "Predicting players' value 1 year ahead...\n",
      "Number of CB in the data is 7034\n"
     ]
    },
    {
     "name": "stderr",
     "output_type": "stream",
     "text": [
      "\r",
      "Testing Different Feature Counts:   0%|                   | 0/4 [00:00<?, ?it/s]"
     ]
    },
    {
     "name": "stdout",
     "output_type": "stream",
     "text": [
      "Now checking 4 features\n"
     ]
    },
    {
     "name": "stderr",
     "output_type": "stream",
     "text": [
      "\r",
      "Testing Different Feature Counts:  25%|██▊        | 1/4 [00:01<00:04,  1.52s/it]"
     ]
    },
    {
     "name": "stdout",
     "output_type": "stream",
     "text": [
      "Now checking 6 features\n"
     ]
    },
    {
     "name": "stderr",
     "output_type": "stream",
     "text": [
      "\r",
      "Testing Different Feature Counts:  50%|█████▌     | 2/4 [00:05<00:06,  3.26s/it]"
     ]
    },
    {
     "name": "stdout",
     "output_type": "stream",
     "text": [
      "Now checking 9 features\n"
     ]
    },
    {
     "name": "stderr",
     "output_type": "stream",
     "text": [
      "\r",
      "Testing Different Feature Counts:  75%|████████▎  | 3/4 [00:19<00:07,  7.88s/it]"
     ]
    },
    {
     "name": "stdout",
     "output_type": "stream",
     "text": [
      "Now checking 12 features\n"
     ]
    },
    {
     "name": "stderr",
     "output_type": "stream",
     "text": [
      "Testing Different Feature Counts: 100%|███████████| 4/4 [00:44<00:00, 11.07s/it]\n"
     ]
    },
    {
     "name": "stdout",
     "output_type": "stream",
     "text": [
      "R Squared for CB is: 0.8810329893091454\n",
      "MSE for CB is: 8.120482124792819\n",
      "Selected Features for CB: ['value_eur', 'age_defending_sliding_tackle ** 2', 'age_defending_sliding_tackle', 'age_club_rank', 'age_potential ** 2', 'club_rank ** 2', 'club_rank', 'age_movement_reactions ** 2', 'gk'] \n",
      "\n",
      "\n",
      "Predicting players' value 2 years ahead...\n"
     ]
    },
    {
     "name": "stderr",
     "output_type": "stream",
     "text": [
      "\r",
      "Testing Different Feature Counts:   0%|                   | 0/4 [00:00<?, ?it/s]"
     ]
    },
    {
     "name": "stdout",
     "output_type": "stream",
     "text": [
      "Now checking 4 features\n"
     ]
    },
    {
     "name": "stderr",
     "output_type": "stream",
     "text": [
      "\r",
      "Testing Different Feature Counts:  25%|██▊        | 1/4 [00:01<00:04,  1.61s/it]"
     ]
    },
    {
     "name": "stdout",
     "output_type": "stream",
     "text": [
      "Now checking 6 features\n"
     ]
    },
    {
     "name": "stderr",
     "output_type": "stream",
     "text": [
      "\r",
      "Testing Different Feature Counts:  50%|█████▌     | 2/4 [00:03<00:04,  2.04s/it]"
     ]
    },
    {
     "name": "stdout",
     "output_type": "stream",
     "text": [
      "Now checking 9 features\n"
     ]
    },
    {
     "name": "stderr",
     "output_type": "stream",
     "text": [
      "\r",
      "Testing Different Feature Counts:  75%|████████▎  | 3/4 [00:07<00:02,  2.92s/it]"
     ]
    },
    {
     "name": "stdout",
     "output_type": "stream",
     "text": [
      "Now checking 12 features\n"
     ]
    },
    {
     "name": "stderr",
     "output_type": "stream",
     "text": [
      "Testing Different Feature Counts: 100%|███████████| 4/4 [00:23<00:00,  5.98s/it]\n"
     ]
    },
    {
     "name": "stdout",
     "output_type": "stream",
     "text": [
      "R Squared for CB is: 0.6522973072258605\n",
      "MSE for CB is: 44.54996466175944\n",
      "Selected Features for CB: ['value_eur', 'age_defence ** 2', 'age_defence', 'age_dribbling ** 2', 'age_international_reputation ** 2', 'year_contract ** 2', 'age_international_reputation', 'club_rank ** 2', 'movement_agility ** 2'] \n",
      "\n",
      "Predicting players' value 1 year ahead...\n",
      "Number of RB in the data is 6449\n"
     ]
    },
    {
     "name": "stderr",
     "output_type": "stream",
     "text": [
      "\r",
      "Testing Different Feature Counts:   0%|                   | 0/4 [00:00<?, ?it/s]"
     ]
    },
    {
     "name": "stdout",
     "output_type": "stream",
     "text": [
      "Now checking 4 features\n"
     ]
    },
    {
     "name": "stderr",
     "output_type": "stream",
     "text": [
      "\r",
      "Testing Different Feature Counts:  25%|██▊        | 1/4 [00:01<00:05,  1.75s/it]"
     ]
    },
    {
     "name": "stdout",
     "output_type": "stream",
     "text": [
      "Now checking 6 features\n"
     ]
    },
    {
     "name": "stderr",
     "output_type": "stream",
     "text": [
      "\r",
      "Testing Different Feature Counts:  50%|█████▌     | 2/4 [00:05<00:06,  3.05s/it]"
     ]
    },
    {
     "name": "stdout",
     "output_type": "stream",
     "text": [
      "Now checking 9 features\n"
     ]
    },
    {
     "name": "stderr",
     "output_type": "stream",
     "text": [
      "\r",
      "Testing Different Feature Counts:  75%|████████▎  | 3/4 [00:16<00:06,  6.63s/it]"
     ]
    },
    {
     "name": "stdout",
     "output_type": "stream",
     "text": [
      "Now checking 12 features\n"
     ]
    },
    {
     "name": "stderr",
     "output_type": "stream",
     "text": [
      "Testing Different Feature Counts: 100%|███████████| 4/4 [00:39<00:00,  9.80s/it]\n"
     ]
    },
    {
     "name": "stdout",
     "output_type": "stream",
     "text": [
      "R Squared for RB is: 0.7264228882428825\n",
      "MSE for RB is: 12.851101959965892\n",
      "Selected Features for RB: ['value_eur', 'age_passing ** 2', 'age_passing', 'wage_eur', 'year_contract ** 2', 'club_contract_valid_until_year ** 2', 'age_power_stamina', 'age_club_rank', 'release_clause_eur'] \n",
      "\n",
      "\n",
      "Predicting players' value 2 years ahead...\n"
     ]
    },
    {
     "name": "stderr",
     "output_type": "stream",
     "text": [
      "\r",
      "Testing Different Feature Counts:   0%|                   | 0/4 [00:00<?, ?it/s]"
     ]
    },
    {
     "name": "stdout",
     "output_type": "stream",
     "text": [
      "Now checking 4 features\n"
     ]
    },
    {
     "name": "stderr",
     "output_type": "stream",
     "text": [
      "\r",
      "Testing Different Feature Counts:  25%|██▊        | 1/4 [00:01<00:04,  1.55s/it]"
     ]
    },
    {
     "name": "stdout",
     "output_type": "stream",
     "text": [
      "Now checking 6 features\n"
     ]
    },
    {
     "name": "stderr",
     "output_type": "stream",
     "text": [
      "\r",
      "Testing Different Feature Counts:  50%|█████▌     | 2/4 [00:03<00:04,  2.01s/it]"
     ]
    },
    {
     "name": "stdout",
     "output_type": "stream",
     "text": [
      "Now checking 9 features\n"
     ]
    },
    {
     "name": "stderr",
     "output_type": "stream",
     "text": [
      "\r",
      "Testing Different Feature Counts:  75%|████████▎  | 3/4 [00:07<00:02,  2.80s/it]"
     ]
    },
    {
     "name": "stdout",
     "output_type": "stream",
     "text": [
      "Now checking 12 features\n"
     ]
    },
    {
     "name": "stderr",
     "output_type": "stream",
     "text": [
      "Testing Different Feature Counts: 100%|███████████| 4/4 [00:19<00:00,  4.99s/it]\n"
     ]
    },
    {
     "name": "stdout",
     "output_type": "stream",
     "text": [
      "R Squared for RB is: 0.6717755527994602\n",
      "MSE for RB is: 34.91133260821148\n",
      "Selected Features for RB: ['value_eur', 'age_defending ** 2', 'age_club_rank', 'age_movement_agility ** 2', 'club_rank ** 2', 'defending', 'release_clause_eur', 'wage_eur', 'age_attacking_crossing ** 2'] \n",
      "\n",
      "Predicting players' value 1 year ahead...\n",
      "Number of DEFENCIVE MID in the data is 7840\n"
     ]
    },
    {
     "name": "stderr",
     "output_type": "stream",
     "text": [
      "\r",
      "Testing Different Feature Counts:   0%|                   | 0/4 [00:00<?, ?it/s]"
     ]
    },
    {
     "name": "stdout",
     "output_type": "stream",
     "text": [
      "Now checking 4 features\n"
     ]
    },
    {
     "name": "stderr",
     "output_type": "stream",
     "text": [
      "\r",
      "Testing Different Feature Counts:  25%|██▊        | 1/4 [00:01<00:05,  1.69s/it]"
     ]
    },
    {
     "name": "stdout",
     "output_type": "stream",
     "text": [
      "Now checking 6 features\n"
     ]
    },
    {
     "name": "stderr",
     "output_type": "stream",
     "text": [
      "\r",
      "Testing Different Feature Counts:  50%|█████▌     | 2/4 [00:06<00:06,  3.39s/it]"
     ]
    },
    {
     "name": "stdout",
     "output_type": "stream",
     "text": [
      "Now checking 9 features\n"
     ]
    },
    {
     "name": "stderr",
     "output_type": "stream",
     "text": [
      "\r",
      "Testing Different Feature Counts:  75%|████████▎  | 3/4 [00:17<00:07,  7.00s/it]"
     ]
    },
    {
     "name": "stdout",
     "output_type": "stream",
     "text": [
      "Now checking 12 features\n"
     ]
    },
    {
     "name": "stderr",
     "output_type": "stream",
     "text": [
      "Testing Different Feature Counts: 100%|███████████| 4/4 [00:41<00:00, 10.31s/it]\n"
     ]
    },
    {
     "name": "stdout",
     "output_type": "stream",
     "text": [
      "R Squared for DEFENCIVE MID is: 0.8867864209786316\n",
      "MSE for DEFENCIVE MID is: 14.095768117782846\n",
      "Selected Features for DEFENCIVE MID: ['value_eur', 'age_passing ** 2', 'age_passing', 'age_defence ** 2', 'player_tags ** 2', 'age_club_rank', 'age_potential ** 2', 'club_rank ** 2', 'age_attacking_crossing ** 2'] \n",
      "\n",
      "\n",
      "Predicting players' value 2 years ahead...\n"
     ]
    },
    {
     "name": "stderr",
     "output_type": "stream",
     "text": [
      "\r",
      "Testing Different Feature Counts:   0%|                   | 0/4 [00:00<?, ?it/s]"
     ]
    },
    {
     "name": "stdout",
     "output_type": "stream",
     "text": [
      "Now checking 4 features\n"
     ]
    },
    {
     "name": "stderr",
     "output_type": "stream",
     "text": [
      "\r",
      "Testing Different Feature Counts:  25%|██▊        | 1/4 [00:01<00:04,  1.60s/it]"
     ]
    },
    {
     "name": "stdout",
     "output_type": "stream",
     "text": [
      "Now checking 6 features\n"
     ]
    },
    {
     "name": "stderr",
     "output_type": "stream",
     "text": [
      "\r",
      "Testing Different Feature Counts:  50%|█████▌     | 2/4 [00:03<00:04,  2.05s/it]"
     ]
    },
    {
     "name": "stdout",
     "output_type": "stream",
     "text": [
      "Now checking 9 features\n"
     ]
    },
    {
     "name": "stderr",
     "output_type": "stream",
     "text": [
      "\r",
      "Testing Different Feature Counts:  75%|████████▎  | 3/4 [00:09<00:03,  3.83s/it]"
     ]
    },
    {
     "name": "stdout",
     "output_type": "stream",
     "text": [
      "Now checking 12 features\n"
     ]
    },
    {
     "name": "stderr",
     "output_type": "stream",
     "text": [
      "Testing Different Feature Counts: 100%|███████████| 4/4 [00:28<00:00,  7.15s/it]\n"
     ]
    },
    {
     "name": "stdout",
     "output_type": "stream",
     "text": [
      "R Squared for DEFENCIVE MID is: 0.8089480091294918\n",
      "MSE for DEFENCIVE MID is: 30.93814266769612\n",
      "Selected Features for DEFENCIVE MID: ['value_eur', 'age_skill_long_passing ** 2', 'age_skill_long_passing', 'player_tags ** 2', 'age_club_rank', 'age_potential ** 2', 'club_rank ** 2', 'wage_eur', 'potential'] \n",
      "\n",
      "Predicting players' value 1 year ahead...\n",
      "Number of ATTACKING MID in the data is 7798\n"
     ]
    },
    {
     "name": "stderr",
     "output_type": "stream",
     "text": [
      "\r",
      "Testing Different Feature Counts:   0%|                   | 0/4 [00:00<?, ?it/s]"
     ]
    },
    {
     "name": "stdout",
     "output_type": "stream",
     "text": [
      "Now checking 4 features\n"
     ]
    },
    {
     "name": "stderr",
     "output_type": "stream",
     "text": [
      "\r",
      "Testing Different Feature Counts:  25%|██▊        | 1/4 [00:01<00:05,  1.85s/it]"
     ]
    },
    {
     "name": "stdout",
     "output_type": "stream",
     "text": [
      "Now checking 6 features\n"
     ]
    },
    {
     "name": "stderr",
     "output_type": "stream",
     "text": [
      "\r",
      "Testing Different Feature Counts:  50%|█████▌     | 2/4 [00:07<00:07,  3.94s/it]"
     ]
    },
    {
     "name": "stdout",
     "output_type": "stream",
     "text": [
      "Now checking 9 features\n"
     ]
    },
    {
     "name": "stderr",
     "output_type": "stream",
     "text": [
      "\r",
      "Testing Different Feature Counts:  75%|████████▎  | 3/4 [00:18<00:07,  7.30s/it]"
     ]
    },
    {
     "name": "stdout",
     "output_type": "stream",
     "text": [
      "Now checking 12 features\n"
     ]
    },
    {
     "name": "stderr",
     "output_type": "stream",
     "text": [
      "Testing Different Feature Counts: 100%|███████████| 4/4 [00:42<00:00, 10.71s/it]\n"
     ]
    },
    {
     "name": "stdout",
     "output_type": "stream",
     "text": [
      "R Squared for ATTACKING MID is: 0.8875394134983211\n",
      "MSE for ATTACKING MID is: 15.298067943848324\n",
      "Selected Features for ATTACKING MID: ['value_eur', 'age_international_reputation ** 2', 'age_skill_dribbling ** 2', 'age_international_reputation', 'age_club_rank', 'age_dribbling ** 2', 'club_contract_valid_until_year', 'player_tags ** 2', 'value_eur ** 2'] \n",
      "\n",
      "\n",
      "Predicting players' value 2 years ahead...\n"
     ]
    },
    {
     "name": "stderr",
     "output_type": "stream",
     "text": [
      "\r",
      "Testing Different Feature Counts:   0%|                   | 0/4 [00:00<?, ?it/s]"
     ]
    },
    {
     "name": "stdout",
     "output_type": "stream",
     "text": [
      "Now checking 4 features\n"
     ]
    },
    {
     "name": "stderr",
     "output_type": "stream",
     "text": [
      "\r",
      "Testing Different Feature Counts:  25%|██▊        | 1/4 [00:01<00:04,  1.56s/it]"
     ]
    },
    {
     "name": "stdout",
     "output_type": "stream",
     "text": [
      "Now checking 6 features\n"
     ]
    },
    {
     "name": "stderr",
     "output_type": "stream",
     "text": [
      "\r",
      "Testing Different Feature Counts:  50%|█████▌     | 2/4 [00:03<00:04,  2.01s/it]"
     ]
    },
    {
     "name": "stdout",
     "output_type": "stream",
     "text": [
      "Now checking 9 features\n"
     ]
    },
    {
     "name": "stderr",
     "output_type": "stream",
     "text": [
      "\r",
      "Testing Different Feature Counts:  75%|████████▎  | 3/4 [00:09<00:03,  3.70s/it]"
     ]
    },
    {
     "name": "stdout",
     "output_type": "stream",
     "text": [
      "Now checking 12 features\n"
     ]
    },
    {
     "name": "stderr",
     "output_type": "stream",
     "text": [
      "Testing Different Feature Counts: 100%|███████████| 4/4 [00:27<00:00,  6.95s/it]\n"
     ]
    },
    {
     "name": "stdout",
     "output_type": "stream",
     "text": [
      "R Squared for ATTACKING MID is: 0.7062591746152551\n",
      "MSE for ATTACKING MID is: 72.4238561859299\n",
      "Selected Features for ATTACKING MID: ['value_eur', 'age_attacking_short_passing ** 2', 'age_club_rank', 'age_international_reputation ** 2', 'age_attacking_short_passing', 'age_dribbling', 'club_rank ** 2', 'fifa_age ** 2', 'lw ** 2'] \n",
      "\n",
      "Predicting players' value 1 year ahead...\n",
      "Number of STRIKER in the data is 4412\n"
     ]
    },
    {
     "name": "stderr",
     "output_type": "stream",
     "text": [
      "\r",
      "Testing Different Feature Counts:   0%|                   | 0/4 [00:00<?, ?it/s]"
     ]
    },
    {
     "name": "stdout",
     "output_type": "stream",
     "text": [
      "Now checking 4 features\n"
     ]
    },
    {
     "name": "stderr",
     "output_type": "stream",
     "text": [
      "\r",
      "Testing Different Feature Counts:  25%|██▊        | 1/4 [00:01<00:04,  1.59s/it]"
     ]
    },
    {
     "name": "stdout",
     "output_type": "stream",
     "text": [
      "Now checking 6 features\n"
     ]
    },
    {
     "name": "stderr",
     "output_type": "stream",
     "text": [
      "\r",
      "Testing Different Feature Counts:  50%|█████▌     | 2/4 [00:03<00:04,  2.03s/it]"
     ]
    },
    {
     "name": "stdout",
     "output_type": "stream",
     "text": [
      "Now checking 9 features\n"
     ]
    },
    {
     "name": "stderr",
     "output_type": "stream",
     "text": [
      "\r",
      "Testing Different Feature Counts:  75%|████████▎  | 3/4 [00:09<00:03,  3.61s/it]"
     ]
    },
    {
     "name": "stdout",
     "output_type": "stream",
     "text": [
      "Now checking 12 features\n"
     ]
    },
    {
     "name": "stderr",
     "output_type": "stream",
     "text": [
      "Testing Different Feature Counts: 100%|███████████| 4/4 [00:28<00:00,  7.01s/it]\n"
     ]
    },
    {
     "name": "stdout",
     "output_type": "stream",
     "text": [
      "R Squared for STRIKER is: 0.8445512136698369\n",
      "MSE for STRIKER is: 20.301333509414366\n",
      "Selected Features for STRIKER: ['value_eur', 'age_skill_ball_control ** 2', 'age_skill_ball_control', 'age_club_rank', 'age_international_reputation ** 2', 'international_reputation ** 2', 'club_rank ** 2', 'fifa_age ** 2', 'skill_ball_control'] \n",
      "\n",
      "\n",
      "Predicting players' value 2 years ahead...\n"
     ]
    },
    {
     "name": "stderr",
     "output_type": "stream",
     "text": [
      "\r",
      "Testing Different Feature Counts:   0%|                   | 0/4 [00:00<?, ?it/s]"
     ]
    },
    {
     "name": "stdout",
     "output_type": "stream",
     "text": [
      "Now checking 4 features\n"
     ]
    },
    {
     "name": "stderr",
     "output_type": "stream",
     "text": [
      "\r",
      "Testing Different Feature Counts:  25%|██▊        | 1/4 [00:01<00:04,  1.51s/it]"
     ]
    },
    {
     "name": "stdout",
     "output_type": "stream",
     "text": [
      "Now checking 6 features\n"
     ]
    },
    {
     "name": "stderr",
     "output_type": "stream",
     "text": [
      "\r",
      "Testing Different Feature Counts:  50%|█████▌     | 2/4 [00:03<00:03,  1.92s/it]"
     ]
    },
    {
     "name": "stdout",
     "output_type": "stream",
     "text": [
      "Now checking 9 features\n"
     ]
    },
    {
     "name": "stderr",
     "output_type": "stream",
     "text": [
      "\r",
      "Testing Different Feature Counts:  75%|████████▎  | 3/4 [00:07<00:02,  2.75s/it]"
     ]
    },
    {
     "name": "stdout",
     "output_type": "stream",
     "text": [
      "Now checking 12 features\n"
     ]
    },
    {
     "name": "stderr",
     "output_type": "stream",
     "text": [
      "Testing Different Feature Counts: 100%|███████████| 4/4 [00:13<00:00,  3.32s/it]"
     ]
    },
    {
     "name": "stdout",
     "output_type": "stream",
     "text": [
      "R Squared for STRIKER is: 0.7741415928541617\n",
      "MSE for STRIKER is: 72.23343789362993\n",
      "Selected Features for STRIKER: ['value_eur', 'age_power_long_shots ** 2', 'age_international_reputation ** 2', 'age_power_long_shots', 'fifa_version ** 2', 'player_tags ** 2', 'age_power_jumping ** 2', 'club_contract_valid_until_year ** 2', 'height_cm ** 2'] \n",
      "\n",
      "sharpe_ratio is 0.5340018191567791 , and sortino_ratio is 5.922376411577182\n"
     ]
    },
    {
     "name": "stderr",
     "output_type": "stream",
     "text": [
      "\n"
     ]
    }
   ],
   "source": [
    "pos_list = ['','GK', 'CB', 'RB', 'DEFENCIVE MID', 'ATTACKING MID', 'STRIKER']\n",
    "value_eur_list = ['value_eur_1_year', 'value_eur_2_year']\n",
    "\n",
    "yield_player_1_year = []\n",
    "negative_yield_1_year = []\n",
    "yield_player_2_year = []\n",
    "negative_yield_2_year = []\n",
    "Result_1_year = []\n",
    "Result_2_year = []\n",
    "\n",
    "for i in range(1,7):\n",
    "    \n",
    "    print(\"Predicting players' value 1 year ahead...\")\n",
    "    group_df = full_joined_df_copy[(full_joined_df_copy['position'] == i) ]\n",
    "    group_df = group_df.drop('value_eur_2_year', axis = 1)\n",
    "\n",
    "    group_df = group_df[group_df['value_eur_1_year']>0]\n",
    "    print(f'Number of {pos_list[i]} in the data is {len(group_df)}')\n",
    "    result = LinearRegressionFunc (group_df, 'value_eur_1_year')\n",
    "    Result_1_year.append(result)\n",
    "\n",
    "    yield_player_1_year += result[9]['yield_player']\n",
    "    negative_yield_1_year += result[9]['negative_yield']\n",
    "    print(f\"R Squared for {pos_list[i]} is: {result[9]['r2_score']}\")\n",
    "    print(f\"MSE for {pos_list[i]} is: {result[9]['mse']}\")\n",
    "    print(f\"Selected Features for {pos_list[i]}: {result[9]['selected_features']} \\n\")\n",
    "\n",
    "########################\n",
    "\n",
    "    print(\"\\nPredicting players' value 2 years ahead...\")\n",
    "\n",
    "    group_df = full_joined_df_copy[(full_joined_df_copy['position'] == i) ]\n",
    "    group_df = group_df.drop('value_eur_1_year', axis = 1)\n",
    "\n",
    "    group_df = group_df[group_df['value_eur_2_year']>0]\n",
    "    group_df = group_df[group_df['club_rank'] != 6]\n",
    "\n",
    "    result = LinearRegressionFunc (group_df, 'value_eur_2_year')\n",
    "    Result_2_year.append(result)\n",
    "\n",
    "   \n",
    "    print(f\"R Squared for {pos_list[i]} is: {result[9]['r2_score']}\")\n",
    "    print(f\"MSE for {pos_list[i]} is: {result[9]['mse']}\")\n",
    "    print(f\"Selected Features for {pos_list[i]}: {result[9]['selected_features']} \\n\")\n",
    "   \n",
    "    \n",
    "################ Bonus Part ################\n",
    "\n",
    "average_yield = np.mean(yield_player_1_year)\n",
    "\n",
    "std_dev = np.std(yield_player_1_year)\n",
    "\n",
    "risk_free_rate = 0.02 \n",
    "yield_player = np.array(yield_player_1_year)\n",
    "\n",
    "# Sharpe Calculation\n",
    "sharpe_ratio = (average_yield - risk_free_rate) / std_dev if std_dev != 0 else np.nan\n",
    "\n",
    "\n",
    "\n",
    "negative_std_dev = np.std(negative_yield_1_year) if negative_yield_1_year else 0\n",
    "\n",
    "# Sortino Calculation\n",
    "sortino_ratio = (average_yield - risk_free_rate) / negative_std_dev if negative_std_dev != 0 else np.nan\n",
    "\n",
    "print(f'sharpe_ratio is {sharpe_ratio} , and sortino_ratio is {sortino_ratio}')\n",
    "\n",
    "        "
   ]
  },
  {
   "cell_type": "code",
   "execution_count": 21,
   "metadata": {},
   "outputs": [
    {
     "data": {
      "text/html": [
       "<style type=\"text/css\">\n",
       "#T_8265a_row0_col0, #T_8265a_row0_col1, #T_8265a_row0_col2, #T_8265a_row0_col3, #T_8265a_row0_col4, #T_8265a_row0_col5, #T_8265a_row1_col0, #T_8265a_row1_col1, #T_8265a_row1_col2, #T_8265a_row1_col3, #T_8265a_row1_col4, #T_8265a_row1_col5, #T_8265a_row2_col0, #T_8265a_row2_col1, #T_8265a_row2_col2, #T_8265a_row2_col3, #T_8265a_row2_col4, #T_8265a_row2_col5, #T_8265a_row3_col0, #T_8265a_row3_col1, #T_8265a_row3_col2, #T_8265a_row3_col3, #T_8265a_row3_col4, #T_8265a_row3_col5, #T_8265a_row4_col0, #T_8265a_row4_col1, #T_8265a_row4_col2, #T_8265a_row4_col3, #T_8265a_row4_col4, #T_8265a_row4_col5, #T_8265a_row5_col0, #T_8265a_row5_col1, #T_8265a_row5_col2, #T_8265a_row5_col3, #T_8265a_row5_col4, #T_8265a_row5_col5, #T_8265a_row6_col0, #T_8265a_row6_col1, #T_8265a_row6_col2, #T_8265a_row6_col3, #T_8265a_row6_col4, #T_8265a_row6_col5, #T_8265a_row7_col0, #T_8265a_row7_col1, #T_8265a_row7_col2, #T_8265a_row7_col3, #T_8265a_row7_col4, #T_8265a_row7_col5, #T_8265a_row8_col0, #T_8265a_row8_col1, #T_8265a_row8_col2, #T_8265a_row8_col3, #T_8265a_row8_col4, #T_8265a_row8_col5, #T_8265a_row9_col0, #T_8265a_row9_col1, #T_8265a_row9_col2, #T_8265a_row9_col3, #T_8265a_row9_col4, #T_8265a_row9_col5, #T_8265a_row10_col0, #T_8265a_row10_col1, #T_8265a_row10_col2, #T_8265a_row10_col3, #T_8265a_row10_col4, #T_8265a_row10_col5, #T_8265a_row11_col0, #T_8265a_row11_col1, #T_8265a_row11_col2, #T_8265a_row11_col3, #T_8265a_row11_col4, #T_8265a_row11_col5 {\n",
       "  text-align: left;\n",
       "}\n",
       "</style>\n",
       "<table id=\"T_8265a\">\n",
       "  <thead>\n",
       "    <tr>\n",
       "      <th class=\"blank level0\" >&nbsp;</th>\n",
       "      <th id=\"T_8265a_level0_col0\" class=\"col_heading level0 col0\" >Position</th>\n",
       "      <th id=\"T_8265a_level0_col1\" class=\"col_heading level0 col1\" >Num Features</th>\n",
       "      <th id=\"T_8265a_level0_col2\" class=\"col_heading level0 col2\" >Prediction Ahead</th>\n",
       "      <th id=\"T_8265a_level0_col3\" class=\"col_heading level0 col3\" >R²</th>\n",
       "      <th id=\"T_8265a_level0_col4\" class=\"col_heading level0 col4\" >MSE</th>\n",
       "      <th id=\"T_8265a_level0_col5\" class=\"col_heading level0 col5\" >Top Features</th>\n",
       "    </tr>\n",
       "  </thead>\n",
       "  <tbody>\n",
       "    <tr>\n",
       "      <th id=\"T_8265a_level0_row0\" class=\"row_heading level0 row0\" >0</th>\n",
       "      <td id=\"T_8265a_row0_col0\" class=\"data row0 col0\" >GK</td>\n",
       "      <td id=\"T_8265a_row0_col1\" class=\"data row0 col1\" >9</td>\n",
       "      <td id=\"T_8265a_row0_col2\" class=\"data row0 col2\" >1 Year</td>\n",
       "      <td id=\"T_8265a_row0_col3\" class=\"data row0 col3\" >0.864916</td>\n",
       "      <td id=\"T_8265a_row0_col4\" class=\"data row0 col4\" >13.130007</td>\n",
       "      <td id=\"T_8265a_row0_col5\" class=\"data row0 col5\" >['value_eur', 'age_movement_reactions ** 2', 'age_movement_reactions', 'age_club_rank ** 2', 'age_potential ** 2', 'gk ** 2', 'movement_reactions ** 2', 'age_club_rank', 'age_skill_dribbling ** 2']</td>\n",
       "    </tr>\n",
       "    <tr>\n",
       "      <th id=\"T_8265a_level0_row1\" class=\"row_heading level0 row1\" >1</th>\n",
       "      <td id=\"T_8265a_row1_col0\" class=\"data row1 col0\" >GK</td>\n",
       "      <td id=\"T_8265a_row1_col1\" class=\"data row1 col1\" >9</td>\n",
       "      <td id=\"T_8265a_row1_col2\" class=\"data row1 col2\" >2 Years</td>\n",
       "      <td id=\"T_8265a_row1_col3\" class=\"data row1 col3\" >0.739528</td>\n",
       "      <td id=\"T_8265a_row1_col4\" class=\"data row1 col4\" >63.347250</td>\n",
       "      <td id=\"T_8265a_row1_col5\" class=\"data row1 col5\" >['value_eur', 'age_movement_reactions ** 2', 'age_movement_reactions', 'age_club_rank ** 2', 'age_skill_dribbling ** 2', 'age_potential ** 2', 'overall ** 2', 'age_international_reputation ** 2', 'international_reputation']</td>\n",
       "    </tr>\n",
       "    <tr>\n",
       "      <th id=\"T_8265a_level0_row2\" class=\"row_heading level0 row2\" >2</th>\n",
       "      <td id=\"T_8265a_row2_col0\" class=\"data row2 col0\" >CB</td>\n",
       "      <td id=\"T_8265a_row2_col1\" class=\"data row2 col1\" >9</td>\n",
       "      <td id=\"T_8265a_row2_col2\" class=\"data row2 col2\" >1 Year</td>\n",
       "      <td id=\"T_8265a_row2_col3\" class=\"data row2 col3\" >0.881033</td>\n",
       "      <td id=\"T_8265a_row2_col4\" class=\"data row2 col4\" >8.120482</td>\n",
       "      <td id=\"T_8265a_row2_col5\" class=\"data row2 col5\" >['value_eur', 'age_defending_sliding_tackle ** 2', 'age_defending_sliding_tackle', 'age_club_rank', 'age_potential ** 2', 'club_rank ** 2', 'club_rank', 'age_movement_reactions ** 2', 'gk']</td>\n",
       "    </tr>\n",
       "    <tr>\n",
       "      <th id=\"T_8265a_level0_row3\" class=\"row_heading level0 row3\" >3</th>\n",
       "      <td id=\"T_8265a_row3_col0\" class=\"data row3 col0\" >CB</td>\n",
       "      <td id=\"T_8265a_row3_col1\" class=\"data row3 col1\" >9</td>\n",
       "      <td id=\"T_8265a_row3_col2\" class=\"data row3 col2\" >2 Years</td>\n",
       "      <td id=\"T_8265a_row3_col3\" class=\"data row3 col3\" >0.652297</td>\n",
       "      <td id=\"T_8265a_row3_col4\" class=\"data row3 col4\" >44.549965</td>\n",
       "      <td id=\"T_8265a_row3_col5\" class=\"data row3 col5\" >['value_eur', 'age_defence ** 2', 'age_defence', 'age_dribbling ** 2', 'age_international_reputation ** 2', 'year_contract ** 2', 'age_international_reputation', 'club_rank ** 2', 'movement_agility ** 2']</td>\n",
       "    </tr>\n",
       "    <tr>\n",
       "      <th id=\"T_8265a_level0_row4\" class=\"row_heading level0 row4\" >4</th>\n",
       "      <td id=\"T_8265a_row4_col0\" class=\"data row4 col0\" >RB LB</td>\n",
       "      <td id=\"T_8265a_row4_col1\" class=\"data row4 col1\" >9</td>\n",
       "      <td id=\"T_8265a_row4_col2\" class=\"data row4 col2\" >1 Year</td>\n",
       "      <td id=\"T_8265a_row4_col3\" class=\"data row4 col3\" >0.726423</td>\n",
       "      <td id=\"T_8265a_row4_col4\" class=\"data row4 col4\" >12.851102</td>\n",
       "      <td id=\"T_8265a_row4_col5\" class=\"data row4 col5\" >['value_eur', 'age_passing ** 2', 'age_passing', 'wage_eur', 'year_contract ** 2', 'club_contract_valid_until_year ** 2', 'age_power_stamina', 'age_club_rank', 'release_clause_eur']</td>\n",
       "    </tr>\n",
       "    <tr>\n",
       "      <th id=\"T_8265a_level0_row5\" class=\"row_heading level0 row5\" >5</th>\n",
       "      <td id=\"T_8265a_row5_col0\" class=\"data row5 col0\" >RB LB</td>\n",
       "      <td id=\"T_8265a_row5_col1\" class=\"data row5 col1\" >9</td>\n",
       "      <td id=\"T_8265a_row5_col2\" class=\"data row5 col2\" >2 Years</td>\n",
       "      <td id=\"T_8265a_row5_col3\" class=\"data row5 col3\" >0.671776</td>\n",
       "      <td id=\"T_8265a_row5_col4\" class=\"data row5 col4\" >34.911333</td>\n",
       "      <td id=\"T_8265a_row5_col5\" class=\"data row5 col5\" >['value_eur', 'age_defending ** 2', 'age_club_rank', 'age_movement_agility ** 2', 'club_rank ** 2', 'defending', 'release_clause_eur', 'wage_eur', 'age_attacking_crossing ** 2']</td>\n",
       "    </tr>\n",
       "    <tr>\n",
       "      <th id=\"T_8265a_level0_row6\" class=\"row_heading level0 row6\" >6</th>\n",
       "      <td id=\"T_8265a_row6_col0\" class=\"data row6 col0\" >DEFENSIVE MID</td>\n",
       "      <td id=\"T_8265a_row6_col1\" class=\"data row6 col1\" >9</td>\n",
       "      <td id=\"T_8265a_row6_col2\" class=\"data row6 col2\" >1 Year</td>\n",
       "      <td id=\"T_8265a_row6_col3\" class=\"data row6 col3\" >0.886786</td>\n",
       "      <td id=\"T_8265a_row6_col4\" class=\"data row6 col4\" >14.095768</td>\n",
       "      <td id=\"T_8265a_row6_col5\" class=\"data row6 col5\" >['value_eur', 'age_passing ** 2', 'age_passing', 'age_defence ** 2', 'player_tags ** 2', 'age_club_rank', 'age_potential ** 2', 'club_rank ** 2', 'age_attacking_crossing ** 2']</td>\n",
       "    </tr>\n",
       "    <tr>\n",
       "      <th id=\"T_8265a_level0_row7\" class=\"row_heading level0 row7\" >7</th>\n",
       "      <td id=\"T_8265a_row7_col0\" class=\"data row7 col0\" >DEFENSIVE MID</td>\n",
       "      <td id=\"T_8265a_row7_col1\" class=\"data row7 col1\" >9</td>\n",
       "      <td id=\"T_8265a_row7_col2\" class=\"data row7 col2\" >2 Years</td>\n",
       "      <td id=\"T_8265a_row7_col3\" class=\"data row7 col3\" >0.808948</td>\n",
       "      <td id=\"T_8265a_row7_col4\" class=\"data row7 col4\" >30.938143</td>\n",
       "      <td id=\"T_8265a_row7_col5\" class=\"data row7 col5\" >['value_eur', 'age_skill_long_passing ** 2', 'age_skill_long_passing', 'player_tags ** 2', 'age_club_rank', 'age_potential ** 2', 'club_rank ** 2', 'wage_eur', 'potential']</td>\n",
       "    </tr>\n",
       "    <tr>\n",
       "      <th id=\"T_8265a_level0_row8\" class=\"row_heading level0 row8\" >8</th>\n",
       "      <td id=\"T_8265a_row8_col0\" class=\"data row8 col0\" >ATTACKING MID</td>\n",
       "      <td id=\"T_8265a_row8_col1\" class=\"data row8 col1\" >9</td>\n",
       "      <td id=\"T_8265a_row8_col2\" class=\"data row8 col2\" >1 Year</td>\n",
       "      <td id=\"T_8265a_row8_col3\" class=\"data row8 col3\" >0.887539</td>\n",
       "      <td id=\"T_8265a_row8_col4\" class=\"data row8 col4\" >15.298068</td>\n",
       "      <td id=\"T_8265a_row8_col5\" class=\"data row8 col5\" >['value_eur', 'age_international_reputation ** 2', 'age_skill_dribbling ** 2', 'age_international_reputation', 'age_club_rank', 'age_dribbling ** 2', 'club_contract_valid_until_year', 'player_tags ** 2', 'value_eur ** 2']</td>\n",
       "    </tr>\n",
       "    <tr>\n",
       "      <th id=\"T_8265a_level0_row9\" class=\"row_heading level0 row9\" >9</th>\n",
       "      <td id=\"T_8265a_row9_col0\" class=\"data row9 col0\" >ATTACKING MID</td>\n",
       "      <td id=\"T_8265a_row9_col1\" class=\"data row9 col1\" >9</td>\n",
       "      <td id=\"T_8265a_row9_col2\" class=\"data row9 col2\" >2 Years</td>\n",
       "      <td id=\"T_8265a_row9_col3\" class=\"data row9 col3\" >0.706259</td>\n",
       "      <td id=\"T_8265a_row9_col4\" class=\"data row9 col4\" >72.423856</td>\n",
       "      <td id=\"T_8265a_row9_col5\" class=\"data row9 col5\" >['value_eur', 'age_attacking_short_passing ** 2', 'age_club_rank', 'age_international_reputation ** 2', 'age_attacking_short_passing', 'age_dribbling', 'club_rank ** 2', 'fifa_age ** 2', 'lw ** 2']</td>\n",
       "    </tr>\n",
       "    <tr>\n",
       "      <th id=\"T_8265a_level0_row10\" class=\"row_heading level0 row10\" >10</th>\n",
       "      <td id=\"T_8265a_row10_col0\" class=\"data row10 col0\" >STRIKER</td>\n",
       "      <td id=\"T_8265a_row10_col1\" class=\"data row10 col1\" >9</td>\n",
       "      <td id=\"T_8265a_row10_col2\" class=\"data row10 col2\" >1 Year</td>\n",
       "      <td id=\"T_8265a_row10_col3\" class=\"data row10 col3\" >0.844551</td>\n",
       "      <td id=\"T_8265a_row10_col4\" class=\"data row10 col4\" >20.301334</td>\n",
       "      <td id=\"T_8265a_row10_col5\" class=\"data row10 col5\" >['value_eur', 'age_skill_ball_control ** 2', 'age_skill_ball_control', 'age_club_rank', 'age_international_reputation ** 2', 'international_reputation ** 2', 'club_rank ** 2', 'fifa_age ** 2', 'skill_ball_control']</td>\n",
       "    </tr>\n",
       "    <tr>\n",
       "      <th id=\"T_8265a_level0_row11\" class=\"row_heading level0 row11\" >11</th>\n",
       "      <td id=\"T_8265a_row11_col0\" class=\"data row11 col0\" >STRIKER</td>\n",
       "      <td id=\"T_8265a_row11_col1\" class=\"data row11 col1\" >9</td>\n",
       "      <td id=\"T_8265a_row11_col2\" class=\"data row11 col2\" >2 Years</td>\n",
       "      <td id=\"T_8265a_row11_col3\" class=\"data row11 col3\" >0.774142</td>\n",
       "      <td id=\"T_8265a_row11_col4\" class=\"data row11 col4\" >72.233438</td>\n",
       "      <td id=\"T_8265a_row11_col5\" class=\"data row11 col5\" >['value_eur', 'age_power_long_shots ** 2', 'age_international_reputation ** 2', 'age_power_long_shots', 'fifa_version ** 2', 'player_tags ** 2', 'age_power_jumping ** 2', 'club_contract_valid_until_year ** 2', 'height_cm ** 2']</td>\n",
       "    </tr>\n",
       "  </tbody>\n",
       "</table>\n"
      ],
      "text/plain": [
       "<pandas.io.formats.style.Styler at 0x167c1e470>"
      ]
     },
     "metadata": {},
     "output_type": "display_data"
    }
   ],
   "source": [
    "\n",
    "# Creating a list of positions\n",
    "pos_list = ['', 'GK', 'CB', 'RB LB', 'DEFENSIVE MID', 'ATTACKING MID', 'STRIKER']\n",
    "num_players_group = 6\n",
    "\n",
    "# Creating a list to store results in a format suitable for DataFrame\n",
    "results_data = []\n",
    "\n",
    "# Loop through each position\n",
    "for i in range(num_players_group):\n",
    "    position = pos_list[i + 1]\n",
    "    for j in [9]:  # TODO ADD [4, 6, 9, 12]\n",
    "        # Adding results for one year ahead prediction\n",
    "        results_data.append({\n",
    "            'Position': position,\n",
    "            'Num Features': j,\n",
    "            'Prediction Ahead': '1 Year',\n",
    "            'R²': Result_1_year[i][j]['r2_score'],\n",
    "            'MSE': Result_1_year[i][j]['mse'],\n",
    "            'Top Features': Result_1_year[i][j]['selected_features']\n",
    "        })\n",
    "\n",
    "        # Adding results for two years ahead prediction\n",
    "        results_data.append({\n",
    "            'Position': position,\n",
    "            'Num Features': j,\n",
    "            'Prediction Ahead': '2 Years',\n",
    "            'R²': Result_2_year[i][j]['r2_score'],\n",
    "            'MSE': Result_2_year[i][j]['mse'],\n",
    "            'Top Features': Result_2_year[i][j]['selected_features']\n",
    "        })\n",
    "\n",
    "# Converting to DataFrame\n",
    "results_df = pd.DataFrame(results_data)\n",
    "\n",
    "# Styling the DataFrame: Aligning text to the left\n",
    "styled_df = results_df.style.set_properties(**{'text-align': 'left'})\n",
    "\n",
    "# Displaying the DataFrame\n",
    "pd.set_option('display.max_columns', None)  # Display all columns\n",
    "pd.set_option('display.max_colwidth', None)  # Display all text in columns\n",
    "pd.set_option('display.expand_frame_repr', False)  # Prevent line breaks\n",
    "display(styled_df)\n"
   ]
  },
  {
   "cell_type": "code",
   "execution_count": 22,
   "metadata": {},
   "outputs": [
    {
     "name": "stdout",
     "output_type": "stream",
     "text": [
      "Total number of unique features: 53\n"
     ]
    }
   ],
   "source": [
    "feature_list = set()  # Using a set to avoid duplicates\n",
    "\n",
    "# Iterate over the 'Top Features' column\n",
    "for features in results_df['Top Features']:\n",
    "    feature_list.update(features)  # Add all elements from each list to the set\n",
    "\n",
    "# Convert the set to a sorted list\n",
    "feature_list = sorted(feature_list)\n",
    "\n",
    "# Print the unique feature list and its length\n",
    "print(\"Total number of unique features:\", len(feature_list))\n"
   ]
  },
  {
   "cell_type": "markdown",
   "metadata": {},
   "source": [
    "# Analyze The Distribution for the best result"
   ]
  },
  {
   "cell_type": "code",
   "execution_count": 23,
   "metadata": {},
   "outputs": [],
   "source": [
    "import numpy as np\n",
    "import scipy.stats as stats\n",
    "def calculate_confidence_interval(y_pred, y_test, confidence=0.95):\n",
    "    \"\"\"\n",
    "    Calculate the confidence interval for the difference between y_pred and y_test.\n",
    "    \n",
    "    Parameters:\n",
    "    - y_pred: array-like, predicted values.\n",
    "    - y_test: array-like, actual values.\n",
    "    - confidence: float, confidence level (default is 0.95 for 95% confidence).\n",
    "    \n",
    "    Returns:\n",
    "    - mean_diff: Mean of the differences.\n",
    "    - lower_bound: Lower bound of the confidence interval.\n",
    "    - upper_bound: Upper bound of the confidence interval.\n",
    "    \"\"\"\n",
    "    # Calculate the differences between predictions and actual values\n",
    "    differences = y_pred - y_test\n",
    "\n",
    "    # Calculate mean and standard error of the differences\n",
    "    mean_diff = np.mean(differences)\n",
    "    std_error = np.std(differences, ddof=1) / np.sqrt(len(differences))\n",
    "\n",
    "    # Get the critical t value (or z value) based on the confidence level\n",
    "    t_critical = stats.t.ppf((1 + confidence) / 2, df=len(differences) - 1)\n",
    "\n",
    "    # Calculate the margin of error\n",
    "    margin_of_error = t_critical * std_error\n",
    "\n",
    "    # Calculate lower and upper bounds of the confidence interval\n",
    "    lower_bound = mean_diff - margin_of_error\n",
    "    upper_bound = mean_diff + margin_of_error\n",
    "\n",
    "    print(f'[{lower_bound}, {upper_bound}] \\n')"
   ]
  },
  {
   "cell_type": "code",
   "execution_count": 24,
   "metadata": {},
   "outputs": [
    {
     "name": "stdout",
     "output_type": "stream",
     "text": [
      "Creating side-by-side histogram for position GK\n",
      " Confidence Interval for predicting GK value 1 year ahead\n",
      "[-0.0740891714203206, 0.39692777261937184] \n",
      "\n",
      " Confidence Interval for predicting GK value 2 years ahead\n",
      "[-1.660874254628939, -0.25093245963488087] \n",
      "\n",
      "Creating side-by-side histogram for position CB\n",
      " Confidence Interval for predicting CB value 1 year ahead\n",
      "[-0.12126197739453434, 0.145334736084657] \n",
      "\n",
      " Confidence Interval for predicting CB value 2 years ahead\n",
      "[-0.9338040265776313, -0.08135248537193696] \n",
      "\n",
      "Creating side-by-side histogram for position RB LB\n",
      " Confidence Interval for predicting RB LB value 1 year ahead\n",
      "[-0.11442173938295244, 0.23578921496359292] \n",
      "\n",
      " Confidence Interval for predicting RB LB value 2 years ahead\n",
      "[-0.6570681745890259, 0.133983464044658] \n",
      "\n",
      "Creating side-by-side histogram for position DEFENSIVE MID\n",
      " Confidence Interval for predicting DEFENSIVE MID value 1 year ahead\n",
      "[-0.15734297562566907, 0.17537203778399052] \n",
      "\n",
      " Confidence Interval for predicting DEFENSIVE MID value 2 years ahead\n",
      "[-0.09607980063488256, 0.5724951014949431] \n",
      "\n",
      "Creating side-by-side histogram for position ATTACKING MID\n",
      " Confidence Interval for predicting ATTACKING MID value 1 year ahead\n",
      "[-0.14829693994501525, 0.19920005276863006] \n",
      "\n",
      " Confidence Interval for predicting ATTACKING MID value 2 years ahead\n",
      "[-0.6398363526196342, 0.39469760662500164] \n",
      "\n",
      "Creating side-by-side histogram for position STRIKER\n",
      " Confidence Interval for predicting STRIKER value 1 year ahead\n",
      "[-0.13542990936053634, 0.39697717444201264] \n",
      "\n",
      " Confidence Interval for predicting STRIKER value 2 years ahead\n",
      "[-0.7319052670656044, 0.624128303614962] \n",
      "\n"
     ]
    }
   ],
   "source": [
    "# Use the function to display the graphs side by side\n",
    "num_features = 9\n",
    "\n",
    "for i, (result_for_position_1, result_for_position_2) in enumerate(zip(Result_1_year, Result_2_year)):\n",
    "    print(f'Creating side-by-side histogram for position {pos_list[i+1]}')\n",
    "    y_pred_1 = result_for_position_1[num_features]['y_pred']\n",
    "    y_test_1 = result_for_position_1[num_features]['y_test']\n",
    "    y_pred_2 = result_for_position_2[num_features]['y_pred']\n",
    "    y_test_2 = result_for_position_2[num_features]['y_test']\n",
    "    \n",
    "    # Display the two graphs side by side for each position and print the statistics below\n",
    "    print(f' Confidence Interval for predicting {pos_list[i+1]} value 1 year ahead')\n",
    "    calculate_confidence_interval(y_pred_1, y_test_1)\n",
    "    print(f' Confidence Interval for predicting {pos_list[i+1]} value 2 years ahead')\n",
    "    calculate_confidence_interval(y_pred_2, y_test_2.values)"
   ]
  },
  {
   "cell_type": "code",
   "execution_count": 25,
   "metadata": {
    "scrolled": false
   },
   "outputs": [
    {
     "name": "stdout",
     "output_type": "stream",
     "text": [
      "Creating side-by-side histogram for position GK\n"
     ]
    },
    {
     "name": "stderr",
     "output_type": "stream",
     "text": [
      "/var/folders/6_/dhlq5ftj4c76n7p9cz2cjkyw0000gn/T/ipykernel_30346/1350757295.py:27: UserWarning: FixedFormatter should only be used together with FixedLocator\n",
      "  axes[0].set_yticklabels([f'{round(label * 100, 1)}%' for label in y_labels])\n",
      "/var/folders/6_/dhlq5ftj4c76n7p9cz2cjkyw0000gn/T/ipykernel_30346/1350757295.py:39: UserWarning: FixedFormatter should only be used together with FixedLocator\n",
      "  axes[1].set_yticklabels([f'{round(label * 100, 1)}%' for label in y_labels])\n"
     ]
    },
    {
     "data": {
      "image/png": "[encoded data removed]",
      "text/plain": [
       "<Figure size 1200x500 with 2 Axes>"
      ]
     },
     "metadata": {},
     "output_type": "display_data"
    },
    {
     "name": "stdout",
     "output_type": "stream",
     "text": [
      "Statistics for GK - 1 Year Ahead:\n",
      "Mean: -0.16\n",
      "Median: -0.00\n",
      "Q1: -1.18\n",
      "Q3: 0.72\n",
      "\n",
      "\n",
      "Statistics for GK - 2 Years Ahead:\n",
      "Mean: 0.96\n",
      "Median: -0.12\n",
      "Q1: -1.91\n",
      "Q3: 2.07\n",
      "\n",
      "\n",
      "Creating side-by-side histogram for position CB\n"
     ]
    },
    {
     "name": "stderr",
     "output_type": "stream",
     "text": [
      "/var/folders/6_/dhlq5ftj4c76n7p9cz2cjkyw0000gn/T/ipykernel_30346/1350757295.py:27: UserWarning: FixedFormatter should only be used together with FixedLocator\n",
      "  axes[0].set_yticklabels([f'{round(label * 100, 1)}%' for label in y_labels])\n",
      "/var/folders/6_/dhlq5ftj4c76n7p9cz2cjkyw0000gn/T/ipykernel_30346/1350757295.py:39: UserWarning: FixedFormatter should only be used together with FixedLocator\n",
      "  axes[1].set_yticklabels([f'{round(label * 100, 1)}%' for label in y_labels])\n"
     ]
    },
    {
     "data": {
      "image/png": "[encoded data removed]",
      "text/plain": [
       "<Figure size 1200x500 with 2 Axes>"
      ]
     },
     "metadata": {},
     "output_type": "display_data"
    },
    {
     "name": "stdout",
     "output_type": "stream",
     "text": [
      "Statistics for CB - 1 Year Ahead:\n",
      "Mean: -0.01\n",
      "Median: -0.19\n",
      "Q1: -0.79\n",
      "Q3: 0.43\n",
      "\n",
      "\n",
      "Statistics for CB - 2 Years Ahead:\n",
      "Mean: 0.51\n",
      "Median: -0.10\n",
      "Q1: -1.61\n",
      "Q3: 1.46\n",
      "\n",
      "\n",
      "Creating side-by-side histogram for position RB LB\n"
     ]
    },
    {
     "name": "stderr",
     "output_type": "stream",
     "text": [
      "/var/folders/6_/dhlq5ftj4c76n7p9cz2cjkyw0000gn/T/ipykernel_30346/1350757295.py:27: UserWarning: FixedFormatter should only be used together with FixedLocator\n",
      "  axes[0].set_yticklabels([f'{round(label * 100, 1)}%' for label in y_labels])\n",
      "/var/folders/6_/dhlq5ftj4c76n7p9cz2cjkyw0000gn/T/ipykernel_30346/1350757295.py:39: UserWarning: FixedFormatter should only be used together with FixedLocator\n",
      "  axes[1].set_yticklabels([f'{round(label * 100, 1)}%' for label in y_labels])\n"
     ]
    },
    {
     "data": {
      "image/png": "[encoded data removed]",
      "text/plain": [
       "<Figure size 1200x500 with 2 Axes>"
      ]
     },
     "metadata": {},
     "output_type": "display_data"
    },
    {
     "name": "stdout",
     "output_type": "stream",
     "text": [
      "Statistics for RB LB - 1 Year Ahead:\n",
      "Mean: -0.06\n",
      "Median: -0.06\n",
      "Q1: -0.81\n",
      "Q3: 0.44\n",
      "\n",
      "\n",
      "Statistics for RB LB - 2 Years Ahead:\n",
      "Mean: 0.26\n",
      "Median: -0.25\n",
      "Q1: -1.76\n",
      "Q3: 1.10\n",
      "\n",
      "\n",
      "Creating side-by-side histogram for position DEFENSIVE MID\n"
     ]
    },
    {
     "name": "stderr",
     "output_type": "stream",
     "text": [
      "/var/folders/6_/dhlq5ftj4c76n7p9cz2cjkyw0000gn/T/ipykernel_30346/1350757295.py:27: UserWarning: FixedFormatter should only be used together with FixedLocator\n",
      "  axes[0].set_yticklabels([f'{round(label * 100, 1)}%' for label in y_labels])\n",
      "/var/folders/6_/dhlq5ftj4c76n7p9cz2cjkyw0000gn/T/ipykernel_30346/1350757295.py:39: UserWarning: FixedFormatter should only be used together with FixedLocator\n",
      "  axes[1].set_yticklabels([f'{round(label * 100, 1)}%' for label in y_labels])\n"
     ]
    },
    {
     "data": {
      "image/png": "[encoded data removed]",
      "text/plain": [
       "<Figure size 1200x500 with 2 Axes>"
      ]
     },
     "metadata": {},
     "output_type": "display_data"
    },
    {
     "name": "stdout",
     "output_type": "stream",
     "text": [
      "Statistics for DEFENSIVE MID - 1 Year Ahead:\n",
      "Mean: -0.01\n",
      "Median: -0.18\n",
      "Q1: -0.96\n",
      "Q3: 0.62\n",
      "\n",
      "\n",
      "Statistics for DEFENSIVE MID - 2 Years Ahead:\n",
      "Mean: -0.24\n",
      "Median: -0.50\n",
      "Q1: -2.38\n",
      "Q3: 1.37\n",
      "\n",
      "\n",
      "Creating side-by-side histogram for position ATTACKING MID\n"
     ]
    },
    {
     "name": "stderr",
     "output_type": "stream",
     "text": [
      "/var/folders/6_/dhlq5ftj4c76n7p9cz2cjkyw0000gn/T/ipykernel_30346/1350757295.py:27: UserWarning: FixedFormatter should only be used together with FixedLocator\n",
      "  axes[0].set_yticklabels([f'{round(label * 100, 1)}%' for label in y_labels])\n",
      "/var/folders/6_/dhlq5ftj4c76n7p9cz2cjkyw0000gn/T/ipykernel_30346/1350757295.py:39: UserWarning: FixedFormatter should only be used together with FixedLocator\n",
      "  axes[1].set_yticklabels([f'{round(label * 100, 1)}%' for label in y_labels])\n"
     ]
    },
    {
     "data": {
      "image/png": "[encoded data removed]",
      "text/plain": [
       "<Figure size 1200x500 with 2 Axes>"
      ]
     },
     "metadata": {},
     "output_type": "display_data"
    },
    {
     "name": "stdout",
     "output_type": "stream",
     "text": [
      "Statistics for ATTACKING MID - 1 Year Ahead:\n",
      "Mean: -0.03\n",
      "Median: -0.08\n",
      "Q1: -1.25\n",
      "Q3: 0.78\n",
      "\n",
      "\n",
      "Statistics for ATTACKING MID - 2 Years Ahead:\n",
      "Mean: 0.12\n",
      "Median: -0.63\n",
      "Q1: -2.65\n",
      "Q3: 1.75\n",
      "\n",
      "\n",
      "Creating side-by-side histogram for position STRIKER\n"
     ]
    },
    {
     "name": "stderr",
     "output_type": "stream",
     "text": [
      "/var/folders/6_/dhlq5ftj4c76n7p9cz2cjkyw0000gn/T/ipykernel_30346/1350757295.py:27: UserWarning: FixedFormatter should only be used together with FixedLocator\n",
      "  axes[0].set_yticklabels([f'{round(label * 100, 1)}%' for label in y_labels])\n",
      "/var/folders/6_/dhlq5ftj4c76n7p9cz2cjkyw0000gn/T/ipykernel_30346/1350757295.py:39: UserWarning: FixedFormatter should only be used together with FixedLocator\n",
      "  axes[1].set_yticklabels([f'{round(label * 100, 1)}%' for label in y_labels])\n"
     ]
    },
    {
     "data": {
      "image/png": "[encoded data removed]",
      "text/plain": [
       "<Figure size 1200x500 with 2 Axes>"
      ]
     },
     "metadata": {},
     "output_type": "display_data"
    },
    {
     "name": "stdout",
     "output_type": "stream",
     "text": [
      "Statistics for STRIKER - 1 Year Ahead:\n",
      "Mean: -0.13\n",
      "Median: -0.15\n",
      "Q1: -1.29\n",
      "Q3: 0.60\n",
      "\n",
      "\n",
      "Statistics for STRIKER - 2 Years Ahead:\n",
      "Mean: 0.05\n",
      "Median: -0.30\n",
      "Q1: -3.35\n",
      "Q3: 1.77\n",
      "\n",
      "\n"
     ]
    }
   ],
   "source": [
    "\n",
    "def plot_side_by_side(y_pred_1, y_test_1, y_pred_2, y_test_2, position):\n",
    "    \"\"\"\n",
    "    This function plots the residual distributions for 1 year and 2 years ahead side by side,\n",
    "    and includes additional statistics like mean, median, Q1, and Q3 below the graphs.\n",
    "    \"\"\"\n",
    "    # Calculate residuals\n",
    "    residuals_1 = np.array(y_test_1) - np.array(y_pred_1)\n",
    "    residuals_2 = np.array(y_test_2) - np.array(y_pred_2)\n",
    "\n",
    "    # Create KDE for both residuals\n",
    "    kde_1 = gaussian_kde(residuals_1)\n",
    "    kde_2 = gaussian_kde(residuals_2)\n",
    "\n",
    "    # Create two subplots\n",
    "    fig, axes = plt.subplots(1, 2, figsize=(12, 5))\n",
    "\n",
    "    # First plot: 1 year ahead\n",
    "    axes[0].hist(residuals_1, bins=70, density=True, color='blue', alpha=0.6, label='Residuals 1 year')\n",
    "    x_vals = np.linspace(min(residuals_1), max(residuals_1), 100)\n",
    "    axes[0].plot(x_vals, kde_1(x_vals), color='blue', label='KDE 1 year')\n",
    "    axes[0].set_title(f'Residual Distribution (1 Year Ahead) - {position}')\n",
    "    axes[0].set_xlabel('Residual Value (Millions)')\n",
    "    axes[0].set_ylabel('Density')\n",
    "    axes[0].axvline(0, color='red', linestyle='--')  # Vertical line at the center\n",
    "    # Convert Y-axis to percentage scale\n",
    "    y_labels = axes[0].get_yticks()\n",
    "    axes[0].set_yticklabels([f'{round(label * 100, 1)}%' for label in y_labels])\n",
    "\n",
    "    # Second plot: 2 years ahead\n",
    "    axes[1].hist(residuals_2, bins=70, density=True, color='green', alpha=0.6, label='Residuals 2 years')\n",
    "    x_vals = np.linspace(min(residuals_2), max(residuals_2), 100)\n",
    "    axes[1].plot(x_vals, kde_2(x_vals), color='green', label='KDE 2 years')\n",
    "    axes[1].set_title(f'Residual Distribution (2 Years Ahead) - {position}')\n",
    "    axes[1].set_xlabel('Residual Value (Millions)')\n",
    "    axes[1].set_ylabel('Density')\n",
    "    axes[1].axvline(0, color='red', linestyle='--')  # Vertical line at the center\n",
    "    # Convert Y-axis to percentage scale\n",
    "    y_labels = axes[1].get_yticks()\n",
    "    axes[1].set_yticklabels([f'{round(label * 100, 1)}%' for label in y_labels])\n",
    "    \n",
    "    \n",
    "    \n",
    "    plt.tight_layout()\n",
    "    plt.show()\n",
    "\n",
    "    # Calculate and print statistics for 1 year and 2 years\n",
    "    mean_1, median_1, q1_1, q3_1 = np.mean(residuals_1), np.median(residuals_1), np.percentile(residuals_1, 25), np.percentile(residuals_1, 75)\n",
    "    mean_2, median_2, q1_2, q3_2 = np.mean(residuals_2), np.median(residuals_2), np.percentile(residuals_2, 25), np.percentile(residuals_2, 75)\n",
    "\n",
    "    print(f\"Statistics for {position} - 1 Year Ahead:\")\n",
    "    print(f\"Mean: {mean_1:.2f}\")\n",
    "    print(f\"Median: {median_1:.2f}\")\n",
    "    print(f\"Q1: {q1_1:.2f}\")\n",
    "    print(f\"Q3: {q3_1:.2f}\")\n",
    "    print(\"\\n\")\n",
    "\n",
    "    print(f\"Statistics for {position} - 2 Years Ahead:\")\n",
    "    print(f\"Mean: {mean_2:.2f}\")\n",
    "    print(f\"Median: {median_2:.2f}\")\n",
    "    print(f\"Q1: {q1_2:.2f}\")\n",
    "    print(f\"Q3: {q3_2:.2f}\")\n",
    "    print(\"\\n\")\n",
    "    \n",
    "num_features = 9\n",
    "# Use the function to display the graphs side by side\n",
    "for i, (result_for_position_1, result_for_position_2) in enumerate(zip(Result_1_year, Result_2_year)):\n",
    "    print(f'Creating side-by-side histogram for position {pos_list[i+1]}')\n",
    "    y_pred_1 = result_for_position_1[num_features]['y_pred']\n",
    "    y_test_1 = result_for_position_1[num_features]['y_test']\n",
    "    y_pred_2 = result_for_position_2[num_features]['y_pred']\n",
    "    y_test_2 = result_for_position_2[num_features]['y_test']\n",
    "    \n",
    "    # Display the two graphs side by side for each position and print the statistics below\n",
    "    plot_side_by_side(y_pred_1, y_test_1, y_pred_2, y_test_2, pos_list[i+1])\n"
   ]
  },
  {
   "cell_type": "code",
   "execution_count": 26,
   "metadata": {},
   "outputs": [
    {
     "data": {
      "text/plain": [
       "286"
      ]
     },
     "execution_count": 26,
     "metadata": {},
     "output_type": "execute_result"
    }
   ],
   "source": [
    "len(full_joined_df_copy.columns)"
   ]
  },
  {
   "cell_type": "markdown",
   "metadata": {},
   "source": [
    "# Lasso Regression"
   ]
  },
  {
   "cell_type": "code",
   "execution_count": 27,
   "metadata": {},
   "outputs": [],
   "source": [
    "def LassoRegressionFunc(group_df, target_col, alpha=0.1, max_iter=10000):\n",
    "    # Define features (X) and target variable (y)\n",
    "    X = group_df.drop([target_col], axis=1)\n",
    "    y = group_df[target_col]\n",
    "\n",
    "    # Split into training and test sets\n",
    "    X_train, X_test, y_train, y_test = train_test_split(X, y, test_size=0.25, random_state=42)\n",
    "\n",
    "    # Create the model and fit it to the data (including all features initially)\n",
    "    model = Lasso(alpha=alpha, max_iter=max_iter)\n",
    "    model.fit(X_train, y_train)\n",
    "\n",
    "    # Make predictions on the test set\n",
    "    y_pred = model.predict(X_test)\n",
    "\n",
    "    # Calculate performance metrics\n",
    "    final_r2 = r2_score(y_test, y_pred)\n",
    "\n",
    "    # Convert to millions for convenience\n",
    "    y_pred_millions = y_pred / 1000000\n",
    "    y_test_millions = y_test / 1000000\n",
    "    # Calculate Mean Squared Error (MSE)\n",
    "    mse = mean_squared_error(y_test_millions, y_pred_millions)\n",
    "\n",
    "    # Print coefficients of all selected features\n",
    "    coefficients = model.coef_\n",
    "    \n",
    "    # Extract selected features (where coefficient is not zero)\n",
    "    selected_feature_names = X.columns[coefficients != 0].tolist()\n",
    "\n",
    "    return model, final_r2, mse, selected_feature_names, coefficients\n"
   ]
  },
  {
   "cell_type": "code",
   "execution_count": 28,
   "metadata": {
    "scrolled": false
   },
   "outputs": [
    {
     "name": "stdout",
     "output_type": "stream",
     "text": [
      "Position: GK\n",
      "Predicting 1 year ahead...\n",
      "\n"
     ]
    },
    {
     "name": "stderr",
     "output_type": "stream",
     "text": [
      "/Library/Frameworks/Python.framework/Versions/3.10/lib/python3.10/site-packages/sklearn/linear_model/_coordinate_descent.py:697: ConvergenceWarning: Objective did not converge. You might want to increase the number of iterations, check the scale of the features or consider increasing regularisation. Duality gap: 1.593e+16, tolerance: 2.892e+13\n",
      "  model = cd_fast.enet_coordinate_descent(\n"
     ]
    },
    {
     "name": "stdout",
     "output_type": "stream",
     "text": [
      "\n",
      "Predicting 2 years ahead...\n",
      "\n"
     ]
    },
    {
     "name": "stderr",
     "output_type": "stream",
     "text": [
      "/Library/Frameworks/Python.framework/Versions/3.10/lib/python3.10/site-packages/sklearn/linear_model/_coordinate_descent.py:697: ConvergenceWarning: Objective did not converge. You might want to increase the number of iterations, check the scale of the features or consider increasing regularisation. Duality gap: 2.623e+16, tolerance: 2.372e+13\n",
      "  model = cd_fast.enet_coordinate_descent(\n"
     ]
    },
    {
     "name": "stdout",
     "output_type": "stream",
     "text": [
      "Position: CB\n",
      "Predicting 1 year ahead...\n",
      "\n"
     ]
    },
    {
     "name": "stderr",
     "output_type": "stream",
     "text": [
      "/Library/Frameworks/Python.framework/Versions/3.10/lib/python3.10/site-packages/sklearn/linear_model/_coordinate_descent.py:697: ConvergenceWarning: Objective did not converge. You might want to increase the number of iterations, check the scale of the features or consider increasing regularisation. Duality gap: 2.600e+16, tolerance: 3.554e+13\n",
      "  model = cd_fast.enet_coordinate_descent(\n"
     ]
    },
    {
     "name": "stdout",
     "output_type": "stream",
     "text": [
      "\n",
      "Predicting 2 years ahead...\n",
      "\n"
     ]
    },
    {
     "name": "stderr",
     "output_type": "stream",
     "text": [
      "/Library/Frameworks/Python.framework/Versions/3.10/lib/python3.10/site-packages/sklearn/linear_model/_coordinate_descent.py:697: ConvergenceWarning: Objective did not converge. You might want to increase the number of iterations, check the scale of the features or consider increasing regularisation. Duality gap: 3.877e+16, tolerance: 3.188e+13\n",
      "  model = cd_fast.enet_coordinate_descent(\n"
     ]
    },
    {
     "name": "stdout",
     "output_type": "stream",
     "text": [
      "Position: RB LB\n",
      "Predicting 1 year ahead...\n",
      "\n"
     ]
    },
    {
     "name": "stderr",
     "output_type": "stream",
     "text": [
      "/Library/Frameworks/Python.framework/Versions/3.10/lib/python3.10/site-packages/sklearn/linear_model/_coordinate_descent.py:697: ConvergenceWarning: Objective did not converge. You might want to increase the number of iterations, check the scale of the features or consider increasing regularisation. Duality gap: 1.800e+16, tolerance: 2.270e+13\n",
      "  model = cd_fast.enet_coordinate_descent(\n"
     ]
    },
    {
     "name": "stdout",
     "output_type": "stream",
     "text": [
      "\n",
      "Predicting 2 years ahead...\n",
      "\n"
     ]
    },
    {
     "name": "stderr",
     "output_type": "stream",
     "text": [
      "/Library/Frameworks/Python.framework/Versions/3.10/lib/python3.10/site-packages/sklearn/linear_model/_coordinate_descent.py:697: ConvergenceWarning: Objective did not converge. You might want to increase the number of iterations, check the scale of the features or consider increasing regularisation. Duality gap: 3.249e+16, tolerance: 1.937e+13\n",
      "  model = cd_fast.enet_coordinate_descent(\n"
     ]
    },
    {
     "name": "stdout",
     "output_type": "stream",
     "text": [
      "Position: DEFENSIVE MID\n",
      "Predicting 1 year ahead...\n",
      "\n"
     ]
    },
    {
     "name": "stderr",
     "output_type": "stream",
     "text": [
      "/Library/Frameworks/Python.framework/Versions/3.10/lib/python3.10/site-packages/sklearn/linear_model/_coordinate_descent.py:697: ConvergenceWarning: Objective did not converge. You might want to increase the number of iterations, check the scale of the features or consider increasing regularisation. Duality gap: 3.556e+16, tolerance: 5.893e+13\n",
      "  model = cd_fast.enet_coordinate_descent(\n"
     ]
    },
    {
     "name": "stdout",
     "output_type": "stream",
     "text": [
      "\n",
      "Predicting 2 years ahead...\n",
      "\n"
     ]
    },
    {
     "name": "stderr",
     "output_type": "stream",
     "text": [
      "/Library/Frameworks/Python.framework/Versions/3.10/lib/python3.10/site-packages/sklearn/linear_model/_coordinate_descent.py:697: ConvergenceWarning: Objective did not converge. You might want to increase the number of iterations, check the scale of the features or consider increasing regularisation. Duality gap: 7.024e+16, tolerance: 6.093e+13\n",
      "  model = cd_fast.enet_coordinate_descent(\n"
     ]
    },
    {
     "name": "stdout",
     "output_type": "stream",
     "text": [
      "Position: ATTACKING MID\n",
      "Predicting 1 year ahead...\n",
      "\n"
     ]
    },
    {
     "name": "stderr",
     "output_type": "stream",
     "text": [
      "/Library/Frameworks/Python.framework/Versions/3.10/lib/python3.10/site-packages/sklearn/linear_model/_coordinate_descent.py:697: ConvergenceWarning: Objective did not converge. You might want to increase the number of iterations, check the scale of the features or consider increasing regularisation. Duality gap: 5.587e+16, tolerance: 8.626e+13\n",
      "  model = cd_fast.enet_coordinate_descent(\n"
     ]
    },
    {
     "name": "stdout",
     "output_type": "stream",
     "text": [
      "\n",
      "Predicting 2 years ahead...\n",
      "\n"
     ]
    },
    {
     "name": "stderr",
     "output_type": "stream",
     "text": [
      "/Library/Frameworks/Python.framework/Versions/3.10/lib/python3.10/site-packages/sklearn/linear_model/_coordinate_descent.py:697: ConvergenceWarning: Objective did not converge. You might want to increase the number of iterations, check the scale of the features or consider increasing regularisation. Duality gap: 8.711e+16, tolerance: 7.823e+13\n",
      "  model = cd_fast.enet_coordinate_descent(\n"
     ]
    },
    {
     "name": "stdout",
     "output_type": "stream",
     "text": [
      "Position: STRIKER\n",
      "Predicting 1 year ahead...\n",
      "\n"
     ]
    },
    {
     "name": "stderr",
     "output_type": "stream",
     "text": [
      "/Library/Frameworks/Python.framework/Versions/3.10/lib/python3.10/site-packages/sklearn/linear_model/_coordinate_descent.py:697: ConvergenceWarning: Objective did not converge. You might want to increase the number of iterations, check the scale of the features or consider increasing regularisation. Duality gap: 3.424e+16, tolerance: 5.886e+13\n",
      "  model = cd_fast.enet_coordinate_descent(\n"
     ]
    },
    {
     "name": "stdout",
     "output_type": "stream",
     "text": [
      "\n",
      "Predicting 2 years ahead...\n",
      "\n"
     ]
    },
    {
     "name": "stderr",
     "output_type": "stream",
     "text": [
      "/Library/Frameworks/Python.framework/Versions/3.10/lib/python3.10/site-packages/sklearn/linear_model/_coordinate_descent.py:697: ConvergenceWarning: Objective did not converge. You might want to increase the number of iterations, check the scale of the features or consider increasing regularisation. Duality gap: 6.421e+16, tolerance: 5.025e+13\n",
      "  model = cd_fast.enet_coordinate_descent(\n"
     ]
    }
   ],
   "source": [
    "# pos_list = ['','GK', 'CB', 'RB', 'DEFENCIVE MID', 'ATTACKING MID', 'STRIKER']\n",
    "# value_eur_list = ['value_eur_1_year', 'value_eur_2_year']\n",
    "\n",
    "# existing_columns = [col for col in feature_list + ['value_eur_1_year', 'value_eur_2_year'] if col in full_joined_df_copy.columns]\n",
    "\n",
    "# R2_list_1_year_lasso = []\n",
    "# R2_list_2_year_lasso = []\n",
    "# coefficient_1_year = []\n",
    "# coefficient_2_year = []\n",
    "# for i in range(1,7):\n",
    "#     print(f\"Position:{pos_list[i]}\")\n",
    "#     print(\"predict 1 year ahead:\\n \")\n",
    "#     group_df = full_joined_df_copy[(full_joined_df_copy['position'] == i) ]\n",
    "#     group_df = group_df[existing_columns].drop('value_eur_2_year', axis = 1)\n",
    "#     group_df = group_df[group_df['value_eur_1_year']>0]\n",
    "#     model, R2_score, mse, selected_features, coef = LassoRegressionFunc(group_df, 'value_eur_1_year')\n",
    "#     coefficient_1_year.append(coef)\n",
    "#     print(f'The R^2 for {pos_list[i]} is {R2_score}\\n\\nselected features are:\\n{selected_features}\\nThe MSE is {mse}')\n",
    "\n",
    "\n",
    "# ########################\n",
    "#     print(\"\\npredict 2 year ahead:\\n\")\n",
    "\n",
    "#     group_df = full_joined_df_copy[(full_joined_df_copy['position'] == i) ]\n",
    "#     group_df = group_df[existing_columns].drop('value_eur_1_year', axis = 1)\n",
    "#     group_df = group_df[group_df['value_eur_2_year']>0]\n",
    "#     group_df = group_df[group_df['club_rank'] != 6]\n",
    "\n",
    "    \n",
    "#     model, R2_score, mse, selected_features, coef = LassoRegressionFunc (group_df, 'value_eur_2_year')\n",
    "\n",
    "#     coefficient_2_year.append(coef)\n",
    "#     print(f'The R^2 for {pos_list[i]} is {R2_score}\\n\\nselected features are:\\n{selected_features}\\nThe MSE is {mse}\\n')\n",
    "#     print('-' * 110)\n",
    "#     R2_list_2_year_lasso.append(R2_score)\n",
    "\n",
    "\n",
    "# Define columns you want to include in your model\n",
    "existing_columns = [col for col in feature_list + ['value_eur_1_year', 'value_eur_2_year'] if col in full_joined_df_copy.columns]\n",
    "# Initialize a list to store the results\n",
    "results_lasso = []\n",
    "\n",
    "# Iterate over positions\n",
    "for i in range(1, 7):\n",
    "    print(f\"Position: {pos_list[i]}\")\n",
    "    \n",
    "    # Predict 1 year ahead\n",
    "    print(\"Predicting 1 year ahead...\\n\")\n",
    "    group_df = full_joined_df_copy[(full_joined_df_copy['position'] == i)]\n",
    "    group_df = group_df[existing_columns].drop('value_eur_2_year', axis=1)\n",
    "    group_df = group_df[group_df['value_eur_1_year'] > 0]\n",
    "\n",
    "    model, r2_score_1_year, mse_1_year, selected_features_1_year, coef_1_year = LassoRegressionFunc(group_df, 'value_eur_1_year')\n",
    "    \n",
    "    # Store the result for 1 year ahead\n",
    "    results_lasso.append({\n",
    "        'Position': pos_list[i],\n",
    "        'Years Ahead': 1,\n",
    "        'R²': r2_score_1_year,\n",
    "        'MSE': mse_1_year,\n",
    "        'Selected Features': ', '.join(selected_features_1_year),  # Flatten selected features into a comma-separated string\n",
    "        'Coefficients': ', '.join(map(str, coef_1_year))  # Flatten coefficients into a comma-separated string\n",
    "    })\n",
    "\n",
    "    # Predict 2 years ahead\n",
    "    print(\"\\nPredicting 2 years ahead...\\n\")\n",
    "    group_df = full_joined_df_copy[(full_joined_df_copy['position'] == i)]\n",
    "    group_df = group_df[existing_columns].drop('value_eur_1_year', axis=1)\n",
    "    group_df = group_df[group_df['value_eur_2_year'] > 0]\n",
    "    group_df = group_df[group_df['club_rank'] != 6]\n",
    "\n",
    "    model, r2_score_2_year, mse_2_year, selected_features_2_year, coef_2_year = LassoRegressionFunc(group_df, 'value_eur_2_year')\n",
    "    \n",
    "    # Store the result for 2 years ahead\n",
    "    results_lasso.append({\n",
    "        'Position': pos_list[i],\n",
    "        'Years Ahead': 2,\n",
    "        'R²': r2_score_2_year,\n",
    "        'MSE': mse_2_year,\n",
    "        'Selected Features': ', '.join(selected_features_2_year),  # Flatten selected features\n",
    "        'Coefficients': ', '.join(map(str, coef_2_year))  # Flatten coefficients\n",
    "    })\n",
    "\n",
    "# Convert the results into a DataFrame\n",
    "results_lasso_df = pd.DataFrame(results_lasso)"
   ]
  },
  {
   "cell_type": "code",
   "execution_count": 29,
   "metadata": {},
   "outputs": [
    {
     "data": {
      "text/html": [
       "<div>\n",
       "<style scoped>\n",
       "    .dataframe tbody tr th:only-of-type {\n",
       "        vertical-align: middle;\n",
       "    }\n",
       "\n",
       "    .dataframe tbody tr th {\n",
       "        vertical-align: top;\n",
       "    }\n",
       "\n",
       "    .dataframe thead th {\n",
       "        text-align: right;\n",
       "    }\n",
       "</style>\n",
       "<table border=\"1\" class=\"dataframe\">\n",
       "  <thead>\n",
       "    <tr style=\"text-align: right;\">\n",
       "      <th></th>\n",
       "      <th>Position</th>\n",
       "      <th>Years Ahead</th>\n",
       "      <th>R²</th>\n",
       "      <th>MSE</th>\n",
       "      <th>Selected Features</th>\n",
       "    </tr>\n",
       "  </thead>\n",
       "  <tbody>\n",
       "    <tr>\n",
       "      <th>0</th>\n",
       "      <td>GK</td>\n",
       "      <td>1</td>\n",
       "      <td>0.871757</td>\n",
       "      <td>12.465100</td>\n",
       "      <td>age_attacking_crossing ** 2, age_attacking_short_passing, age_attacking_short_passing ** 2, age_club_rank, age_club_rank ** 2, age_defence, age_defence ** 2, age_defending_sliding_tackle, age_defending_sliding_tackle ** 2, age_international_reputation, age_international_reputation ** 2, age_movement_agility ** 2, age_movement_reactions, age_movement_reactions ** 2, age_potential ** 2, age_power_jumping ** 2, age_power_long_shots, age_power_long_shots ** 2, age_power_stamina, age_skill_ball_control, age_skill_ball_control ** 2, age_skill_dribbling ** 2, age_skill_long_passing, age_skill_long_passing ** 2, club_contract_valid_until_year, club_contract_valid_until_year ** 2, club_rank, club_rank ** 2, fifa_age ** 2, fifa_version ** 2, gk, gk ** 2, height_cm ** 2, international_reputation, international_reputation ** 2, lw ** 2, movement_agility ** 2, movement_reactions ** 2, overall ** 2, player_tags ** 2, potential, release_clause_eur, skill_ball_control, value_eur, value_eur ** 2, wage_eur, year_contract ** 2</td>\n",
       "    </tr>\n",
       "    <tr>\n",
       "      <th>1</th>\n",
       "      <td>GK</td>\n",
       "      <td>2</td>\n",
       "      <td>0.729601</td>\n",
       "      <td>65.761602</td>\n",
       "      <td>age_attacking_crossing ** 2, age_attacking_short_passing, age_attacking_short_passing ** 2, age_club_rank, age_club_rank ** 2, age_defence, age_defence ** 2, age_defending_sliding_tackle, age_defending_sliding_tackle ** 2, age_international_reputation, age_international_reputation ** 2, age_movement_agility ** 2, age_movement_reactions, age_movement_reactions ** 2, age_potential ** 2, age_power_jumping ** 2, age_power_long_shots, age_power_long_shots ** 2, age_power_stamina, age_skill_ball_control, age_skill_ball_control ** 2, age_skill_dribbling ** 2, age_skill_long_passing, age_skill_long_passing ** 2, club_contract_valid_until_year, club_contract_valid_until_year ** 2, club_rank, club_rank ** 2, fifa_age ** 2, fifa_version ** 2, gk, gk ** 2, height_cm ** 2, international_reputation, international_reputation ** 2, lw ** 2, movement_agility ** 2, movement_reactions ** 2, overall ** 2, player_tags ** 2, potential, release_clause_eur, skill_ball_control, value_eur, value_eur ** 2, wage_eur, year_contract ** 2</td>\n",
       "    </tr>\n",
       "    <tr>\n",
       "      <th>2</th>\n",
       "      <td>CB</td>\n",
       "      <td>1</td>\n",
       "      <td>0.877884</td>\n",
       "      <td>8.335399</td>\n",
       "      <td>age_attacking_crossing ** 2, age_attacking_short_passing, age_attacking_short_passing ** 2, age_club_rank, age_club_rank ** 2, age_defence, age_defence ** 2, age_defending ** 2, age_defending_sliding_tackle, age_defending_sliding_tackle ** 2, age_dribbling, age_dribbling ** 2, age_international_reputation, age_international_reputation ** 2, age_movement_agility ** 2, age_movement_reactions, age_movement_reactions ** 2, age_passing, age_passing ** 2, age_potential ** 2, age_power_jumping ** 2, age_power_long_shots, age_power_long_shots ** 2, age_power_stamina, age_skill_ball_control, age_skill_ball_control ** 2, age_skill_dribbling ** 2, age_skill_long_passing, age_skill_long_passing ** 2, club_contract_valid_until_year, club_contract_valid_until_year ** 2, club_rank, club_rank ** 2, defending, fifa_age ** 2, fifa_version ** 2, gk, gk ** 2, height_cm ** 2, international_reputation, international_reputation ** 2, lw ** 2, movement_agility ** 2, movement_reactions ** 2, overall ** 2, player_tags ** 2, potential, release_clause_eur, skill_ball_control, value_eur, value_eur ** 2, wage_eur, year_contract ** 2</td>\n",
       "    </tr>\n",
       "    <tr>\n",
       "      <th>3</th>\n",
       "      <td>CB</td>\n",
       "      <td>2</td>\n",
       "      <td>0.645426</td>\n",
       "      <td>45.430338</td>\n",
       "      <td>age_attacking_crossing ** 2, age_attacking_short_passing, age_attacking_short_passing ** 2, age_club_rank, age_club_rank ** 2, age_defence, age_defence ** 2, age_defending ** 2, age_defending_sliding_tackle, age_defending_sliding_tackle ** 2, age_dribbling, age_dribbling ** 2, age_international_reputation, age_international_reputation ** 2, age_movement_agility ** 2, age_movement_reactions, age_movement_reactions ** 2, age_passing, age_passing ** 2, age_potential ** 2, age_power_jumping ** 2, age_power_long_shots, age_power_long_shots ** 2, age_power_stamina, age_skill_ball_control, age_skill_ball_control ** 2, age_skill_dribbling ** 2, age_skill_long_passing, age_skill_long_passing ** 2, club_contract_valid_until_year, club_contract_valid_until_year ** 2, club_rank, club_rank ** 2, defending, fifa_age ** 2, fifa_version ** 2, gk, gk ** 2, height_cm ** 2, international_reputation, international_reputation ** 2, lw ** 2, movement_agility ** 2, movement_reactions ** 2, overall ** 2, player_tags ** 2, potential, release_clause_eur, skill_ball_control, value_eur, value_eur ** 2, wage_eur, year_contract ** 2</td>\n",
       "    </tr>\n",
       "    <tr>\n",
       "      <th>4</th>\n",
       "      <td>RB LB</td>\n",
       "      <td>1</td>\n",
       "      <td>0.728165</td>\n",
       "      <td>12.769250</td>\n",
       "      <td>age_attacking_crossing ** 2, age_attacking_short_passing, age_attacking_short_passing ** 2, age_club_rank, age_club_rank ** 2, age_defence, age_defence ** 2, age_defending ** 2, age_defending_sliding_tackle, age_defending_sliding_tackle ** 2, age_dribbling, age_dribbling ** 2, age_international_reputation, age_international_reputation ** 2, age_movement_agility ** 2, age_movement_reactions, age_movement_reactions ** 2, age_passing, age_passing ** 2, age_potential ** 2, age_power_jumping ** 2, age_power_long_shots, age_power_long_shots ** 2, age_power_stamina, age_skill_ball_control, age_skill_ball_control ** 2, age_skill_dribbling ** 2, age_skill_long_passing, age_skill_long_passing ** 2, club_contract_valid_until_year, club_contract_valid_until_year ** 2, club_rank, club_rank ** 2, defending, fifa_age ** 2, fifa_version ** 2, gk, gk ** 2, height_cm ** 2, international_reputation, international_reputation ** 2, lw ** 2, movement_agility ** 2, movement_reactions ** 2, overall ** 2, player_tags ** 2, potential, release_clause_eur, skill_ball_control, value_eur, value_eur ** 2, wage_eur, year_contract ** 2</td>\n",
       "    </tr>\n",
       "    <tr>\n",
       "      <th>5</th>\n",
       "      <td>RB LB</td>\n",
       "      <td>2</td>\n",
       "      <td>0.670263</td>\n",
       "      <td>35.072205</td>\n",
       "      <td>age_attacking_crossing ** 2, age_attacking_short_passing, age_attacking_short_passing ** 2, age_club_rank, age_club_rank ** 2, age_defence, age_defence ** 2, age_defending ** 2, age_defending_sliding_tackle, age_defending_sliding_tackle ** 2, age_dribbling, age_dribbling ** 2, age_international_reputation, age_international_reputation ** 2, age_movement_agility ** 2, age_movement_reactions, age_movement_reactions ** 2, age_passing, age_passing ** 2, age_potential ** 2, age_power_jumping ** 2, age_power_long_shots, age_power_long_shots ** 2, age_power_stamina, age_skill_ball_control, age_skill_ball_control ** 2, age_skill_dribbling ** 2, age_skill_long_passing, age_skill_long_passing ** 2, club_contract_valid_until_year, club_contract_valid_until_year ** 2, club_rank, club_rank ** 2, defending, fifa_age ** 2, fifa_version ** 2, gk, gk ** 2, height_cm ** 2, international_reputation, international_reputation ** 2, lw ** 2, movement_agility ** 2, movement_reactions ** 2, overall ** 2, player_tags ** 2, potential, release_clause_eur, skill_ball_control, value_eur, value_eur ** 2, wage_eur, year_contract ** 2</td>\n",
       "    </tr>\n",
       "    <tr>\n",
       "      <th>6</th>\n",
       "      <td>DEFENSIVE MID</td>\n",
       "      <td>1</td>\n",
       "      <td>0.883006</td>\n",
       "      <td>14.566470</td>\n",
       "      <td>age_attacking_crossing ** 2, age_attacking_short_passing, age_attacking_short_passing ** 2, age_club_rank, age_club_rank ** 2, age_defence, age_defence ** 2, age_defending ** 2, age_defending_sliding_tackle, age_defending_sliding_tackle ** 2, age_dribbling, age_dribbling ** 2, age_international_reputation, age_international_reputation ** 2, age_movement_agility ** 2, age_movement_reactions, age_movement_reactions ** 2, age_passing, age_passing ** 2, age_potential ** 2, age_power_jumping ** 2, age_power_long_shots, age_power_long_shots ** 2, age_power_stamina, age_skill_ball_control, age_skill_ball_control ** 2, age_skill_dribbling ** 2, age_skill_long_passing, age_skill_long_passing ** 2, club_contract_valid_until_year, club_contract_valid_until_year ** 2, club_rank, club_rank ** 2, defending, fifa_age ** 2, fifa_version ** 2, gk, gk ** 2, height_cm ** 2, international_reputation, international_reputation ** 2, lw ** 2, movement_agility ** 2, movement_reactions ** 2, overall ** 2, player_tags ** 2, potential, release_clause_eur, skill_ball_control, value_eur, value_eur ** 2, wage_eur, year_contract ** 2</td>\n",
       "    </tr>\n",
       "    <tr>\n",
       "      <th>7</th>\n",
       "      <td>DEFENSIVE MID</td>\n",
       "      <td>2</td>\n",
       "      <td>0.807204</td>\n",
       "      <td>31.220495</td>\n",
       "      <td>age_attacking_crossing ** 2, age_attacking_short_passing, age_attacking_short_passing ** 2, age_club_rank, age_club_rank ** 2, age_defence, age_defence ** 2, age_defending ** 2, age_defending_sliding_tackle, age_defending_sliding_tackle ** 2, age_dribbling, age_dribbling ** 2, age_international_reputation, age_international_reputation ** 2, age_movement_agility ** 2, age_movement_reactions, age_movement_reactions ** 2, age_passing, age_passing ** 2, age_potential ** 2, age_power_jumping ** 2, age_power_long_shots, age_power_long_shots ** 2, age_power_stamina, age_skill_ball_control, age_skill_ball_control ** 2, age_skill_dribbling ** 2, age_skill_long_passing, age_skill_long_passing ** 2, club_contract_valid_until_year, club_contract_valid_until_year ** 2, club_rank, club_rank ** 2, defending, fifa_age ** 2, fifa_version ** 2, gk, gk ** 2, height_cm ** 2, international_reputation, international_reputation ** 2, lw ** 2, movement_agility ** 2, movement_reactions ** 2, overall ** 2, player_tags ** 2, potential, release_clause_eur, skill_ball_control, value_eur, value_eur ** 2, wage_eur, year_contract ** 2</td>\n",
       "    </tr>\n",
       "    <tr>\n",
       "      <th>8</th>\n",
       "      <td>ATTACKING MID</td>\n",
       "      <td>1</td>\n",
       "      <td>0.888423</td>\n",
       "      <td>15.177811</td>\n",
       "      <td>age_attacking_crossing ** 2, age_attacking_short_passing, age_attacking_short_passing ** 2, age_club_rank, age_club_rank ** 2, age_defence, age_defence ** 2, age_defending ** 2, age_defending_sliding_tackle, age_defending_sliding_tackle ** 2, age_dribbling, age_dribbling ** 2, age_international_reputation, age_international_reputation ** 2, age_movement_agility ** 2, age_movement_reactions, age_movement_reactions ** 2, age_passing, age_passing ** 2, age_potential ** 2, age_power_jumping ** 2, age_power_long_shots, age_power_long_shots ** 2, age_power_stamina, age_skill_ball_control, age_skill_ball_control ** 2, age_skill_dribbling ** 2, age_skill_long_passing, age_skill_long_passing ** 2, club_contract_valid_until_year, club_contract_valid_until_year ** 2, club_rank, club_rank ** 2, defending, fifa_age ** 2, fifa_version ** 2, gk, gk ** 2, height_cm ** 2, international_reputation, international_reputation ** 2, lw ** 2, movement_agility ** 2, movement_reactions ** 2, overall ** 2, player_tags ** 2, potential, release_clause_eur, skill_ball_control, value_eur, value_eur ** 2, wage_eur, year_contract ** 2</td>\n",
       "    </tr>\n",
       "    <tr>\n",
       "      <th>9</th>\n",
       "      <td>ATTACKING MID</td>\n",
       "      <td>2</td>\n",
       "      <td>0.694306</td>\n",
       "      <td>75.371005</td>\n",
       "      <td>age_attacking_crossing ** 2, age_attacking_short_passing, age_attacking_short_passing ** 2, age_club_rank, age_club_rank ** 2, age_defence, age_defence ** 2, age_defending ** 2, age_defending_sliding_tackle, age_defending_sliding_tackle ** 2, age_dribbling, age_dribbling ** 2, age_international_reputation, age_international_reputation ** 2, age_movement_agility ** 2, age_movement_reactions, age_movement_reactions ** 2, age_passing, age_passing ** 2, age_potential ** 2, age_power_jumping ** 2, age_power_long_shots, age_power_long_shots ** 2, age_power_stamina, age_skill_ball_control, age_skill_ball_control ** 2, age_skill_dribbling ** 2, age_skill_long_passing, age_skill_long_passing ** 2, club_contract_valid_until_year, club_contract_valid_until_year ** 2, club_rank, club_rank ** 2, defending, fifa_age ** 2, fifa_version ** 2, gk, gk ** 2, height_cm ** 2, international_reputation, international_reputation ** 2, lw ** 2, movement_agility ** 2, movement_reactions ** 2, overall ** 2, player_tags ** 2, potential, release_clause_eur, skill_ball_control, value_eur, value_eur ** 2, wage_eur, year_contract ** 2</td>\n",
       "    </tr>\n",
       "    <tr>\n",
       "      <th>10</th>\n",
       "      <td>STRIKER</td>\n",
       "      <td>1</td>\n",
       "      <td>0.842116</td>\n",
       "      <td>20.619342</td>\n",
       "      <td>age_attacking_crossing ** 2, age_attacking_short_passing, age_attacking_short_passing ** 2, age_club_rank, age_club_rank ** 2, age_defence, age_defence ** 2, age_defending ** 2, age_defending_sliding_tackle, age_defending_sliding_tackle ** 2, age_dribbling, age_dribbling ** 2, age_international_reputation, age_international_reputation ** 2, age_movement_agility ** 2, age_movement_reactions, age_movement_reactions ** 2, age_passing, age_passing ** 2, age_potential ** 2, age_power_jumping ** 2, age_power_long_shots, age_power_long_shots ** 2, age_power_stamina, age_skill_ball_control, age_skill_ball_control ** 2, age_skill_dribbling ** 2, age_skill_long_passing, age_skill_long_passing ** 2, club_contract_valid_until_year, club_contract_valid_until_year ** 2, club_rank, club_rank ** 2, defending, fifa_age ** 2, fifa_version ** 2, gk, gk ** 2, height_cm ** 2, international_reputation, international_reputation ** 2, lw ** 2, movement_agility ** 2, movement_reactions ** 2, overall ** 2, player_tags ** 2, potential, release_clause_eur, skill_ball_control, value_eur, value_eur ** 2, wage_eur, year_contract ** 2</td>\n",
       "    </tr>\n",
       "    <tr>\n",
       "      <th>11</th>\n",
       "      <td>STRIKER</td>\n",
       "      <td>2</td>\n",
       "      <td>0.750346</td>\n",
       "      <td>79.843656</td>\n",
       "      <td>age_attacking_crossing ** 2, age_attacking_short_passing, age_attacking_short_passing ** 2, age_club_rank, age_club_rank ** 2, age_defence, age_defence ** 2, age_defending ** 2, age_defending_sliding_tackle, age_defending_sliding_tackle ** 2, age_dribbling, age_dribbling ** 2, age_international_reputation, age_international_reputation ** 2, age_movement_agility ** 2, age_movement_reactions, age_movement_reactions ** 2, age_passing, age_passing ** 2, age_potential ** 2, age_power_jumping ** 2, age_power_long_shots, age_power_long_shots ** 2, age_power_stamina, age_skill_ball_control, age_skill_ball_control ** 2, age_skill_dribbling ** 2, age_skill_long_passing, age_skill_long_passing ** 2, club_contract_valid_until_year, club_contract_valid_until_year ** 2, club_rank, club_rank ** 2, defending, fifa_age ** 2, fifa_version ** 2, gk, gk ** 2, height_cm ** 2, international_reputation, international_reputation ** 2, lw ** 2, movement_agility ** 2, movement_reactions ** 2, overall ** 2, player_tags ** 2, potential, release_clause_eur, skill_ball_control, value_eur, value_eur ** 2, wage_eur, year_contract ** 2</td>\n",
       "    </tr>\n",
       "  </tbody>\n",
       "</table>\n",
       "</div>"
      ],
      "text/plain": [
       "         Position  Years Ahead        R²        MSE                                                                                                                                                                                                                                                                                                                                                                                                                                                                                                                                                                                                                                                                                                                                                                                                                                                                                                                                                                                                                                                                                                                                                 Selected Features\n",
       "0              GK            1  0.871757  12.465100                                                                                                   age_attacking_crossing ** 2, age_attacking_short_passing, age_attacking_short_passing ** 2, age_club_rank, age_club_rank ** 2, age_defence, age_defence ** 2, age_defending_sliding_tackle, age_defending_sliding_tackle ** 2, age_international_reputation, age_international_reputation ** 2, age_movement_agility ** 2, age_movement_reactions, age_movement_reactions ** 2, age_potential ** 2, age_power_jumping ** 2, age_power_long_shots, age_power_long_shots ** 2, age_power_stamina, age_skill_ball_control, age_skill_ball_control ** 2, age_skill_dribbling ** 2, age_skill_long_passing, age_skill_long_passing ** 2, club_contract_valid_until_year, club_contract_valid_until_year ** 2, club_rank, club_rank ** 2, fifa_age ** 2, fifa_version ** 2, gk, gk ** 2, height_cm ** 2, international_reputation, international_reputation ** 2, lw ** 2, movement_agility ** 2, movement_reactions ** 2, overall ** 2, player_tags ** 2, potential, release_clause_eur, skill_ball_control, value_eur, value_eur ** 2, wage_eur, year_contract ** 2\n",
       "1              GK            2  0.729601  65.761602                                                                                                   age_attacking_crossing ** 2, age_attacking_short_passing, age_attacking_short_passing ** 2, age_club_rank, age_club_rank ** 2, age_defence, age_defence ** 2, age_defending_sliding_tackle, age_defending_sliding_tackle ** 2, age_international_reputation, age_international_reputation ** 2, age_movement_agility ** 2, age_movement_reactions, age_movement_reactions ** 2, age_potential ** 2, age_power_jumping ** 2, age_power_long_shots, age_power_long_shots ** 2, age_power_stamina, age_skill_ball_control, age_skill_ball_control ** 2, age_skill_dribbling ** 2, age_skill_long_passing, age_skill_long_passing ** 2, club_contract_valid_until_year, club_contract_valid_until_year ** 2, club_rank, club_rank ** 2, fifa_age ** 2, fifa_version ** 2, gk, gk ** 2, height_cm ** 2, international_reputation, international_reputation ** 2, lw ** 2, movement_agility ** 2, movement_reactions ** 2, overall ** 2, player_tags ** 2, potential, release_clause_eur, skill_ball_control, value_eur, value_eur ** 2, wage_eur, year_contract ** 2\n",
       "2              CB            1  0.877884   8.335399  age_attacking_crossing ** 2, age_attacking_short_passing, age_attacking_short_passing ** 2, age_club_rank, age_club_rank ** 2, age_defence, age_defence ** 2, age_defending ** 2, age_defending_sliding_tackle, age_defending_sliding_tackle ** 2, age_dribbling, age_dribbling ** 2, age_international_reputation, age_international_reputation ** 2, age_movement_agility ** 2, age_movement_reactions, age_movement_reactions ** 2, age_passing, age_passing ** 2, age_potential ** 2, age_power_jumping ** 2, age_power_long_shots, age_power_long_shots ** 2, age_power_stamina, age_skill_ball_control, age_skill_ball_control ** 2, age_skill_dribbling ** 2, age_skill_long_passing, age_skill_long_passing ** 2, club_contract_valid_until_year, club_contract_valid_until_year ** 2, club_rank, club_rank ** 2, defending, fifa_age ** 2, fifa_version ** 2, gk, gk ** 2, height_cm ** 2, international_reputation, international_reputation ** 2, lw ** 2, movement_agility ** 2, movement_reactions ** 2, overall ** 2, player_tags ** 2, potential, release_clause_eur, skill_ball_control, value_eur, value_eur ** 2, wage_eur, year_contract ** 2\n",
       "3              CB            2  0.645426  45.430338  age_attacking_crossing ** 2, age_attacking_short_passing, age_attacking_short_passing ** 2, age_club_rank, age_club_rank ** 2, age_defence, age_defence ** 2, age_defending ** 2, age_defending_sliding_tackle, age_defending_sliding_tackle ** 2, age_dribbling, age_dribbling ** 2, age_international_reputation, age_international_reputation ** 2, age_movement_agility ** 2, age_movement_reactions, age_movement_reactions ** 2, age_passing, age_passing ** 2, age_potential ** 2, age_power_jumping ** 2, age_power_long_shots, age_power_long_shots ** 2, age_power_stamina, age_skill_ball_control, age_skill_ball_control ** 2, age_skill_dribbling ** 2, age_skill_long_passing, age_skill_long_passing ** 2, club_contract_valid_until_year, club_contract_valid_until_year ** 2, club_rank, club_rank ** 2, defending, fifa_age ** 2, fifa_version ** 2, gk, gk ** 2, height_cm ** 2, international_reputation, international_reputation ** 2, lw ** 2, movement_agility ** 2, movement_reactions ** 2, overall ** 2, player_tags ** 2, potential, release_clause_eur, skill_ball_control, value_eur, value_eur ** 2, wage_eur, year_contract ** 2\n",
       "4           RB LB            1  0.728165  12.769250  age_attacking_crossing ** 2, age_attacking_short_passing, age_attacking_short_passing ** 2, age_club_rank, age_club_rank ** 2, age_defence, age_defence ** 2, age_defending ** 2, age_defending_sliding_tackle, age_defending_sliding_tackle ** 2, age_dribbling, age_dribbling ** 2, age_international_reputation, age_international_reputation ** 2, age_movement_agility ** 2, age_movement_reactions, age_movement_reactions ** 2, age_passing, age_passing ** 2, age_potential ** 2, age_power_jumping ** 2, age_power_long_shots, age_power_long_shots ** 2, age_power_stamina, age_skill_ball_control, age_skill_ball_control ** 2, age_skill_dribbling ** 2, age_skill_long_passing, age_skill_long_passing ** 2, club_contract_valid_until_year, club_contract_valid_until_year ** 2, club_rank, club_rank ** 2, defending, fifa_age ** 2, fifa_version ** 2, gk, gk ** 2, height_cm ** 2, international_reputation, international_reputation ** 2, lw ** 2, movement_agility ** 2, movement_reactions ** 2, overall ** 2, player_tags ** 2, potential, release_clause_eur, skill_ball_control, value_eur, value_eur ** 2, wage_eur, year_contract ** 2\n",
       "5           RB LB            2  0.670263  35.072205  age_attacking_crossing ** 2, age_attacking_short_passing, age_attacking_short_passing ** 2, age_club_rank, age_club_rank ** 2, age_defence, age_defence ** 2, age_defending ** 2, age_defending_sliding_tackle, age_defending_sliding_tackle ** 2, age_dribbling, age_dribbling ** 2, age_international_reputation, age_international_reputation ** 2, age_movement_agility ** 2, age_movement_reactions, age_movement_reactions ** 2, age_passing, age_passing ** 2, age_potential ** 2, age_power_jumping ** 2, age_power_long_shots, age_power_long_shots ** 2, age_power_stamina, age_skill_ball_control, age_skill_ball_control ** 2, age_skill_dribbling ** 2, age_skill_long_passing, age_skill_long_passing ** 2, club_contract_valid_until_year, club_contract_valid_until_year ** 2, club_rank, club_rank ** 2, defending, fifa_age ** 2, fifa_version ** 2, gk, gk ** 2, height_cm ** 2, international_reputation, international_reputation ** 2, lw ** 2, movement_agility ** 2, movement_reactions ** 2, overall ** 2, player_tags ** 2, potential, release_clause_eur, skill_ball_control, value_eur, value_eur ** 2, wage_eur, year_contract ** 2\n",
       "6   DEFENSIVE MID            1  0.883006  14.566470  age_attacking_crossing ** 2, age_attacking_short_passing, age_attacking_short_passing ** 2, age_club_rank, age_club_rank ** 2, age_defence, age_defence ** 2, age_defending ** 2, age_defending_sliding_tackle, age_defending_sliding_tackle ** 2, age_dribbling, age_dribbling ** 2, age_international_reputation, age_international_reputation ** 2, age_movement_agility ** 2, age_movement_reactions, age_movement_reactions ** 2, age_passing, age_passing ** 2, age_potential ** 2, age_power_jumping ** 2, age_power_long_shots, age_power_long_shots ** 2, age_power_stamina, age_skill_ball_control, age_skill_ball_control ** 2, age_skill_dribbling ** 2, age_skill_long_passing, age_skill_long_passing ** 2, club_contract_valid_until_year, club_contract_valid_until_year ** 2, club_rank, club_rank ** 2, defending, fifa_age ** 2, fifa_version ** 2, gk, gk ** 2, height_cm ** 2, international_reputation, international_reputation ** 2, lw ** 2, movement_agility ** 2, movement_reactions ** 2, overall ** 2, player_tags ** 2, potential, release_clause_eur, skill_ball_control, value_eur, value_eur ** 2, wage_eur, year_contract ** 2\n",
       "7   DEFENSIVE MID            2  0.807204  31.220495  age_attacking_crossing ** 2, age_attacking_short_passing, age_attacking_short_passing ** 2, age_club_rank, age_club_rank ** 2, age_defence, age_defence ** 2, age_defending ** 2, age_defending_sliding_tackle, age_defending_sliding_tackle ** 2, age_dribbling, age_dribbling ** 2, age_international_reputation, age_international_reputation ** 2, age_movement_agility ** 2, age_movement_reactions, age_movement_reactions ** 2, age_passing, age_passing ** 2, age_potential ** 2, age_power_jumping ** 2, age_power_long_shots, age_power_long_shots ** 2, age_power_stamina, age_skill_ball_control, age_skill_ball_control ** 2, age_skill_dribbling ** 2, age_skill_long_passing, age_skill_long_passing ** 2, club_contract_valid_until_year, club_contract_valid_until_year ** 2, club_rank, club_rank ** 2, defending, fifa_age ** 2, fifa_version ** 2, gk, gk ** 2, height_cm ** 2, international_reputation, international_reputation ** 2, lw ** 2, movement_agility ** 2, movement_reactions ** 2, overall ** 2, player_tags ** 2, potential, release_clause_eur, skill_ball_control, value_eur, value_eur ** 2, wage_eur, year_contract ** 2\n",
       "8   ATTACKING MID            1  0.888423  15.177811  age_attacking_crossing ** 2, age_attacking_short_passing, age_attacking_short_passing ** 2, age_club_rank, age_club_rank ** 2, age_defence, age_defence ** 2, age_defending ** 2, age_defending_sliding_tackle, age_defending_sliding_tackle ** 2, age_dribbling, age_dribbling ** 2, age_international_reputation, age_international_reputation ** 2, age_movement_agility ** 2, age_movement_reactions, age_movement_reactions ** 2, age_passing, age_passing ** 2, age_potential ** 2, age_power_jumping ** 2, age_power_long_shots, age_power_long_shots ** 2, age_power_stamina, age_skill_ball_control, age_skill_ball_control ** 2, age_skill_dribbling ** 2, age_skill_long_passing, age_skill_long_passing ** 2, club_contract_valid_until_year, club_contract_valid_until_year ** 2, club_rank, club_rank ** 2, defending, fifa_age ** 2, fifa_version ** 2, gk, gk ** 2, height_cm ** 2, international_reputation, international_reputation ** 2, lw ** 2, movement_agility ** 2, movement_reactions ** 2, overall ** 2, player_tags ** 2, potential, release_clause_eur, skill_ball_control, value_eur, value_eur ** 2, wage_eur, year_contract ** 2\n",
       "9   ATTACKING MID            2  0.694306  75.371005  age_attacking_crossing ** 2, age_attacking_short_passing, age_attacking_short_passing ** 2, age_club_rank, age_club_rank ** 2, age_defence, age_defence ** 2, age_defending ** 2, age_defending_sliding_tackle, age_defending_sliding_tackle ** 2, age_dribbling, age_dribbling ** 2, age_international_reputation, age_international_reputation ** 2, age_movement_agility ** 2, age_movement_reactions, age_movement_reactions ** 2, age_passing, age_passing ** 2, age_potential ** 2, age_power_jumping ** 2, age_power_long_shots, age_power_long_shots ** 2, age_power_stamina, age_skill_ball_control, age_skill_ball_control ** 2, age_skill_dribbling ** 2, age_skill_long_passing, age_skill_long_passing ** 2, club_contract_valid_until_year, club_contract_valid_until_year ** 2, club_rank, club_rank ** 2, defending, fifa_age ** 2, fifa_version ** 2, gk, gk ** 2, height_cm ** 2, international_reputation, international_reputation ** 2, lw ** 2, movement_agility ** 2, movement_reactions ** 2, overall ** 2, player_tags ** 2, potential, release_clause_eur, skill_ball_control, value_eur, value_eur ** 2, wage_eur, year_contract ** 2\n",
       "10        STRIKER            1  0.842116  20.619342  age_attacking_crossing ** 2, age_attacking_short_passing, age_attacking_short_passing ** 2, age_club_rank, age_club_rank ** 2, age_defence, age_defence ** 2, age_defending ** 2, age_defending_sliding_tackle, age_defending_sliding_tackle ** 2, age_dribbling, age_dribbling ** 2, age_international_reputation, age_international_reputation ** 2, age_movement_agility ** 2, age_movement_reactions, age_movement_reactions ** 2, age_passing, age_passing ** 2, age_potential ** 2, age_power_jumping ** 2, age_power_long_shots, age_power_long_shots ** 2, age_power_stamina, age_skill_ball_control, age_skill_ball_control ** 2, age_skill_dribbling ** 2, age_skill_long_passing, age_skill_long_passing ** 2, club_contract_valid_until_year, club_contract_valid_until_year ** 2, club_rank, club_rank ** 2, defending, fifa_age ** 2, fifa_version ** 2, gk, gk ** 2, height_cm ** 2, international_reputation, international_reputation ** 2, lw ** 2, movement_agility ** 2, movement_reactions ** 2, overall ** 2, player_tags ** 2, potential, release_clause_eur, skill_ball_control, value_eur, value_eur ** 2, wage_eur, year_contract ** 2\n",
       "11        STRIKER            2  0.750346  79.843656  age_attacking_crossing ** 2, age_attacking_short_passing, age_attacking_short_passing ** 2, age_club_rank, age_club_rank ** 2, age_defence, age_defence ** 2, age_defending ** 2, age_defending_sliding_tackle, age_defending_sliding_tackle ** 2, age_dribbling, age_dribbling ** 2, age_international_reputation, age_international_reputation ** 2, age_movement_agility ** 2, age_movement_reactions, age_movement_reactions ** 2, age_passing, age_passing ** 2, age_potential ** 2, age_power_jumping ** 2, age_power_long_shots, age_power_long_shots ** 2, age_power_stamina, age_skill_ball_control, age_skill_ball_control ** 2, age_skill_dribbling ** 2, age_skill_long_passing, age_skill_long_passing ** 2, club_contract_valid_until_year, club_contract_valid_until_year ** 2, club_rank, club_rank ** 2, defending, fifa_age ** 2, fifa_version ** 2, gk, gk ** 2, height_cm ** 2, international_reputation, international_reputation ** 2, lw ** 2, movement_agility ** 2, movement_reactions ** 2, overall ** 2, player_tags ** 2, potential, release_clause_eur, skill_ball_control, value_eur, value_eur ** 2, wage_eur, year_contract ** 2"
      ]
     },
     "execution_count": 29,
     "metadata": {},
     "output_type": "execute_result"
    }
   ],
   "source": [
    "results_lasso_df[['Position', 'Years Ahead', 'R²', 'MSE', 'Selected Features']]"
   ]
  },
  {
   "cell_type": "markdown",
   "metadata": {},
   "source": [
    "# Random Forest"
   ]
  },
  {
   "cell_type": "code",
   "execution_count": 30,
   "metadata": {},
   "outputs": [],
   "source": [
    "def SimpleRandomForest(group_df, target_col='value_eur', n_estimators=500, max_depth=6):\n",
    "    # Define features (X) and target variable (y)\n",
    "    X = group_df.drop([target_col], axis=1)\n",
    "    y = group_df[target_col]\n",
    "\n",
    "    # Split into training and test sets\n",
    "    X_train, X_test, y_train, y_test = train_test_split(X, y, test_size=0.25, random_state=42)\n",
    "\n",
    "    # Create the model\n",
    "    model = RandomForestRegressor(n_estimators=n_estimators, max_depth=max_depth, random_state=42, n_jobs=-1)\n",
    "\n",
    "    # Fit the model with tqdm for progress tracking\n",
    "    for _ in tqdm(range(1), desc=\"Training Progress\"):\n",
    "        model.fit(X_train, y_train)\n",
    "\n",
    "    # Make predictions and check performance\n",
    "    y_pred = model.predict(X_test)\n",
    "    y_pred = y_pred / 1000000  # Convert to millions for convenience\n",
    "    y_test = y_test / 1000000  # Convert to millions for convenience\n",
    "\n",
    "    r2 = r2_score(y_test, y_pred)\n",
    "    mse = mean_squared_error(y_test, y_pred)\n",
    "\n",
    "    # Get feature importances and selected feature names\n",
    "    feature_importances = model.feature_importances_\n",
    "    selected_feature_names = X.columns[feature_importances > 0].tolist()\n",
    "\n",
    "    print(f'R^2: {r2:.4f}, MSE: {mse:.4f}')\n",
    "    \n",
    "    return model, selected_feature_names, r2, mse"
   ]
  },
  {
   "cell_type": "code",
   "execution_count": 31,
   "metadata": {
    "scrolled": false
   },
   "outputs": [
    {
     "name": "stdout",
     "output_type": "stream",
     "text": [
      "Predicting 1 year ahead: \n",
      "\n"
     ]
    },
    {
     "name": "stderr",
     "output_type": "stream",
     "text": [
      "Training Progress: 100%|██████████████████████████| 1/1 [00:03<00:00,  3.04s/it]\n"
     ]
    },
    {
     "name": "stdout",
     "output_type": "stream",
     "text": [
      "R^2: 0.8827, MSE: 11.4033\n",
      "Selected features (1 year ahead): ['age_attacking_crossing ** 2', 'age_attacking_short_passing', 'age_attacking_short_passing ** 2', 'age_club_rank', 'age_club_rank ** 2', 'age_defence', 'age_defence ** 2', 'age_defending_sliding_tackle', 'age_defending_sliding_tackle ** 2', 'age_international_reputation', 'age_international_reputation ** 2', 'age_movement_agility ** 2', 'age_movement_reactions', 'age_movement_reactions ** 2', 'age_potential ** 2', 'age_power_jumping ** 2', 'age_power_long_shots', 'age_power_long_shots ** 2', 'age_power_stamina', 'age_skill_ball_control', 'age_skill_ball_control ** 2', 'age_skill_dribbling ** 2', 'age_skill_long_passing', 'age_skill_long_passing ** 2', 'club_contract_valid_until_year', 'club_contract_valid_until_year ** 2', 'club_rank', 'club_rank ** 2', 'fifa_age ** 2', 'fifa_version ** 2', 'gk', 'gk ** 2', 'height_cm ** 2', 'international_reputation', 'international_reputation ** 2', 'lw ** 2', 'movement_agility ** 2', 'movement_reactions ** 2', 'overall ** 2', 'potential', 'release_clause_eur', 'skill_ball_control', 'value_eur', 'value_eur ** 2', 'wage_eur', 'year_contract ** 2']\n",
      "\n",
      "\n",
      "Predicting 2 years ahead: \n",
      "\n"
     ]
    },
    {
     "name": "stderr",
     "output_type": "stream",
     "text": [
      "Training Progress: 100%|██████████████████████████| 1/1 [00:01<00:00,  1.68s/it]\n"
     ]
    },
    {
     "name": "stdout",
     "output_type": "stream",
     "text": [
      "R^2: 0.6807, MSE: 77.6517\n",
      "Predicting 1 year ahead: \n",
      "\n"
     ]
    },
    {
     "name": "stderr",
     "output_type": "stream",
     "text": [
      "Training Progress: 100%|██████████████████████████| 1/1 [00:06<00:00,  6.63s/it]\n"
     ]
    },
    {
     "name": "stdout",
     "output_type": "stream",
     "text": [
      "R^2: 0.8545, MSE: 9.9317\n",
      "Selected features (1 year ahead): ['age_attacking_crossing ** 2', 'age_attacking_short_passing', 'age_attacking_short_passing ** 2', 'age_club_rank', 'age_club_rank ** 2', 'age_defence', 'age_defence ** 2', 'age_defending ** 2', 'age_defending_sliding_tackle', 'age_defending_sliding_tackle ** 2', 'age_dribbling', 'age_dribbling ** 2', 'age_international_reputation', 'age_international_reputation ** 2', 'age_movement_agility ** 2', 'age_movement_reactions', 'age_movement_reactions ** 2', 'age_passing', 'age_passing ** 2', 'age_potential ** 2', 'age_power_jumping ** 2', 'age_power_long_shots', 'age_power_long_shots ** 2', 'age_power_stamina', 'age_skill_ball_control', 'age_skill_ball_control ** 2', 'age_skill_dribbling ** 2', 'age_skill_long_passing', 'age_skill_long_passing ** 2', 'club_contract_valid_until_year', 'club_contract_valid_until_year ** 2', 'club_rank', 'club_rank ** 2', 'defending', 'fifa_age ** 2', 'fifa_version ** 2', 'gk', 'gk ** 2', 'height_cm ** 2', 'international_reputation', 'international_reputation ** 2', 'lw ** 2', 'movement_agility ** 2', 'movement_reactions ** 2', 'overall ** 2', 'player_tags ** 2', 'potential', 'release_clause_eur', 'skill_ball_control', 'value_eur', 'value_eur ** 2', 'wage_eur', 'year_contract ** 2']\n",
      "\n",
      "\n",
      "Predicting 2 years ahead: \n",
      "\n"
     ]
    },
    {
     "name": "stderr",
     "output_type": "stream",
     "text": [
      "Training Progress: 100%|██████████████████████████| 1/1 [00:03<00:00,  3.44s/it]\n"
     ]
    },
    {
     "name": "stdout",
     "output_type": "stream",
     "text": [
      "R^2: 0.6546, MSE: 44.2556\n",
      "Predicting 1 year ahead: \n",
      "\n"
     ]
    },
    {
     "name": "stderr",
     "output_type": "stream",
     "text": [
      "Training Progress: 100%|██████████████████████████| 1/1 [00:05<00:00,  5.18s/it]\n"
     ]
    },
    {
     "name": "stdout",
     "output_type": "stream",
     "text": [
      "R^2: 0.7487, MSE: 11.8050\n",
      "Selected features (1 year ahead): ['age_attacking_crossing ** 2', 'age_attacking_short_passing', 'age_attacking_short_passing ** 2', 'age_club_rank', 'age_club_rank ** 2', 'age_defence', 'age_defence ** 2', 'age_defending ** 2', 'age_defending_sliding_tackle', 'age_defending_sliding_tackle ** 2', 'age_dribbling', 'age_dribbling ** 2', 'age_international_reputation', 'age_international_reputation ** 2', 'age_movement_agility ** 2', 'age_movement_reactions', 'age_movement_reactions ** 2', 'age_passing', 'age_passing ** 2', 'age_potential ** 2', 'age_power_jumping ** 2', 'age_power_long_shots', 'age_power_long_shots ** 2', 'age_power_stamina', 'age_skill_ball_control', 'age_skill_ball_control ** 2', 'age_skill_dribbling ** 2', 'age_skill_long_passing', 'age_skill_long_passing ** 2', 'club_contract_valid_until_year', 'club_contract_valid_until_year ** 2', 'club_rank', 'club_rank ** 2', 'defending', 'fifa_age ** 2', 'fifa_version ** 2', 'gk', 'gk ** 2', 'height_cm ** 2', 'international_reputation', 'international_reputation ** 2', 'lw ** 2', 'movement_agility ** 2', 'movement_reactions ** 2', 'overall ** 2', 'player_tags ** 2', 'potential', 'release_clause_eur', 'skill_ball_control', 'value_eur', 'value_eur ** 2', 'wage_eur', 'year_contract ** 2']\n",
      "\n",
      "\n",
      "Predicting 2 years ahead: \n",
      "\n"
     ]
    },
    {
     "name": "stderr",
     "output_type": "stream",
     "text": [
      "Training Progress: 100%|██████████████████████████| 1/1 [00:02<00:00,  2.85s/it]\n"
     ]
    },
    {
     "name": "stdout",
     "output_type": "stream",
     "text": [
      "R^2: 0.6760, MSE: 34.4613\n",
      "Predicting 1 year ahead: \n",
      "\n"
     ]
    },
    {
     "name": "stderr",
     "output_type": "stream",
     "text": [
      "Training Progress: 100%|██████████████████████████| 1/1 [00:08<00:00,  8.58s/it]\n"
     ]
    },
    {
     "name": "stdout",
     "output_type": "stream",
     "text": [
      "R^2: 0.8833, MSE: 14.5272\n",
      "Selected features (1 year ahead): ['age_attacking_crossing ** 2', 'age_attacking_short_passing', 'age_attacking_short_passing ** 2', 'age_club_rank', 'age_club_rank ** 2', 'age_defence', 'age_defence ** 2', 'age_defending ** 2', 'age_defending_sliding_tackle', 'age_defending_sliding_tackle ** 2', 'age_dribbling', 'age_dribbling ** 2', 'age_international_reputation', 'age_international_reputation ** 2', 'age_movement_agility ** 2', 'age_movement_reactions', 'age_movement_reactions ** 2', 'age_passing', 'age_passing ** 2', 'age_potential ** 2', 'age_power_jumping ** 2', 'age_power_long_shots', 'age_power_long_shots ** 2', 'age_power_stamina', 'age_skill_ball_control', 'age_skill_ball_control ** 2', 'age_skill_dribbling ** 2', 'age_skill_long_passing', 'age_skill_long_passing ** 2', 'club_contract_valid_until_year', 'club_contract_valid_until_year ** 2', 'club_rank', 'club_rank ** 2', 'defending', 'fifa_age ** 2', 'fifa_version ** 2', 'gk', 'gk ** 2', 'height_cm ** 2', 'international_reputation', 'international_reputation ** 2', 'lw ** 2', 'movement_agility ** 2', 'movement_reactions ** 2', 'overall ** 2', 'player_tags ** 2', 'potential', 'release_clause_eur', 'skill_ball_control', 'value_eur', 'value_eur ** 2', 'wage_eur', 'year_contract ** 2']\n",
      "\n",
      "\n",
      "Predicting 2 years ahead: \n",
      "\n"
     ]
    },
    {
     "name": "stderr",
     "output_type": "stream",
     "text": [
      "Training Progress: 100%|██████████████████████████| 1/1 [00:05<00:00,  5.29s/it]\n"
     ]
    },
    {
     "name": "stdout",
     "output_type": "stream",
     "text": [
      "R^2: 0.7973, MSE: 32.8273\n",
      "Predicting 1 year ahead: \n",
      "\n"
     ]
    },
    {
     "name": "stderr",
     "output_type": "stream",
     "text": [
      "Training Progress: 100%|██████████████████████████| 1/1 [00:06<00:00,  6.92s/it]\n"
     ]
    },
    {
     "name": "stdout",
     "output_type": "stream",
     "text": [
      "R^2: 0.8774, MSE: 16.6745\n",
      "Selected features (1 year ahead): ['age_attacking_crossing ** 2', 'age_attacking_short_passing', 'age_attacking_short_passing ** 2', 'age_club_rank', 'age_club_rank ** 2', 'age_defence', 'age_defence ** 2', 'age_defending ** 2', 'age_defending_sliding_tackle', 'age_defending_sliding_tackle ** 2', 'age_dribbling', 'age_dribbling ** 2', 'age_international_reputation', 'age_international_reputation ** 2', 'age_movement_agility ** 2', 'age_movement_reactions', 'age_movement_reactions ** 2', 'age_passing', 'age_passing ** 2', 'age_potential ** 2', 'age_power_jumping ** 2', 'age_power_long_shots', 'age_power_long_shots ** 2', 'age_power_stamina', 'age_skill_ball_control', 'age_skill_ball_control ** 2', 'age_skill_dribbling ** 2', 'age_skill_long_passing', 'age_skill_long_passing ** 2', 'club_contract_valid_until_year', 'club_contract_valid_until_year ** 2', 'club_rank', 'club_rank ** 2', 'defending', 'fifa_age ** 2', 'fifa_version ** 2', 'gk', 'gk ** 2', 'height_cm ** 2', 'international_reputation', 'international_reputation ** 2', 'lw ** 2', 'movement_agility ** 2', 'movement_reactions ** 2', 'overall ** 2', 'player_tags ** 2', 'potential', 'release_clause_eur', 'skill_ball_control', 'value_eur', 'value_eur ** 2', 'wage_eur', 'year_contract ** 2']\n",
      "\n",
      "\n",
      "Predicting 2 years ahead: \n",
      "\n"
     ]
    },
    {
     "name": "stderr",
     "output_type": "stream",
     "text": [
      "Training Progress: 100%|██████████████████████████| 1/1 [00:03<00:00,  3.44s/it]\n"
     ]
    },
    {
     "name": "stdout",
     "output_type": "stream",
     "text": [
      "R^2: 0.7301, MSE: 66.5553\n",
      "Predicting 1 year ahead: \n",
      "\n"
     ]
    },
    {
     "name": "stderr",
     "output_type": "stream",
     "text": [
      "Training Progress: 100%|██████████████████████████| 1/1 [00:03<00:00,  3.56s/it]\n"
     ]
    },
    {
     "name": "stdout",
     "output_type": "stream",
     "text": [
      "R^2: 0.8370, MSE: 21.2938\n",
      "Selected features (1 year ahead): ['age_attacking_crossing ** 2', 'age_attacking_short_passing', 'age_attacking_short_passing ** 2', 'age_club_rank', 'age_club_rank ** 2', 'age_defence', 'age_defence ** 2', 'age_defending ** 2', 'age_defending_sliding_tackle', 'age_defending_sliding_tackle ** 2', 'age_dribbling', 'age_dribbling ** 2', 'age_international_reputation', 'age_international_reputation ** 2', 'age_movement_agility ** 2', 'age_movement_reactions', 'age_movement_reactions ** 2', 'age_passing', 'age_passing ** 2', 'age_potential ** 2', 'age_power_jumping ** 2', 'age_power_long_shots', 'age_power_long_shots ** 2', 'age_power_stamina', 'age_skill_ball_control', 'age_skill_ball_control ** 2', 'age_skill_dribbling ** 2', 'age_skill_long_passing', 'age_skill_long_passing ** 2', 'club_contract_valid_until_year', 'club_contract_valid_until_year ** 2', 'club_rank', 'club_rank ** 2', 'defending', 'fifa_age ** 2', 'fifa_version ** 2', 'gk', 'gk ** 2', 'height_cm ** 2', 'international_reputation', 'international_reputation ** 2', 'lw ** 2', 'movement_agility ** 2', 'movement_reactions ** 2', 'overall ** 2', 'player_tags ** 2', 'potential', 'release_clause_eur', 'skill_ball_control', 'value_eur', 'value_eur ** 2', 'wage_eur', 'year_contract ** 2']\n",
      "\n",
      "\n",
      "Predicting 2 years ahead: \n",
      "\n"
     ]
    },
    {
     "name": "stderr",
     "output_type": "stream",
     "text": [
      "Training Progress: 100%|██████████████████████████| 1/1 [00:02<00:00,  2.38s/it]"
     ]
    },
    {
     "name": "stdout",
     "output_type": "stream",
     "text": [
      "R^2: 0.7625, MSE: 75.9514\n"
     ]
    },
    {
     "name": "stderr",
     "output_type": "stream",
     "text": [
      "\n"
     ]
    }
   ],
   "source": [
    "# Initialize lists to store the results\n",
    "results = []\n",
    "\n",
    "# Iterate over positions\n",
    "for i in range(1, 7):\n",
    "\n",
    "    # Predict 1 year ahead\n",
    "    print(\"Predicting 1 year ahead: \\n\")\n",
    "    group_df = full_joined_df_copy[(full_joined_df_copy['position'] == i)]\n",
    "    group_df = group_df[existing_columns].drop('value_eur_2_year', axis=1)\n",
    "    group_df = group_df[group_df['value_eur_1_year'] > 0]\n",
    "\n",
    "    model, selected_features, r2_score_1_year, mse_1_year = SimpleRandomForest(group_df, 'value_eur_1_year')\n",
    "    print(f\"Selected features (1 year ahead): {selected_features}\\n\")\n",
    "\n",
    "    # Store the result for 1 year ahead\n",
    "    results.append({\n",
    "        'Position': pos_list[i],\n",
    "        'Years Ahead': 1,\n",
    "        'R²': r2_score_1_year,\n",
    "        'MSE': mse_1_year,\n",
    "        'Selected Features': selected_features\n",
    "    })\n",
    "\n",
    "    # Predict 2 years ahead\n",
    "    print(\"\\nPredicting 2 years ahead: \\n\")\n",
    "    group_df = full_joined_df_copy[(full_joined_df_copy['position'] == i)]\n",
    "    group_df = group_df[existing_columns].drop('value_eur_1_year', axis=1)\n",
    "    group_df = group_df[group_df['value_eur_2_year'] > 0]\n",
    "    group_df = group_df[group_df['club_rank'] != 6]\n",
    "\n",
    "    model, selected_features, r2_score_2_year, mse_2_year = SimpleRandomForest(group_df, 'value_eur_2_year')\n",
    "\n",
    "\n",
    "    # Store the result for 2 years ahead\n",
    "    results.append({\n",
    "        'Position': pos_list[i],\n",
    "        'Years Ahead': 2,\n",
    "        'R²': r2_score_2_year,\n",
    "        'MSE': mse_2_year,\n",
    "        'Selected Features': selected_features\n",
    "    })\n",
    "\n",
    "# Convert the results list into a DataFrame\n",
    "results_df = pd.DataFrame(results)\n"
   ]
  },
  {
   "cell_type": "code",
   "execution_count": 32,
   "metadata": {},
   "outputs": [
    {
     "data": {
      "text/html": [
       "<div>\n",
       "<style scoped>\n",
       "    .dataframe tbody tr th:only-of-type {\n",
       "        vertical-align: middle;\n",
       "    }\n",
       "\n",
       "    .dataframe tbody tr th {\n",
       "        vertical-align: top;\n",
       "    }\n",
       "\n",
       "    .dataframe thead th {\n",
       "        text-align: right;\n",
       "    }\n",
       "</style>\n",
       "<table border=\"1\" class=\"dataframe\">\n",
       "  <thead>\n",
       "    <tr style=\"text-align: right;\">\n",
       "      <th></th>\n",
       "      <th>Position</th>\n",
       "      <th>Years Ahead</th>\n",
       "      <th>R²</th>\n",
       "      <th>MSE</th>\n",
       "      <th>Selected Features</th>\n",
       "    </tr>\n",
       "  </thead>\n",
       "  <tbody>\n",
       "    <tr>\n",
       "      <th>0</th>\n",
       "      <td>GK</td>\n",
       "      <td>1</td>\n",
       "      <td>0.882681</td>\n",
       "      <td>11.403280</td>\n",
       "      <td>[age_attacking_crossing ** 2, age_attacking_short_passing, age_attacking_short_passing ** 2, age_club_rank, age_club_rank ** 2, age_defence, age_defence ** 2, age_defending_sliding_tackle, age_defending_sliding_tackle ** 2, age_international_reputation, age_international_reputation ** 2, age_movement_agility ** 2, age_movement_reactions, age_movement_reactions ** 2, age_potential ** 2, age_power_jumping ** 2, age_power_long_shots, age_power_long_shots ** 2, age_power_stamina, age_skill_ball_control, age_skill_ball_control ** 2, age_skill_dribbling ** 2, age_skill_long_passing, age_skill_long_passing ** 2, club_contract_valid_until_year, club_contract_valid_until_year ** 2, club_rank, club_rank ** 2, fifa_age ** 2, fifa_version ** 2, gk, gk ** 2, height_cm ** 2, international_reputation, international_reputation ** 2, lw ** 2, movement_agility ** 2, movement_reactions ** 2, overall ** 2, potential, release_clause_eur, skill_ball_control, value_eur, value_eur ** 2, wage_eur, year_contract ** 2]</td>\n",
       "    </tr>\n",
       "    <tr>\n",
       "      <th>1</th>\n",
       "      <td>GK</td>\n",
       "      <td>2</td>\n",
       "      <td>0.680711</td>\n",
       "      <td>77.651715</td>\n",
       "      <td>[age_attacking_crossing ** 2, age_attacking_short_passing, age_attacking_short_passing ** 2, age_club_rank, age_club_rank ** 2, age_defence, age_defence ** 2, age_defending_sliding_tackle, age_defending_sliding_tackle ** 2, age_international_reputation, age_international_reputation ** 2, age_movement_agility ** 2, age_movement_reactions, age_movement_reactions ** 2, age_potential ** 2, age_power_jumping ** 2, age_power_long_shots, age_power_long_shots ** 2, age_power_stamina, age_skill_ball_control, age_skill_ball_control ** 2, age_skill_dribbling ** 2, age_skill_long_passing, age_skill_long_passing ** 2, club_contract_valid_until_year, club_contract_valid_until_year ** 2, club_rank, club_rank ** 2, fifa_age ** 2, fifa_version ** 2, gk, gk ** 2, height_cm ** 2, international_reputation, international_reputation ** 2, lw ** 2, movement_agility ** 2, movement_reactions ** 2, overall ** 2, potential, release_clause_eur, skill_ball_control, value_eur, value_eur ** 2, wage_eur, year_contract ** 2]</td>\n",
       "    </tr>\n",
       "    <tr>\n",
       "      <th>2</th>\n",
       "      <td>CB</td>\n",
       "      <td>1</td>\n",
       "      <td>0.854498</td>\n",
       "      <td>9.931728</td>\n",
       "      <td>[age_attacking_crossing ** 2, age_attacking_short_passing, age_attacking_short_passing ** 2, age_club_rank, age_club_rank ** 2, age_defence, age_defence ** 2, age_defending ** 2, age_defending_sliding_tackle, age_defending_sliding_tackle ** 2, age_dribbling, age_dribbling ** 2, age_international_reputation, age_international_reputation ** 2, age_movement_agility ** 2, age_movement_reactions, age_movement_reactions ** 2, age_passing, age_passing ** 2, age_potential ** 2, age_power_jumping ** 2, age_power_long_shots, age_power_long_shots ** 2, age_power_stamina, age_skill_ball_control, age_skill_ball_control ** 2, age_skill_dribbling ** 2, age_skill_long_passing, age_skill_long_passing ** 2, club_contract_valid_until_year, club_contract_valid_until_year ** 2, club_rank, club_rank ** 2, defending, fifa_age ** 2, fifa_version ** 2, gk, gk ** 2, height_cm ** 2, international_reputation, international_reputation ** 2, lw ** 2, movement_agility ** 2, movement_reactions ** 2, overall ** 2, player_tags ** 2, potential, release_clause_eur, skill_ball_control, value_eur, value_eur ** 2, wage_eur, year_contract ** 2]</td>\n",
       "    </tr>\n",
       "    <tr>\n",
       "      <th>3</th>\n",
       "      <td>CB</td>\n",
       "      <td>2</td>\n",
       "      <td>0.654595</td>\n",
       "      <td>44.255602</td>\n",
       "      <td>[age_attacking_crossing ** 2, age_attacking_short_passing, age_attacking_short_passing ** 2, age_club_rank, age_club_rank ** 2, age_defence, age_defence ** 2, age_defending ** 2, age_defending_sliding_tackle, age_defending_sliding_tackle ** 2, age_dribbling, age_dribbling ** 2, age_international_reputation, age_international_reputation ** 2, age_movement_agility ** 2, age_movement_reactions, age_movement_reactions ** 2, age_passing, age_passing ** 2, age_potential ** 2, age_power_jumping ** 2, age_power_long_shots, age_power_long_shots ** 2, age_power_stamina, age_skill_ball_control, age_skill_ball_control ** 2, age_skill_dribbling ** 2, age_skill_long_passing, age_skill_long_passing ** 2, club_contract_valid_until_year, club_contract_valid_until_year ** 2, club_rank, club_rank ** 2, defending, fifa_age ** 2, fifa_version ** 2, gk, gk ** 2, height_cm ** 2, international_reputation, international_reputation ** 2, lw ** 2, movement_agility ** 2, movement_reactions ** 2, overall ** 2, player_tags ** 2, potential, release_clause_eur, skill_ball_control, value_eur, value_eur ** 2, wage_eur, year_contract ** 2]</td>\n",
       "    </tr>\n",
       "    <tr>\n",
       "      <th>4</th>\n",
       "      <td>RB LB</td>\n",
       "      <td>1</td>\n",
       "      <td>0.748692</td>\n",
       "      <td>11.805013</td>\n",
       "      <td>[age_attacking_crossing ** 2, age_attacking_short_passing, age_attacking_short_passing ** 2, age_club_rank, age_club_rank ** 2, age_defence, age_defence ** 2, age_defending ** 2, age_defending_sliding_tackle, age_defending_sliding_tackle ** 2, age_dribbling, age_dribbling ** 2, age_international_reputation, age_international_reputation ** 2, age_movement_agility ** 2, age_movement_reactions, age_movement_reactions ** 2, age_passing, age_passing ** 2, age_potential ** 2, age_power_jumping ** 2, age_power_long_shots, age_power_long_shots ** 2, age_power_stamina, age_skill_ball_control, age_skill_ball_control ** 2, age_skill_dribbling ** 2, age_skill_long_passing, age_skill_long_passing ** 2, club_contract_valid_until_year, club_contract_valid_until_year ** 2, club_rank, club_rank ** 2, defending, fifa_age ** 2, fifa_version ** 2, gk, gk ** 2, height_cm ** 2, international_reputation, international_reputation ** 2, lw ** 2, movement_agility ** 2, movement_reactions ** 2, overall ** 2, player_tags ** 2, potential, release_clause_eur, skill_ball_control, value_eur, value_eur ** 2, wage_eur, year_contract ** 2]</td>\n",
       "    </tr>\n",
       "    <tr>\n",
       "      <th>5</th>\n",
       "      <td>RB LB</td>\n",
       "      <td>2</td>\n",
       "      <td>0.676006</td>\n",
       "      <td>34.461316</td>\n",
       "      <td>[age_attacking_crossing ** 2, age_attacking_short_passing, age_attacking_short_passing ** 2, age_club_rank, age_club_rank ** 2, age_defence, age_defence ** 2, age_defending ** 2, age_defending_sliding_tackle, age_defending_sliding_tackle ** 2, age_dribbling, age_dribbling ** 2, age_international_reputation, age_international_reputation ** 2, age_movement_agility ** 2, age_movement_reactions, age_movement_reactions ** 2, age_passing, age_passing ** 2, age_potential ** 2, age_power_jumping ** 2, age_power_long_shots, age_power_long_shots ** 2, age_power_stamina, age_skill_ball_control, age_skill_ball_control ** 2, age_skill_dribbling ** 2, age_skill_long_passing, age_skill_long_passing ** 2, club_contract_valid_until_year, club_contract_valid_until_year ** 2, club_rank, club_rank ** 2, defending, fifa_age ** 2, fifa_version ** 2, gk, gk ** 2, height_cm ** 2, international_reputation, international_reputation ** 2, lw ** 2, movement_agility ** 2, movement_reactions ** 2, overall ** 2, player_tags ** 2, potential, release_clause_eur, skill_ball_control, value_eur, value_eur ** 2, wage_eur, year_contract ** 2]</td>\n",
       "    </tr>\n",
       "    <tr>\n",
       "      <th>6</th>\n",
       "      <td>DEFENSIVE MID</td>\n",
       "      <td>1</td>\n",
       "      <td>0.883321</td>\n",
       "      <td>14.527190</td>\n",
       "      <td>[age_attacking_crossing ** 2, age_attacking_short_passing, age_attacking_short_passing ** 2, age_club_rank, age_club_rank ** 2, age_defence, age_defence ** 2, age_defending ** 2, age_defending_sliding_tackle, age_defending_sliding_tackle ** 2, age_dribbling, age_dribbling ** 2, age_international_reputation, age_international_reputation ** 2, age_movement_agility ** 2, age_movement_reactions, age_movement_reactions ** 2, age_passing, age_passing ** 2, age_potential ** 2, age_power_jumping ** 2, age_power_long_shots, age_power_long_shots ** 2, age_power_stamina, age_skill_ball_control, age_skill_ball_control ** 2, age_skill_dribbling ** 2, age_skill_long_passing, age_skill_long_passing ** 2, club_contract_valid_until_year, club_contract_valid_until_year ** 2, club_rank, club_rank ** 2, defending, fifa_age ** 2, fifa_version ** 2, gk, gk ** 2, height_cm ** 2, international_reputation, international_reputation ** 2, lw ** 2, movement_agility ** 2, movement_reactions ** 2, overall ** 2, player_tags ** 2, potential, release_clause_eur, skill_ball_control, value_eur, value_eur ** 2, wage_eur, year_contract ** 2]</td>\n",
       "    </tr>\n",
       "    <tr>\n",
       "      <th>7</th>\n",
       "      <td>DEFENSIVE MID</td>\n",
       "      <td>2</td>\n",
       "      <td>0.797282</td>\n",
       "      <td>32.827282</td>\n",
       "      <td>[age_attacking_crossing ** 2, age_attacking_short_passing, age_attacking_short_passing ** 2, age_club_rank, age_club_rank ** 2, age_defence, age_defence ** 2, age_defending ** 2, age_defending_sliding_tackle, age_defending_sliding_tackle ** 2, age_dribbling, age_dribbling ** 2, age_international_reputation, age_international_reputation ** 2, age_movement_agility ** 2, age_movement_reactions, age_movement_reactions ** 2, age_passing, age_passing ** 2, age_potential ** 2, age_power_jumping ** 2, age_power_long_shots, age_power_long_shots ** 2, age_power_stamina, age_skill_ball_control, age_skill_ball_control ** 2, age_skill_dribbling ** 2, age_skill_long_passing, age_skill_long_passing ** 2, club_contract_valid_until_year, club_contract_valid_until_year ** 2, club_rank, club_rank ** 2, defending, fifa_age ** 2, fifa_version ** 2, gk, gk ** 2, height_cm ** 2, international_reputation, international_reputation ** 2, lw ** 2, movement_agility ** 2, movement_reactions ** 2, overall ** 2, player_tags ** 2, potential, release_clause_eur, skill_ball_control, value_eur, value_eur ** 2, wage_eur, year_contract ** 2]</td>\n",
       "    </tr>\n",
       "    <tr>\n",
       "      <th>8</th>\n",
       "      <td>ATTACKING MID</td>\n",
       "      <td>1</td>\n",
       "      <td>0.877421</td>\n",
       "      <td>16.674489</td>\n",
       "      <td>[age_attacking_crossing ** 2, age_attacking_short_passing, age_attacking_short_passing ** 2, age_club_rank, age_club_rank ** 2, age_defence, age_defence ** 2, age_defending ** 2, age_defending_sliding_tackle, age_defending_sliding_tackle ** 2, age_dribbling, age_dribbling ** 2, age_international_reputation, age_international_reputation ** 2, age_movement_agility ** 2, age_movement_reactions, age_movement_reactions ** 2, age_passing, age_passing ** 2, age_potential ** 2, age_power_jumping ** 2, age_power_long_shots, age_power_long_shots ** 2, age_power_stamina, age_skill_ball_control, age_skill_ball_control ** 2, age_skill_dribbling ** 2, age_skill_long_passing, age_skill_long_passing ** 2, club_contract_valid_until_year, club_contract_valid_until_year ** 2, club_rank, club_rank ** 2, defending, fifa_age ** 2, fifa_version ** 2, gk, gk ** 2, height_cm ** 2, international_reputation, international_reputation ** 2, lw ** 2, movement_agility ** 2, movement_reactions ** 2, overall ** 2, player_tags ** 2, potential, release_clause_eur, skill_ball_control, value_eur, value_eur ** 2, wage_eur, year_contract ** 2]</td>\n",
       "    </tr>\n",
       "    <tr>\n",
       "      <th>9</th>\n",
       "      <td>ATTACKING MID</td>\n",
       "      <td>2</td>\n",
       "      <td>0.730061</td>\n",
       "      <td>66.555265</td>\n",
       "      <td>[age_attacking_crossing ** 2, age_attacking_short_passing, age_attacking_short_passing ** 2, age_club_rank, age_club_rank ** 2, age_defence, age_defence ** 2, age_defending ** 2, age_defending_sliding_tackle, age_defending_sliding_tackle ** 2, age_dribbling, age_dribbling ** 2, age_international_reputation, age_international_reputation ** 2, age_movement_agility ** 2, age_movement_reactions, age_movement_reactions ** 2, age_passing, age_passing ** 2, age_potential ** 2, age_power_jumping ** 2, age_power_long_shots, age_power_long_shots ** 2, age_power_stamina, age_skill_ball_control, age_skill_ball_control ** 2, age_skill_dribbling ** 2, age_skill_long_passing, age_skill_long_passing ** 2, club_contract_valid_until_year, club_contract_valid_until_year ** 2, club_rank, club_rank ** 2, defending, fifa_age ** 2, fifa_version ** 2, gk, gk ** 2, height_cm ** 2, international_reputation, international_reputation ** 2, lw ** 2, movement_agility ** 2, movement_reactions ** 2, overall ** 2, player_tags ** 2, potential, release_clause_eur, skill_ball_control, value_eur, value_eur ** 2, wage_eur, year_contract ** 2]</td>\n",
       "    </tr>\n",
       "    <tr>\n",
       "      <th>10</th>\n",
       "      <td>STRIKER</td>\n",
       "      <td>1</td>\n",
       "      <td>0.836952</td>\n",
       "      <td>21.293840</td>\n",
       "      <td>[age_attacking_crossing ** 2, age_attacking_short_passing, age_attacking_short_passing ** 2, age_club_rank, age_club_rank ** 2, age_defence, age_defence ** 2, age_defending ** 2, age_defending_sliding_tackle, age_defending_sliding_tackle ** 2, age_dribbling, age_dribbling ** 2, age_international_reputation, age_international_reputation ** 2, age_movement_agility ** 2, age_movement_reactions, age_movement_reactions ** 2, age_passing, age_passing ** 2, age_potential ** 2, age_power_jumping ** 2, age_power_long_shots, age_power_long_shots ** 2, age_power_stamina, age_skill_ball_control, age_skill_ball_control ** 2, age_skill_dribbling ** 2, age_skill_long_passing, age_skill_long_passing ** 2, club_contract_valid_until_year, club_contract_valid_until_year ** 2, club_rank, club_rank ** 2, defending, fifa_age ** 2, fifa_version ** 2, gk, gk ** 2, height_cm ** 2, international_reputation, international_reputation ** 2, lw ** 2, movement_agility ** 2, movement_reactions ** 2, overall ** 2, player_tags ** 2, potential, release_clause_eur, skill_ball_control, value_eur, value_eur ** 2, wage_eur, year_contract ** 2]</td>\n",
       "    </tr>\n",
       "    <tr>\n",
       "      <th>11</th>\n",
       "      <td>STRIKER</td>\n",
       "      <td>2</td>\n",
       "      <td>0.762516</td>\n",
       "      <td>75.951371</td>\n",
       "      <td>[age_attacking_crossing ** 2, age_attacking_short_passing, age_attacking_short_passing ** 2, age_club_rank, age_club_rank ** 2, age_defence, age_defence ** 2, age_defending ** 2, age_defending_sliding_tackle, age_defending_sliding_tackle ** 2, age_dribbling, age_dribbling ** 2, age_international_reputation, age_international_reputation ** 2, age_movement_agility ** 2, age_movement_reactions, age_movement_reactions ** 2, age_passing, age_passing ** 2, age_potential ** 2, age_power_jumping ** 2, age_power_long_shots, age_power_long_shots ** 2, age_power_stamina, age_skill_ball_control, age_skill_ball_control ** 2, age_skill_dribbling ** 2, age_skill_long_passing, age_skill_long_passing ** 2, club_contract_valid_until_year, club_contract_valid_until_year ** 2, club_rank, club_rank ** 2, defending, fifa_age ** 2, fifa_version ** 2, gk, gk ** 2, height_cm ** 2, international_reputation, international_reputation ** 2, lw ** 2, movement_agility ** 2, movement_reactions ** 2, overall ** 2, player_tags ** 2, potential, release_clause_eur, skill_ball_control, value_eur, value_eur ** 2, wage_eur, year_contract ** 2]</td>\n",
       "    </tr>\n",
       "  </tbody>\n",
       "</table>\n",
       "</div>"
      ],
      "text/plain": [
       "         Position  Years Ahead        R²        MSE                                                                                                                                                                                                                                                                                                                                                                                                                                                                                                                                                                                                                                                                                                                                                                                                                                                                                                                                                                                                                                                                                                                                                   Selected Features\n",
       "0              GK            1  0.882681  11.403280                                                                                                                     [age_attacking_crossing ** 2, age_attacking_short_passing, age_attacking_short_passing ** 2, age_club_rank, age_club_rank ** 2, age_defence, age_defence ** 2, age_defending_sliding_tackle, age_defending_sliding_tackle ** 2, age_international_reputation, age_international_reputation ** 2, age_movement_agility ** 2, age_movement_reactions, age_movement_reactions ** 2, age_potential ** 2, age_power_jumping ** 2, age_power_long_shots, age_power_long_shots ** 2, age_power_stamina, age_skill_ball_control, age_skill_ball_control ** 2, age_skill_dribbling ** 2, age_skill_long_passing, age_skill_long_passing ** 2, club_contract_valid_until_year, club_contract_valid_until_year ** 2, club_rank, club_rank ** 2, fifa_age ** 2, fifa_version ** 2, gk, gk ** 2, height_cm ** 2, international_reputation, international_reputation ** 2, lw ** 2, movement_agility ** 2, movement_reactions ** 2, overall ** 2, potential, release_clause_eur, skill_ball_control, value_eur, value_eur ** 2, wage_eur, year_contract ** 2]\n",
       "1              GK            2  0.680711  77.651715                                                                                                                     [age_attacking_crossing ** 2, age_attacking_short_passing, age_attacking_short_passing ** 2, age_club_rank, age_club_rank ** 2, age_defence, age_defence ** 2, age_defending_sliding_tackle, age_defending_sliding_tackle ** 2, age_international_reputation, age_international_reputation ** 2, age_movement_agility ** 2, age_movement_reactions, age_movement_reactions ** 2, age_potential ** 2, age_power_jumping ** 2, age_power_long_shots, age_power_long_shots ** 2, age_power_stamina, age_skill_ball_control, age_skill_ball_control ** 2, age_skill_dribbling ** 2, age_skill_long_passing, age_skill_long_passing ** 2, club_contract_valid_until_year, club_contract_valid_until_year ** 2, club_rank, club_rank ** 2, fifa_age ** 2, fifa_version ** 2, gk, gk ** 2, height_cm ** 2, international_reputation, international_reputation ** 2, lw ** 2, movement_agility ** 2, movement_reactions ** 2, overall ** 2, potential, release_clause_eur, skill_ball_control, value_eur, value_eur ** 2, wage_eur, year_contract ** 2]\n",
       "2              CB            1  0.854498   9.931728  [age_attacking_crossing ** 2, age_attacking_short_passing, age_attacking_short_passing ** 2, age_club_rank, age_club_rank ** 2, age_defence, age_defence ** 2, age_defending ** 2, age_defending_sliding_tackle, age_defending_sliding_tackle ** 2, age_dribbling, age_dribbling ** 2, age_international_reputation, age_international_reputation ** 2, age_movement_agility ** 2, age_movement_reactions, age_movement_reactions ** 2, age_passing, age_passing ** 2, age_potential ** 2, age_power_jumping ** 2, age_power_long_shots, age_power_long_shots ** 2, age_power_stamina, age_skill_ball_control, age_skill_ball_control ** 2, age_skill_dribbling ** 2, age_skill_long_passing, age_skill_long_passing ** 2, club_contract_valid_until_year, club_contract_valid_until_year ** 2, club_rank, club_rank ** 2, defending, fifa_age ** 2, fifa_version ** 2, gk, gk ** 2, height_cm ** 2, international_reputation, international_reputation ** 2, lw ** 2, movement_agility ** 2, movement_reactions ** 2, overall ** 2, player_tags ** 2, potential, release_clause_eur, skill_ball_control, value_eur, value_eur ** 2, wage_eur, year_contract ** 2]\n",
       "3              CB            2  0.654595  44.255602  [age_attacking_crossing ** 2, age_attacking_short_passing, age_attacking_short_passing ** 2, age_club_rank, age_club_rank ** 2, age_defence, age_defence ** 2, age_defending ** 2, age_defending_sliding_tackle, age_defending_sliding_tackle ** 2, age_dribbling, age_dribbling ** 2, age_international_reputation, age_international_reputation ** 2, age_movement_agility ** 2, age_movement_reactions, age_movement_reactions ** 2, age_passing, age_passing ** 2, age_potential ** 2, age_power_jumping ** 2, age_power_long_shots, age_power_long_shots ** 2, age_power_stamina, age_skill_ball_control, age_skill_ball_control ** 2, age_skill_dribbling ** 2, age_skill_long_passing, age_skill_long_passing ** 2, club_contract_valid_until_year, club_contract_valid_until_year ** 2, club_rank, club_rank ** 2, defending, fifa_age ** 2, fifa_version ** 2, gk, gk ** 2, height_cm ** 2, international_reputation, international_reputation ** 2, lw ** 2, movement_agility ** 2, movement_reactions ** 2, overall ** 2, player_tags ** 2, potential, release_clause_eur, skill_ball_control, value_eur, value_eur ** 2, wage_eur, year_contract ** 2]\n",
       "4           RB LB            1  0.748692  11.805013  [age_attacking_crossing ** 2, age_attacking_short_passing, age_attacking_short_passing ** 2, age_club_rank, age_club_rank ** 2, age_defence, age_defence ** 2, age_defending ** 2, age_defending_sliding_tackle, age_defending_sliding_tackle ** 2, age_dribbling, age_dribbling ** 2, age_international_reputation, age_international_reputation ** 2, age_movement_agility ** 2, age_movement_reactions, age_movement_reactions ** 2, age_passing, age_passing ** 2, age_potential ** 2, age_power_jumping ** 2, age_power_long_shots, age_power_long_shots ** 2, age_power_stamina, age_skill_ball_control, age_skill_ball_control ** 2, age_skill_dribbling ** 2, age_skill_long_passing, age_skill_long_passing ** 2, club_contract_valid_until_year, club_contract_valid_until_year ** 2, club_rank, club_rank ** 2, defending, fifa_age ** 2, fifa_version ** 2, gk, gk ** 2, height_cm ** 2, international_reputation, international_reputation ** 2, lw ** 2, movement_agility ** 2, movement_reactions ** 2, overall ** 2, player_tags ** 2, potential, release_clause_eur, skill_ball_control, value_eur, value_eur ** 2, wage_eur, year_contract ** 2]\n",
       "5           RB LB            2  0.676006  34.461316  [age_attacking_crossing ** 2, age_attacking_short_passing, age_attacking_short_passing ** 2, age_club_rank, age_club_rank ** 2, age_defence, age_defence ** 2, age_defending ** 2, age_defending_sliding_tackle, age_defending_sliding_tackle ** 2, age_dribbling, age_dribbling ** 2, age_international_reputation, age_international_reputation ** 2, age_movement_agility ** 2, age_movement_reactions, age_movement_reactions ** 2, age_passing, age_passing ** 2, age_potential ** 2, age_power_jumping ** 2, age_power_long_shots, age_power_long_shots ** 2, age_power_stamina, age_skill_ball_control, age_skill_ball_control ** 2, age_skill_dribbling ** 2, age_skill_long_passing, age_skill_long_passing ** 2, club_contract_valid_until_year, club_contract_valid_until_year ** 2, club_rank, club_rank ** 2, defending, fifa_age ** 2, fifa_version ** 2, gk, gk ** 2, height_cm ** 2, international_reputation, international_reputation ** 2, lw ** 2, movement_agility ** 2, movement_reactions ** 2, overall ** 2, player_tags ** 2, potential, release_clause_eur, skill_ball_control, value_eur, value_eur ** 2, wage_eur, year_contract ** 2]\n",
       "6   DEFENSIVE MID            1  0.883321  14.527190  [age_attacking_crossing ** 2, age_attacking_short_passing, age_attacking_short_passing ** 2, age_club_rank, age_club_rank ** 2, age_defence, age_defence ** 2, age_defending ** 2, age_defending_sliding_tackle, age_defending_sliding_tackle ** 2, age_dribbling, age_dribbling ** 2, age_international_reputation, age_international_reputation ** 2, age_movement_agility ** 2, age_movement_reactions, age_movement_reactions ** 2, age_passing, age_passing ** 2, age_potential ** 2, age_power_jumping ** 2, age_power_long_shots, age_power_long_shots ** 2, age_power_stamina, age_skill_ball_control, age_skill_ball_control ** 2, age_skill_dribbling ** 2, age_skill_long_passing, age_skill_long_passing ** 2, club_contract_valid_until_year, club_contract_valid_until_year ** 2, club_rank, club_rank ** 2, defending, fifa_age ** 2, fifa_version ** 2, gk, gk ** 2, height_cm ** 2, international_reputation, international_reputation ** 2, lw ** 2, movement_agility ** 2, movement_reactions ** 2, overall ** 2, player_tags ** 2, potential, release_clause_eur, skill_ball_control, value_eur, value_eur ** 2, wage_eur, year_contract ** 2]\n",
       "7   DEFENSIVE MID            2  0.797282  32.827282  [age_attacking_crossing ** 2, age_attacking_short_passing, age_attacking_short_passing ** 2, age_club_rank, age_club_rank ** 2, age_defence, age_defence ** 2, age_defending ** 2, age_defending_sliding_tackle, age_defending_sliding_tackle ** 2, age_dribbling, age_dribbling ** 2, age_international_reputation, age_international_reputation ** 2, age_movement_agility ** 2, age_movement_reactions, age_movement_reactions ** 2, age_passing, age_passing ** 2, age_potential ** 2, age_power_jumping ** 2, age_power_long_shots, age_power_long_shots ** 2, age_power_stamina, age_skill_ball_control, age_skill_ball_control ** 2, age_skill_dribbling ** 2, age_skill_long_passing, age_skill_long_passing ** 2, club_contract_valid_until_year, club_contract_valid_until_year ** 2, club_rank, club_rank ** 2, defending, fifa_age ** 2, fifa_version ** 2, gk, gk ** 2, height_cm ** 2, international_reputation, international_reputation ** 2, lw ** 2, movement_agility ** 2, movement_reactions ** 2, overall ** 2, player_tags ** 2, potential, release_clause_eur, skill_ball_control, value_eur, value_eur ** 2, wage_eur, year_contract ** 2]\n",
       "8   ATTACKING MID            1  0.877421  16.674489  [age_attacking_crossing ** 2, age_attacking_short_passing, age_attacking_short_passing ** 2, age_club_rank, age_club_rank ** 2, age_defence, age_defence ** 2, age_defending ** 2, age_defending_sliding_tackle, age_defending_sliding_tackle ** 2, age_dribbling, age_dribbling ** 2, age_international_reputation, age_international_reputation ** 2, age_movement_agility ** 2, age_movement_reactions, age_movement_reactions ** 2, age_passing, age_passing ** 2, age_potential ** 2, age_power_jumping ** 2, age_power_long_shots, age_power_long_shots ** 2, age_power_stamina, age_skill_ball_control, age_skill_ball_control ** 2, age_skill_dribbling ** 2, age_skill_long_passing, age_skill_long_passing ** 2, club_contract_valid_until_year, club_contract_valid_until_year ** 2, club_rank, club_rank ** 2, defending, fifa_age ** 2, fifa_version ** 2, gk, gk ** 2, height_cm ** 2, international_reputation, international_reputation ** 2, lw ** 2, movement_agility ** 2, movement_reactions ** 2, overall ** 2, player_tags ** 2, potential, release_clause_eur, skill_ball_control, value_eur, value_eur ** 2, wage_eur, year_contract ** 2]\n",
       "9   ATTACKING MID            2  0.730061  66.555265  [age_attacking_crossing ** 2, age_attacking_short_passing, age_attacking_short_passing ** 2, age_club_rank, age_club_rank ** 2, age_defence, age_defence ** 2, age_defending ** 2, age_defending_sliding_tackle, age_defending_sliding_tackle ** 2, age_dribbling, age_dribbling ** 2, age_international_reputation, age_international_reputation ** 2, age_movement_agility ** 2, age_movement_reactions, age_movement_reactions ** 2, age_passing, age_passing ** 2, age_potential ** 2, age_power_jumping ** 2, age_power_long_shots, age_power_long_shots ** 2, age_power_stamina, age_skill_ball_control, age_skill_ball_control ** 2, age_skill_dribbling ** 2, age_skill_long_passing, age_skill_long_passing ** 2, club_contract_valid_until_year, club_contract_valid_until_year ** 2, club_rank, club_rank ** 2, defending, fifa_age ** 2, fifa_version ** 2, gk, gk ** 2, height_cm ** 2, international_reputation, international_reputation ** 2, lw ** 2, movement_agility ** 2, movement_reactions ** 2, overall ** 2, player_tags ** 2, potential, release_clause_eur, skill_ball_control, value_eur, value_eur ** 2, wage_eur, year_contract ** 2]\n",
       "10        STRIKER            1  0.836952  21.293840  [age_attacking_crossing ** 2, age_attacking_short_passing, age_attacking_short_passing ** 2, age_club_rank, age_club_rank ** 2, age_defence, age_defence ** 2, age_defending ** 2, age_defending_sliding_tackle, age_defending_sliding_tackle ** 2, age_dribbling, age_dribbling ** 2, age_international_reputation, age_international_reputation ** 2, age_movement_agility ** 2, age_movement_reactions, age_movement_reactions ** 2, age_passing, age_passing ** 2, age_potential ** 2, age_power_jumping ** 2, age_power_long_shots, age_power_long_shots ** 2, age_power_stamina, age_skill_ball_control, age_skill_ball_control ** 2, age_skill_dribbling ** 2, age_skill_long_passing, age_skill_long_passing ** 2, club_contract_valid_until_year, club_contract_valid_until_year ** 2, club_rank, club_rank ** 2, defending, fifa_age ** 2, fifa_version ** 2, gk, gk ** 2, height_cm ** 2, international_reputation, international_reputation ** 2, lw ** 2, movement_agility ** 2, movement_reactions ** 2, overall ** 2, player_tags ** 2, potential, release_clause_eur, skill_ball_control, value_eur, value_eur ** 2, wage_eur, year_contract ** 2]\n",
       "11        STRIKER            2  0.762516  75.951371  [age_attacking_crossing ** 2, age_attacking_short_passing, age_attacking_short_passing ** 2, age_club_rank, age_club_rank ** 2, age_defence, age_defence ** 2, age_defending ** 2, age_defending_sliding_tackle, age_defending_sliding_tackle ** 2, age_dribbling, age_dribbling ** 2, age_international_reputation, age_international_reputation ** 2, age_movement_agility ** 2, age_movement_reactions, age_movement_reactions ** 2, age_passing, age_passing ** 2, age_potential ** 2, age_power_jumping ** 2, age_power_long_shots, age_power_long_shots ** 2, age_power_stamina, age_skill_ball_control, age_skill_ball_control ** 2, age_skill_dribbling ** 2, age_skill_long_passing, age_skill_long_passing ** 2, club_contract_valid_until_year, club_contract_valid_until_year ** 2, club_rank, club_rank ** 2, defending, fifa_age ** 2, fifa_version ** 2, gk, gk ** 2, height_cm ** 2, international_reputation, international_reputation ** 2, lw ** 2, movement_agility ** 2, movement_reactions ** 2, overall ** 2, player_tags ** 2, potential, release_clause_eur, skill_ball_control, value_eur, value_eur ** 2, wage_eur, year_contract ** 2]"
      ]
     },
     "execution_count": 32,
     "metadata": {},
     "output_type": "execute_result"
    }
   ],
   "source": [
    "results_df"
   ]
  }
 ],
 "metadata": {
  "colab": {
   "provenance": []
  },
  "kernelspec": {
   "display_name": "Python 3 (ipykernel)",
   "language": "python",
   "name": "python3"
  },
  "language_info": {
   "codemirror_mode": {
    "name": "ipython",
    "version": 3
   },
   "file_extension": ".py",
   "mimetype": "text/x-python",
   "name": "python",
   "nbconvert_exporter": "python",
   "pygments_lexer": "ipython3",
   "version": "3.10.4"
  }
 },
 "nbformat": 4,
 "nbformat_minor": 1
}
